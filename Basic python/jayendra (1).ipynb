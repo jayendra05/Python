{
 "cells": [
  {
   "cell_type": "code",
   "execution_count": null,
   "metadata": {},
   "outputs": [],
   "source": [
    "\n",
    "def none(l1):\n",
    "    for a in l1:\n",
    "            l1.remove(None)\n",
    "    print(l1)\n",
    "none([\"a\", None, \"b\", None])"
   ]
  },
  {
   "cell_type": "code",
   "execution_count": null,
   "metadata": {},
   "outputs": [],
   "source": [
    "def unlucky(l1):\n",
    "    l1.sort()\n",
    "    for a in l1:\n",
    "        if(a%13==0):\n",
    "            l1.remove(a)\n",
    "    print(l1)\n",
    "unlucky([53, 182, 435, 591, 637])"
   ]
  },
  {
   "cell_type": "code",
   "execution_count": null,
   "metadata": {},
   "outputs": [],
   "source": [
    "def top(l1):\n",
    "    sum1=0\n",
    "    l1.sort()\n",
    "    for a in l1:\n",
    "#         print(\"value is \",a)\n",
    "        if(a==l1[len(l1)-1]):\n",
    "            sum1=0\n",
    "        elif(a!=l1[len(l1)-1]):\n",
    "            a=a+1\n",
    "            sum1=sum1+1\n",
    "        print(sum1)\n",
    "top([3, 4, 5])"
   ]
  },
  {
   "cell_type": "code",
   "execution_count": null,
   "metadata": {},
   "outputs": [],
   "source": [
    "s1 = {1,2,3,4,5}\n",
    "s2 = {10,20,30,1,2}"
   ]
  },
  {
   "cell_type": "code",
   "execution_count": null,
   "metadata": {},
   "outputs": [],
   "source": [
    "s1.add(6)"
   ]
  },
  {
   "cell_type": "code",
   "execution_count": null,
   "metadata": {},
   "outputs": [],
   "source": [
    "s1"
   ]
  },
  {
   "cell_type": "code",
   "execution_count": null,
   "metadata": {},
   "outputs": [],
   "source": [
    "s1.update(s2)"
   ]
  },
  {
   "cell_type": "code",
   "execution_count": null,
   "metadata": {},
   "outputs": [],
   "source": [
    "s2"
   ]
  },
  {
   "cell_type": "code",
   "execution_count": null,
   "metadata": {},
   "outputs": [],
   "source": [
    "s1"
   ]
  },
  {
   "cell_type": "code",
   "execution_count": null,
   "metadata": {},
   "outputs": [],
   "source": [
    "s1.pop()"
   ]
  },
  {
   "cell_type": "code",
   "execution_count": null,
   "metadata": {},
   "outputs": [],
   "source": [
    "l1=[]\n",
    "def countdown(a):\n",
    "    for i in range(0,a+1):\n",
    "        l1.append(i)\n",
    "    l1.sort(reverse=True)\n",
    "    print(l1)\n",
    "countdown(5)"
   ]
  },
  {
   "cell_type": "code",
   "execution_count": null,
   "metadata": {},
   "outputs": [],
   "source": [
    "def factor(l1,x):\n",
    "    l2=[]\n",
    "    l3=[]\n",
    "    for a in l1:\n",
    "        if(x%a==0):\n",
    "            l3.append(a)\n",
    "        else:\n",
    "            l2.append(a)\n",
    "            if(len(l2)==0):\n",
    "                print(\"true\")\n",
    "                break\n",
    "            else:\n",
    "                print(\"false\")\n",
    "                break\n",
    "factor([2, 3, 4], 12)"
   ]
  },
  {
   "cell_type": "code",
   "execution_count": null,
   "metadata": {},
   "outputs": [],
   "source": [
    "def omn(l1,x):\n",
    "    l2=[]\n",
    "    for i in  range(0,len(l1)-1):\n",
    "        l2.append(x in l1[i])\n",
    "    #print(l2)\n",
    "    print(all(l2))\n",
    "omn([[3,4], [8, 3, 2], [3], [9, 3], [5, 3], [4, 3]],3)"
   ]
  },
  {
   "cell_type": "code",
   "execution_count": null,
   "metadata": {},
   "outputs": [],
   "source": [
    "def find_your_val(data,word):\n",
    "    for key,value in enumerate(data):\n",
    "        if value==word:\n",
    "            return key\n",
    "    return \"Invalid\""
   ]
  },
  {
   "cell_type": "code",
   "execution_count": null,
   "metadata": {},
   "outputs": [],
   "source": [
    "def odd(l1):\n",
    "    l2=[]\n",
    "    for i in l1:\n",
    "        if (i%2==0):\n",
    "            a=i-1\n",
    "            l2.append(a)\n",
    "        else:\n",
    "            a=i+1\n",
    "            l2.append(a)\n",
    "    print(l2)\n",
    "odd([1, 2, 3, 4, 5])\n"
   ]
  },
  {
   "cell_type": "code",
   "execution_count": null,
   "metadata": {},
   "outputs": [],
   "source": [
    "def spelling(a):\n",
    "    l1=[]\n",
    "    sum1=a[0]\n",
    "    b=len(a)-1\n",
    "    for i in range(1,len(a)):\n",
    "        l1.append(sum1)\n",
    "        sum1=sum1+a[i]\n",
    "    l1.append(sum1)\n",
    "    print(sum1)\n",
    "    print(l1)\n",
    "spelling(\"bee\")\n"
   ]
  },
  {
   "cell_type": "code",
   "execution_count": null,
   "metadata": {},
   "outputs": [],
   "source": [
    "def filter_1(l1):\n",
    "    l2=[]\n",
    "    print(l1[2])\n",
    "    for i in l1:\n",
    "        a=set(i)\n",
    "        if(len(a)==1):\n",
    "            #print(l1[i])\n",
    "            l2.append(a)\n",
    "    print(l2)\n",
    "filter_1([\"aaaaaa\", \"bc\", \"d\", \"eeee\", \"xyz\"])"
   ]
  },
  {
   "cell_type": "code",
   "execution_count": null,
   "metadata": {},
   "outputs": [],
   "source": [
    "def filter_1(l1):\n",
    "    l2=[]\n",
    "    #print(l1[2])\n",
    "    for i in range(0,len(l1)):\n",
    "        a=set(l1[i])\n",
    "        #print(l1[i])\n",
    "        if(len(a)==1):\n",
    "            #print(l1[i])\n",
    "            l2.append(l1[i])\n",
    "    print(l2)\n",
    "filter_1([\"aaaaaa\", \"bc\", \"d\", \"eeee\", \"xyz\"])"
   ]
  },
  {
   "cell_type": "code",
   "execution_count": null,
   "metadata": {},
   "outputs": [],
   "source": [
    "def four(l1):\n",
    "    for i in l1:\n",
    "        if (len(i)==4):\n",
    "            print(i)\n",
    "four([\"Tomato\", \"Potato\", \"Pair\"])"
   ]
  },
  {
   "cell_type": "code",
   "execution_count": null,
   "metadata": {},
   "outputs": [],
   "source": [
    "def sam(l1):\n",
    "    for i in range(0,len(l1)-1):\n",
    "        print(l1[i] ,\"=>\", l1[i+1])\n",
    "        if(l1[i]==\"Frodo\" and l1[i+1]==\"Sam\"):\n",
    "            print(\"true\")\n",
    "        elif(l1[i]==\"Sam\" and l1[i+1]==\"Frodo\"):\n",
    "            print(\"true\")\n",
    "        else:\n",
    "            print(\"false\")\n",
    "sam([\"jayendra\",\"Frodo\", \"Sam\", \"Gandalf\"])"
   ]
  },
  {
   "cell_type": "code",
   "execution_count": null,
   "metadata": {},
   "outputs": [],
   "source": [
    "def filter_unq(l1):\n",
    "    l2=l1.copy()\n",
    "   # print(l2)\n",
    "    for i in range(0,len(l1)):\n",
    "#         print(len(l1[i]))\n",
    "        a=set(l2[i])\n",
    "#         print(len(a))\n",
    "        if(len(l1[i])==len(a)):\n",
    "            print(l1[i])\n",
    "        #print(a)\n",
    "filter_unq([\"abb\", \"abc\", \"abcdb\", \"aea\", \"bbb\"])    "
   ]
  },
  {
   "cell_type": "code",
   "execution_count": null,
   "metadata": {},
   "outputs": [],
   "source": [
    "def count(l1):\n",
    "    sum1=0\n",
    "    for i in range(0,len(l1)):\n",
    "        #print(i)\n",
    "        sum1=sum1+l1[i].count(1)\n",
    "    print(sum1)\n",
    "count([[1, 1, 1],[0, 0, 1],[1, 1, 1]])"
   ]
  },
  {
   "cell_type": "code",
   "execution_count": null,
   "metadata": {},
   "outputs": [],
   "source": [
    "def pro(l1):\n",
    "    a=sum(l1)\n",
    "    mul=1\n",
    "    for i in l1:\n",
    "        mul=mul*i\n",
    "#         print(mul)\n",
    "    if(mul%a==0):\n",
    "        print(\"true\")\n",
    "    else:\n",
    "        print(\"flase\")\n",
    "pro([2, 4, 2])"
   ]
  },
  {
   "cell_type": "code",
   "execution_count": null,
   "metadata": {},
   "outputs": [],
   "source": [
    "def mirror(l1):\n",
    "    l2=[]\n",
    "    for i in range(0,len(l1)):\n",
    "        l2.append(l1[i])\n",
    "    for i in range(2,-1,-1):\n",
    "        l2.append(l1[i])\n",
    "    print(l2)\n",
    "mirror([0, 2, 4, 6])"
   ]
  },
  {
   "cell_type": "code",
   "execution_count": null,
   "metadata": {},
   "outputs": [],
   "source": [
    "def absolute(l1):\n",
    "    a=sum(l1)\n",
    "    if(a>=0):\n",
    "        print(a)\n",
    "    else:\n",
    "        print(-a)\n",
    "absolute([-3, -4, -10, -2, -3])"
   ]
  },
  {
   "cell_type": "code",
   "execution_count": null,
   "metadata": {},
   "outputs": [],
   "source": [
    "def largest(l1):\n",
    "    l2=[]\n",
    "    for i in range(0,len(l1)):\n",
    "        l2.append(max(l1[i]))\n",
    "    print(l2)\n",
    "largest([[4, 2, 7, 1], [20, 70, 40, 90], [1, 2, 0]])"
   ]
  },
  {
   "cell_type": "code",
   "execution_count": null,
   "metadata": {},
   "outputs": [],
   "source": [
    "def avg(l1):\n",
    "    a=sum(l1)\n",
    "    if(a%len(l1)==0):\n",
    "        print(\"true\")\n",
    "    else:\n",
    "        print(\"flase\")\n",
    "avg([9,2,2,5])"
   ]
  },
  {
   "cell_type": "code",
   "execution_count": null,
   "metadata": {},
   "outputs": [],
   "source": [
    "def name(l1,a):\n",
    "    l2=[]\n",
    "    l3=[]\n",
    "    if(a==\"abb\"):\n",
    "        for i in l1:\n",
    "            if(len(i)<=2):\n",
    "                l2.append(i)\n",
    "        print(l2)\n",
    "    elif(a==\"full\"):\n",
    "        for i in l1:\n",
    "            if(len(i)>3):\n",
    "                l3.append(i)\n",
    "        print(l3)\n",
    "name([\"Arizona\", \"CA\", \"NY\", \"Nevada\"], \"full\")"
   ]
  },
  {
   "cell_type": "code",
   "execution_count": null,
   "metadata": {},
   "outputs": [],
   "source": [
    "def race(l2,l1):\n",
    "    sum1=0\n",
    "    sum2=0\n",
    "    if(l1[2]<l2[0]):\n",
    "        sum1=sum1+1\n",
    "    else:\n",
    "        sum2=sum2+1\n",
    "    if(l1[0]<l2[1]):\n",
    "        sum1=sum1+1\n",
    "    else:\n",
    "        sum2=sum2+1\n",
    "    if(l1[1]<l2[2]):\n",
    "        sum1=sum1+1\n",
    "    else:\n",
    "        sum2=sum2+1\n",
    "    print(\"Maurice wins\",sum1,\" out of 3\")\n",
    "    print(\"Steve wins\",sum2,\"out of 3\")\n",
    "    if(sum1<=2):\n",
    "        print(\"True\")\n",
    "    else:\n",
    "        print(\"False\")\n",
    "    \n",
    "        \n",
    "race([3, 5, 10], [4, 7, 11])"
   ]
  },
  {
   "cell_type": "code",
   "execution_count": null,
   "metadata": {},
   "outputs": [],
   "source": [
    "def odd(l1):\n",
    "    for i in l1:\n",
    "        if(l1.count(i)%2!=0):\n",
    "            return(i)\n",
    "odd([1, 1, 2, -2, 5, 2, 4, 4, -1, -2, 5])"
   ]
  },
  {
   "cell_type": "code",
   "execution_count": null,
   "metadata": {},
   "outputs": [],
   "source": [
    "def sublist(x,y,z):\n",
    "    l1=[]\n",
    "    for i in range(1,x+1):\n",
    "        #print(i)\n",
    "        l1.append([])\n",
    "    for j in range(0,y):\n",
    "       # print(y)\n",
    "        for k in range(0,len(l1)):\n",
    "            l1[k].append(z)\n",
    "    print(l1)\n",
    "sublist(2,4,\"punit\")"
   ]
  },
  {
   "cell_type": "code",
   "execution_count": null,
   "metadata": {},
   "outputs": [],
   "source": [
    "def count(l1):\n",
    "    sum1=0\n",
    "    sum2=0\n",
    "    for i in l1:\n",
    "        if(i>=0):\n",
    "            sum1=sum1+1\n",
    "        else:\n",
    "            sum2=sum2+i\n",
    "    print(\"pos no:\",sum1)\n",
    "    print(\"neg no:\",sum2)\n",
    "count([1, 2, 3, 4, 5, 6, 7, 8, 9, 10, -11, -12, -13, -14, -15])"
   ]
  },
  {
   "cell_type": "code",
   "execution_count": null,
   "metadata": {},
   "outputs": [],
   "source": [
    "def count(l1,a):\n",
    "    sum1=0\n",
    "    for i in range(0,len(l1)):\n",
    "        #print(a)\n",
    "        #print(i)\n",
    "        sum1=sum1+l1[i].count(a)\n",
    "    print(sum1)\n",
    "count([[\"D\", \"E\", \"Y\", \"H\", \"A\", \"D\"],[\"C\", \"B\", \"Z\", \"Y\", \"J\", \"K\"],[\"D\", \"B\", \"C\", \"A\", \"M\", \"N\"],[\"F\", \"G\", \"G\", \"R\", \"S\", \"R\"],\n",
    "      [\"V\", \"X\", \"H\", \"A\", \"S\", \"S\"]],\"D\")"
   ]
  },
  {
   "cell_type": "code",
   "execution_count": null,
   "metadata": {},
   "outputs": [],
   "source": [
    "def remove(l1):\n",
    "    l1.remove(min(l1))\n",
    "    print(l1)\n",
    "remove([1, 2, 3, 4, 5])"
   ]
  },
  {
   "cell_type": "code",
   "execution_count": null,
   "metadata": {},
   "outputs": [],
   "source": [
    "def num(a):\n",
    "    for i in range(0,len(a)):\n",
    "        print(a[i],end=\"\")\n",
    "        a=a.replace(\"a\",\"4\")\n",
    "        a=a.replace(\"o\",\"0\")\n",
    "        a=a.replace(\"e\",\"3\")\n",
    "        a=a.replace(\"i\",\"1\")\n",
    "        a=a.replace(\"s\",\"5\")\n",
    "    print(a)\n",
    "num(\"javascript is cool\")"
   ]
  },
  {
   "cell_type": "code",
   "execution_count": null,
   "metadata": {},
   "outputs": [],
   "source": [
    "a=\"java\"\n",
    "a.replace(\"a\",\"4"
   ]
  },
  {
   "cell_type": "code",
   "execution_count": null,
   "metadata": {},
   "outputs": [],
   "source": [
    "def special(l1):\n",
    "    for i in range(0,len(l1),):\n",
    "        if(i%2==0 and l1[i]%2==0):\n",
    "            return \"true\"\n",
    "        else:\n",
    "            return \"flase\"\n",
    "        if(i%2!=0 and l1[i]%2!=0):\n",
    "            return \"true\"\n",
    "        else:\n",
    "            return \"flase\"\n",
    "special([2, 7, 4, 9, 6, 1, 6, 3])"
   ]
  },
  {
   "cell_type": "code",
   "execution_count": null,
   "metadata": {},
   "outputs": [],
   "source": [
    "def cum(l1):\n",
    "    l2=[]\n",
    "    sum1=0\n",
    "    for i in range(0,len(l1)):\n",
    "        sum1=sum1+l1[i]\n",
    "        l2.append(sum1)\n",
    "    print(l2)\n",
    "cum([1,2,3])"
   ]
  },
  {
   "cell_type": "code",
   "execution_count": null,
   "metadata": {},
   "outputs": [],
   "source": [
    "def index(l1,a):\n",
    "    l2=[]\n",
    "    for i in range(0,len(l1)):\n",
    "        if(l1[i]==a):\n",
    "            l2.append(i)\n",
    "    print(l2)\n",
    "index(\"hello\", \"l\")"
   ]
  },
  {
   "cell_type": "code",
   "execution_count": null,
   "metadata": {},
   "outputs": [],
   "source": [
    "def switch(a):\n",
    "    print(type(a))\n",
    "    if(type(a)==str):\n",
    "        b=slice(1,len(a)-1,1)\n",
    "        c=slice(0,1,1)\n",
    "        d=slice(len(a)-1,len(a),1)\n",
    "        x=a[c]\n",
    "        y=a[b]\n",
    "        z=a[d]\n",
    "        print(type(x))\n",
    "        print(z+y+x)\n",
    "    elif(type(a)==list):\n",
    "        print(\"Incompatible\")\n",
    "    elif(len(a)==1):\n",
    "              print(\"Incompatible\")\n",
    "switch(\"Cat, dog, and mouse.\")"
   ]
  },
  {
   "cell_type": "code",
   "execution_count": null,
   "metadata": {},
   "outputs": [],
   "source": [
    "a=\"jayendra\"\n",
    "b=a[0]\n",
    "c=a[-1]\n",
    "print(a[0])\n",
    "print(a[-1])\n",
    "if(b!=c):\n",
    "    temp=b\n",
    "    b=c\n",
    "    c=temp\n",
    "a=a.replace(a[0],b)\n",
    "a=a.replace(a[-1],c)\n",
    "print(a)"
   ]
  },
  {
   "cell_type": "code",
   "execution_count": null,
   "metadata": {},
   "outputs": [],
   "source": [
    "a = \"jayendra\""
   ]
  },
  {
   "cell_type": "code",
   "execution_count": null,
   "metadata": {},
   "outputs": [],
   "source": [
    "a"
   ]
  },
  {
   "cell_type": "code",
   "execution_count": null,
   "metadata": {},
   "outputs": [],
   "source": [
    "a[-2]"
   ]
  },
  {
   "cell_type": "code",
   "execution_count": 2,
   "metadata": {},
   "outputs": [
    {
     "name": "stdout",
     "output_type": "stream",
     "text": [
      "[1, 2, 3, 4, 5, 6, 7, 8, 9, 0]\n"
     ]
    }
   ],
   "source": [
    "aa=[1, 2, 3, 4, 5, 6, 7, 8, 9, 0]\n",
    "a=str(aa)\n",
    "print(a)"
   ]
  },
  {
   "cell_type": "code",
   "execution_count": 3,
   "metadata": {},
   "outputs": [
    {
     "name": "stdout",
     "output_type": "stream",
     "text": [
      "<class 'str'>\n",
      "]1, 2, 3, 4, 5, 6, 7, 8, 9, 0[\n"
     ]
    }
   ],
   "source": [
    "b=slice(1,len(a)-1,1)\n",
    "c=slice(0,1,1)\n",
    "d=slice(len(a)-1,len(a),1)\n",
    "x=a[c]\n",
    "y=a[b]\n",
    "z=a[d]\n",
    "print(type(x))\n",
    "print(z+y+x)"
   ]
  },
  {
   "cell_type": "code",
   "execution_count": null,
   "metadata": {},
   "outputs": [],
   "source": [
    "def phone(a):\n",
    "    if(len(a)==10):\n",
    "        print(\"(\",a[0],a[1],a[2],\")\",\" \",a[3],a[4],a[5],\"-\",a[6],a[7],a[8],a[9])\n",
    "    else:\n",
    "        print(\"wrong number\")\n",
    "phone([5, 1, 9, 5, 5, 5, 4, 4, 6, 8])"
   ]
  },
  {
   "cell_type": "code",
   "execution_count": null,
   "metadata": {},
   "outputs": [],
   "source": [
    "def phone(a):\n",
    "    b=[]\n",
    "    if(len(a)==10):\n",
    "        for i in range(0,len(a)):\n",
    "            b.append(str(a[i]))\n",
    "        print(b)\n",
    "        c=b[0:3]\n",
    "        d=b[3:6]\n",
    "        e=b[6:10]\n",
    "        x=''.join(c)\n",
    "        y=''.join(d)\n",
    "        z=''.join(e)\n",
    "        print(\"(\",x,\")\",\" \",y,\"-\",z)\n",
    "    else:\n",
    "        print(\"wrong number\")\n",
    "phone([5, 1, 9, 5, 5, 5, 4, 4, 6, 8])"
   ]
  },
  {
   "cell_type": "code",
   "execution_count": null,
   "metadata": {},
   "outputs": [],
   "source": [
    "def upward(a):\n",
    "    for i in range(0,len(a)-1):\n",
    "        print(a[i])\n",
    "        print(a[i+1])\n",
    "        if(a[i]<a[i+1]):\n",
    "            print(\"true\")\n",
    "        else:\n",
    "            print(\"false\")\n",
    "            \n",
    "upward([1, 8, 3, 4])"
   ]
  },
  {
   "cell_type": "code",
   "execution_count": null,
   "metadata": {},
   "outputs": [],
   "source": [
    "a= \"apple\""
   ]
  },
  {
   "cell_type": "code",
   "execution_count": null,
   "metadata": {},
   "outputs": [],
   "source": [
    "for i  in range(1,6):\n",
    "    for j in range(1,i+1):\n",
    "        print(\"*\",end=\" \")\n",
    "    print(\"\\n\")"
   ]
  },
  {
   "cell_type": "code",
   "execution_count": null,
   "metadata": {},
   "outputs": [],
   "source": [
    "for j in range(1,2):\n",
    "    print(j)"
   ]
  },
  {
   "cell_type": "code",
   "execution_count": null,
   "metadata": {},
   "outputs": [],
   "source": [
    "def shared(a,b):\n",
    "    a=a.lower()\n",
    "    b=b.lower()\n",
    "    for i in a:\n",
    "        for j in b:\n",
    "            if(i==j):\n",
    "                print(i,end=\"\")\n",
    "\n",
    "shared(\"house\", \"home\")"
   ]
  },
  {
   "cell_type": "code",
   "execution_count": null,
   "metadata": {},
   "outputs": [],
   "source": [
    "def dice(l1):\n",
    "    for i in range(0,len(l1)-1):\n",
    "        j=i+1\n",
    "        if(l1[len(l1)-2]==1):\n",
    "            l1[len(l1)-1]=l1[len(l1)-1]*0\n",
    "        if(l1[i]==1):\n",
    "            l1[j]=l1[j]*0\n",
    "        elif(l1[i]==6):\n",
    "            l1[j]=l1[j]*2\n",
    "        #elif(l1[len(l1)-2]==1):\n",
    "          #  l1[len(l1)-1]=l1[len(l1)-1]*0\n",
    "    print(\"length:\",len(l1))\n",
    "    print(\"element at:\",l1[len(l1)-1])\n",
    "    print(sum(l1))\n",
    "    \n",
    "dice([6,1,1])"
   ]
  },
  {
   "cell_type": "code",
   "execution_count": null,
   "metadata": {},
   "outputs": [],
   "source": [
    "def black(l1):\n",
    "    b=[]\n",
    "    for i in range(0,len(l1)):\n",
    "        if(l1[i]==\"J\"):\n",
    "            l1.pop(i)\n",
    "            l1.insert(i,10)\n",
    "        elif(l1[i]==\"K\"):\n",
    "            l1.pop(i)\n",
    "            l1.insert(i,10)\n",
    "        elif(l1[i]==\"Q\"):\n",
    "            l1.pop(i)\n",
    "            l1.insert(i,10)            \n",
    "        if(int==type(l1[i])):\n",
    "            b.append(l1[i])\n",
    "    sum_b=sum(b)\n",
    "    for i in range(0,len(l1)):\n",
    "        if(sum_b>13):\n",
    "            if(l1[i]==\"A\"):\n",
    "                l1.pop(i)\n",
    "                l1.insert(i,1)\n",
    "        elif(sum_b<=13):\n",
    "            if(l1[i]==\"A\"):\n",
    "                l1.pop(i)\n",
    "                l1.insert(i,11)\n",
    "    s=sum(l1)\n",
    "    if(s>21):\n",
    "        print(\"True\")\n",
    "    elif(s<=21):\n",
    "        print(\"False\")\n",
    "    print(l1)\n",
    "black([1,10,10,\"A\"])"
   ]
  },
  {
   "cell_type": "code",
   "execution_count": 5,
   "metadata": {},
   "outputs": [
    {
     "name": "stdout",
     "output_type": "stream",
     "text": [
      "[['R', 'S'], ['S', 'S']]\n",
      "Abigail\n"
     ]
    }
   ],
   "source": [
    "def score(l1):\n",
    "    print(l1)\n",
    "    sum_1=0\n",
    "    sum_2=0\n",
    "    for i  in range(0,len(l1)):\n",
    "        #print(l1[i])\n",
    "        if(l1[i]==[\"R\", \"P\"]):\n",
    "            sum_2=sum_2+1\n",
    "        elif(l1[i]==[\"P\", \"R\"]):\n",
    "            sum_1=sum_1+1\n",
    "        elif(l1[i]==[\"R\", \"S\"]):\n",
    "            sum_1=sum_1+1\n",
    "        elif(l1[i]==[\"S\", \"R\"]):\n",
    "            sum_2=sum_2+1\n",
    "        elif(l1[i]==[\"S\", \"P\"]):\n",
    "            sum_1=sum_1+1\n",
    "        elif(l1[i]==[\"P\", \"S\"]):\n",
    "            sum_2=sum_2+1\n",
    "        elif(l1[i]==[\"S\", \"S\"]):\n",
    "            sum_1=sum_1+0\n",
    "            sum_2=sum_2+0\n",
    "        elif(l1[i]==[\"R\", \"R\"]):\n",
    "            sum_2=sum_2+0\n",
    "            sum_1=sum_1+0\n",
    "        elif(l1[i]==[\"P\", \"P\"]):\n",
    "            sum_1=sum_1+0\n",
    "            sum_2=sum_2+0\n",
    "    if(sum_1>sum_2):\n",
    "        print(\"Abigail\")\n",
    "    elif(sum_1==sum_2):\n",
    "        print(\"Tie\")\n",
    "    elif(sum_1<sum_2):\n",
    "        print(\"Benson\")\n",
    "score([[\"R\", \"S\"], [\"S\", \"S\"]])"
   ]
  },
  {
   "cell_type": "code",
   "execution_count": 6,
   "metadata": {},
   "outputs": [
    {
     "name": "stdout",
     "output_type": "stream",
     "text": [
      "Enter the start number: 1\n",
      "Enter the end number5\n",
      "{1: 1, 2: 4, 3: 9, 4: 16, 5: 25}\n"
     ]
    }
   ],
   "source": [
    "d = {}\n",
    "start_value = int(input(\"Enter the start number: \"))\n",
    "end_value = int(input(\"Enter the end number\"))\n",
    "for i in range(start_value,end_value+1):\n",
    "    d[i] = i**2\n",
    "\n",
    "print(d)"
   ]
  },
  {
   "cell_type": "code",
   "execution_count": null,
   "metadata": {},
   "outputs": [],
   "source": [
    "print(d)"
   ]
  },
  {
   "cell_type": "code",
   "execution_count": 8,
   "metadata": {},
   "outputs": [
    {
     "name": "stdout",
     "output_type": "stream",
     "text": [
      "18\n",
      "10\n",
      "health of hero=: 2\n",
      "health of monster=: -6\n",
      "Monster die\n"
     ]
    }
   ],
   "source": [
    "def game(dict1):\n",
    "    hdr=dict1[\"pATT\"]*2-dict1[\"mDEF\"]\n",
    "    mdr=dict1[\"mATT\"]*2-dict1[\"pDEF\"]\n",
    "    print(hdr)\n",
    "    print(mdr)\n",
    "    for i in dict1.items():\n",
    "        if(dict1[\"pHP\"]>0 and dict1[\"mHP\"]>0):\n",
    "            dict1[\"mHP\"]=dict1[\"mHP\"]-hdr\n",
    "            dict1[\"pATT\"]=dict1[\"pATT\"] - 1         \n",
    "            if(dict1[\"mHP\"]>0):\n",
    "                dict1[\"pHP\"]=dict1[\"pHP\"]-mdr\n",
    "                dict1[\"mATT\"]=dict1[\"mATT\"] - 1\n",
    "\n",
    "    for i in range(0,dict1[\"pHP\"]):    \n",
    "        if(dict1[\"pPOT\"]>=0 and dict1[\"mHP\"]>=0 and dict1[\"pHP\"]>0):\n",
    "            dict1[\"pHP\"]=dict1[\"pHP\"]+10 -mdr//2\n",
    "            dict1[\"pPOT\"]=dict1[\"pPOT\"]-1\n",
    "                \n",
    "            \n",
    "    print(\"health of hero=:\",dict1[\"pHP\"])\n",
    "    print(\"health of monster=:\",dict1[\"mHP\"])\n",
    "    \n",
    "    if(dict1[\"mHP\"]<=0):\n",
    "        print(\"Monster die\")\n",
    "    if(dict1[\"pHP\"]<=0):\n",
    "        print(\"Hero die\")   \n",
    "game({\n",
    " \"pHP\": 12,\n",
    "  \"pATT\": 14,\n",
    "  \"pDEF\": 6,\n",
    "  \"pPOT\": 2,\n",
    "  \"mHP\": 30,\n",
    "  \"mATT\": 8,\n",
    "  \"mDEF\": 10})"
   ]
  },
  {
   "cell_type": "code",
   "execution_count": 9,
   "metadata": {},
   "outputs": [
    {
     "name": "stdout",
     "output_type": "stream",
     "text": [
      "['Spot', 'See']\n",
      "the word is ' See ' and  it is friend\n"
     ]
    }
   ],
   "source": [
    "\n",
    "def stranger(a):\n",
    "    c=[]\n",
    "    for i in range(0,len(a)):\n",
    "            b=a.split()\n",
    "    for i in range(0,len(b)):\n",
    "        if(b.count(b[i])>=2):\n",
    "            c.append(b[i])\n",
    "    print((list(set(c))))\n",
    "    for i in range(0,len(b)):\n",
    "        if(b.count(b[i])>=3 and b.count(b[i])==4):\n",
    "            print(\"the word is '\",b[i],\"' and  it is\",\"acquaintance\")\n",
    "            break\n",
    "        if(b.count(b[i])==5):\n",
    "            print(\"the word is '\",b[i],\"' and  it is\",\"friend\")\n",
    "            break\n",
    "stranger(\"See Spot run. See Spot See See jump. Spot likes jumping. See Spot fly.\")"
   ]
  },
  {
   "cell_type": "code",
   "execution_count": 10,
   "metadata": {},
   "outputs": [
    {
     "name": "stdout",
     "output_type": "stream",
     "text": [
      "enter your name:jayendra\n",
      "enter your age:21\n",
      "enter your loc:mumbai\n",
      "enter your stream:science\n",
      "enter your college name:Ratnam college\n",
      " \n",
      " \n",
      " \n",
      "your name is : jayendra\n",
      "your age is: 21\n",
      "your location is: mumbai\n",
      "your stream is: science\n",
      "your college name is: Ratnam college\n"
     ]
    }
   ],
   "source": [
    "def college(name,age,loc,stream,college_name=\"N.E.S college\"):\n",
    "    print(\" \")\n",
    "    print(\" \")\n",
    "    print(\" \")\n",
    "    print(\"your name is :\",name)\n",
    "    print(\"your age is:\",age)\n",
    "    print(\"your location is:\",loc)\n",
    "    print(\"your stream is:\",stream)\n",
    "    \n",
    "    print(\"your college name is:\",college_name)\n",
    "d1=input(\"enter your name:\")\n",
    "d2=int(input(\"enter your age:\"))\n",
    "d3=input(\"enter your loc:\")\n",
    "d4=input(\"enter your stream:\")\n",
    "d5=input(\"enter your college name:\")\n",
    "college(name=d1,age=d2,loc=d3,stream=d4,college_name=d5)"
   ]
  },
  {
   "cell_type": "code",
   "execution_count": null,
   "metadata": {},
   "outputs": [],
   "source": [
    "def person(name,**data):\n",
    "    print(name)\n",
    "    for k,v in data.items():\n",
    "        print(k,v)\n",
    "person(\"abc\",loc='mum',mum=1234)"
   ]
  },
  {
   "cell_type": "code",
   "execution_count": 11,
   "metadata": {},
   "outputs": [
    {
     "name": "stdout",
     "output_type": "stream",
     "text": [
      "KNowlEDgE ITsElf Is power\n"
     ]
    }
   ],
   "source": [
    "def hidden(a):\n",
    "    print(a)\n",
    "    \n",
    "hidden(\"KNowlEDgE ITsElf Is power\")"
   ]
  },
  {
   "cell_type": "code",
   "execution_count": 12,
   "metadata": {},
   "outputs": [
    {
     "name": "stdout",
     "output_type": "stream",
     "text": [
      "MAnprEFeRSToBelIevewhathePreFERStOBetruE\n",
      "['MAnpr', 'EFeRS', 'ToBel', 'Ievew', 'hathe', 'PreFE', 'RStOB', 'etruE']\n",
      "MAnpr EFeRS ToBel Ievew hathe PreFE RStOB etruE\n",
      "['uulll', 'uuluu', 'ulull', 'ullll', 'lllll', 'ulluu', 'uuluu', 'llllu']\n",
      " \n",
      "The Decode word is :  help me.\n"
     ]
    }
   ],
   "source": [
    "def remove(a):\n",
    "    c=[]\n",
    "    sep=\" \"\n",
    "    dic={\"a\": \"uuuuu\",\"b\": \"uuuul\",\"c\": \"uuulu\",\"d\": \"uuull\",\"e\": \"uuluu\",\"f\": \"uulul\",\"g\": \"uullu\",\"h\": \"uulll\",\n",
    "         \"i\": \"uluuu\",\"j\": \"uluul\",\"k\": \"ululu\",\"l\": \"ulull\",\"m\": \"ulluu\",\"n\": \"ullul\",\"o\": \"ulllu\",\"p\": \"ullll\",\n",
    "         \"q\": \"luuuu\",\"r\": \"luuul\",\"s\": \"luulu\",\"t\": \"luull\",\"u\": \"luluu\",\"v\": \"lulul\",\"w\": \"lullu\",\"x\": \"lulll\",\n",
    "         \"y\": \"lluuu\",\"z\": \"lluul\",\".\": \"llllu\",\" \": \"lllll\"}\n",
    "    e=[]\n",
    "    for i in range(0,len(a)):\n",
    "        a=a.replace(\" \", \"\")    #replace space to empty space\n",
    "       \n",
    "    print(a)\n",
    "    st=0\n",
    "    end=st+5\n",
    "   \n",
    "    for j in range(0,len(a)):\n",
    "        b=(a[st:end])\n",
    "        if(len(b)==5):\n",
    "            c.append(b)\n",
    "        st=end\n",
    "        end=end+5\n",
    "       \n",
    "    print(c)\n",
    "    d=sep.join(c)\n",
    "    print(d)\n",
    "   \n",
    "    for k in range(0,len(d)):\n",
    "        if(d[k].islower()==True):\n",
    "            d=d.replace(d[k],\"l\")\n",
    "           \n",
    "    for l in range(0,len(d)):\n",
    "        if(d[l].isupper()==True):\n",
    "            d=d.replace(d[l],\"u\")\n",
    "           \n",
    "    d=list(d.split(\" \"))\n",
    "    print(d)\n",
    "   \n",
    "    for n in d:\n",
    "        for key,val in dic.items():\n",
    "            if val==n:\n",
    "                e.append(key)\n",
    "    f=''.join(e)\n",
    "    print(\" \")\n",
    "    print(\"The Decode word is : \",f)\n",
    "remove(\"MAn prEFeRS To BelIeve what he PreFERS tO Be truE\")\n"
   ]
  },
  {
   "cell_type": "code",
   "execution_count": null,
   "metadata": {},
   "outputs": [],
   "source": [
    "def prime_numbers(user):\n",
    "    l1=[]\n",
    "    mul=1\n",
    "    for i in range(0,1000):\n",
    "        if(i>1):\n",
    "            for j in range(2,i):\n",
    "                if(i%j == 0):\n",
    "                    break\n",
    "            else:\n",
    "                l1.append(i)  \n",
    "    for i in range(0,user):\n",
    "        mul=mul*l1[i]\n",
    "    print(mul)\n",
    "prime_numbers(8)"
   ]
  },
  {
   "cell_type": "code",
   "execution_count": 13,
   "metadata": {},
   "outputs": [
    {
     "name": "stdout",
     "output_type": "stream",
     "text": [
      "untouch\n"
     ]
    }
   ],
   "source": [
    "def untouch(number):\n",
    "    sum1=0\n",
    "    l1=[]\n",
    "    if(number<2):\n",
    "        print(\"invalid number is less than 2\")\n",
    "    elif(number>=2):\n",
    "        b=number**2\n",
    "    for i in range(0,b):\n",
    "        for j in range(1,i):\n",
    "            if(i%j==0):\n",
    "                sum1=sum1+j\n",
    "                if(number==sum1):\n",
    "                    l1.append(\"touch\")\n",
    "                else:\n",
    "                    l1.append(\"untouch\")\n",
    "        \n",
    "        sum1=0\n",
    "    set1=set(l1)\n",
    "    l1=list(set1)\n",
    "    if(len(l1)==1):\n",
    "        print(l1[0])\n",
    "    else:\n",
    "        print(\"touch\")\n",
    "        \n",
    "untouch(2)"
   ]
  },
  {
   "cell_type": "code",
   "execution_count": 14,
   "metadata": {},
   "outputs": [
    {
     "name": "stdout",
     "output_type": "stream",
     "text": [
      "[6, 3, -2, 5, -8, 2, -2]\n",
      "[2, 3, -2, 5, -8, 6, -2]\n"
     ]
    }
   ],
   "source": [
    "def sort(l1):\n",
    "    l2=[]\n",
    "    l3=[]\n",
    "    print(l1)\n",
    "    for i in l1:\n",
    "        if(i>0):\n",
    "            l2.append(i)\n",
    "            l2.sort()\n",
    "        if(i<0):\n",
    "            l3.append(i)\n",
    "    for k in l3:\n",
    "        for j in range(0,len(l1)):\n",
    "            if(l1[j]<0):\n",
    "                l2.insert(j,l1[j])\n",
    "        break\n",
    "    print(l2)\n",
    "sort([6, 3, -2, 5, -8, 2, -2])"
   ]
  },
  {
   "cell_type": "code",
   "execution_count": 15,
   "metadata": {},
   "outputs": [],
   "source": [
    "def brick(a,b,c,w,h):\n",
    "    l2=[]\n",
    "    \n",
    "    \n",
    "brick(1, 1, 1, 1, 1)"
   ]
  },
  {
   "cell_type": "code",
   "execution_count": 16,
   "metadata": {},
   "outputs": [
    {
     "name": "stdout",
     "output_type": "stream",
     "text": [
      "10\n"
     ]
    }
   ],
   "source": [
    "def print_num():\n",
    "    a=10\n",
    "    print(a)\n",
    "print_num()"
   ]
  },
  {
   "cell_type": "code",
   "execution_count": 17,
   "metadata": {},
   "outputs": [
    {
     "name": "stdout",
     "output_type": "stream",
     "text": [
      "[1, 2, 3, 10, 11, 15]\n"
     ]
    },
    {
     "data": {
      "text/plain": [
       "3"
      ]
     },
     "execution_count": 17,
     "metadata": {},
     "output_type": "execute_result"
    }
   ],
   "source": [
    "def longest(l1):\n",
    "    ans=0\n",
    "    l1.sort()\n",
    "    print(l1)\n",
    "    \n",
    "    for i in range(0,len(l1)):\n",
    "        if(l1[i]-1) not in l1:\n",
    "            j=l1[i]\n",
    "            while(j in l1):\n",
    "                j=j+1\n",
    "                ans=max(ans,j-l1[i])\n",
    "                \n",
    "        return(ans)\n",
    "longest([1, 2, 3, 10, 11, 15])"
   ]
  },
  {
   "cell_type": "code",
   "execution_count": 18,
   "metadata": {},
   "outputs": [
    {
     "name": "stdout",
     "output_type": "stream",
     "text": [
      "10\n",
      "x: 10\n"
     ]
    }
   ],
   "source": [
    "def test():  \n",
    "    global x\n",
    "    x=10\n",
    "    print(x)\n",
    "\n",
    "test()\n",
    "print(\"x:\",x)"
   ]
  },
  {
   "cell_type": "code",
   "execution_count": 19,
   "metadata": {},
   "outputs": [
    {
     "name": "stdout",
     "output_type": "stream",
     "text": [
      "[2, 4, 6, 8, 10, 12, 14, 16, 18, 20]\n"
     ]
    }
   ],
   "source": [
    "res=[i for i in range(1,21) if(i%2==0)]\n",
    "print(res)"
   ]
  },
  {
   "cell_type": "code",
   "execution_count": 20,
   "metadata": {},
   "outputs": [
    {
     "name": "stdout",
     "output_type": "stream",
     "text": [
      "['a', 'e', 'a']\n"
     ]
    }
   ],
   "source": [
    "a=\"jayendra\"\n",
    "res=[a[i] for i in range(0,len(a)) if(a[i]=='a' or a[i]=='e' or a[i]=='o' or a[i]=='u' or a[i]=='i')]\n",
    "print(res)"
   ]
  },
  {
   "cell_type": "code",
   "execution_count": 21,
   "metadata": {},
   "outputs": [
    {
     "name": "stdout",
     "output_type": "stream",
     "text": [
      "['a', 'e', 'a']\n"
     ]
    }
   ],
   "source": [
    "a=\"jayendra\"\n",
    "b=['a','i','e','o','u']\n",
    "res=[a[i] for i in range(0,len(a)) if(a[i] in b)]\n",
    "print(res)"
   ]
  },
  {
   "cell_type": "code",
   "execution_count": 22,
   "metadata": {},
   "outputs": [
    {
     "name": "stdout",
     "output_type": "stream",
     "text": [
      "[1.08, 8, 9, 0.01]\n"
     ]
    }
   ],
   "source": [
    "a=[-3.22,1.08,-0.01,-5.66,8,9,0.01]\n",
    "res=[a[i] for i in range(0,len(a)) if(a[i] >0)]\n",
    "print(res)"
   ]
  },
  {
   "cell_type": "code",
   "execution_count": 23,
   "metadata": {},
   "outputs": [
    {
     "name": "stdout",
     "output_type": "stream",
     "text": [
      "[('hello', 5), ('wow', 3), ('goodbye', 7), ('welcome', 7), ('see you', 7)]\n"
     ]
    }
   ],
   "source": [
    "a=[\"hello\" ,\"wow\",'goodbye',\"welcome\",\"see you\"]\n",
    "res=[(a[i],len(a[i])) for i in range(0,len(a))]\n",
    "print(res)"
   ]
  },
  {
   "cell_type": "code",
   "execution_count": 24,
   "metadata": {},
   "outputs": [
    {
     "name": "stdout",
     "output_type": "stream",
     "text": [
      "[10, 20, 30]\n"
     ]
    }
   ],
   "source": [
    "a=[5,10,15,20,30,24,34]\n",
    "res=[a[i] for i in range(0,len(a)) if(a[i]%2==0) if(a[i]%5==0)]\n",
    "print(res)"
   ]
  },
  {
   "cell_type": "code",
   "execution_count": 25,
   "metadata": {},
   "outputs": [
    {
     "name": "stdout",
     "output_type": "stream",
     "text": [
      "{1: 1, 2: 4, 3: 9, 4: 16, 5: 25, 6: 36, 7: 49, 8: 64, 9: 81, 10: 100}\n"
     ]
    }
   ],
   "source": [
    "res={i:i**2 for i in range(1,11)}\n",
    "print(res)"
   ]
  },
  {
   "cell_type": "code",
   "execution_count": 26,
   "metadata": {},
   "outputs": [
    {
     "name": "stdout",
     "output_type": "stream",
     "text": [
      "{'apple': 5, 'mango': 5, 'orange': 6, 'pineapple': 9}\n"
     ]
    }
   ],
   "source": [
    "a=['apple','mango','orange','pineapple']\n",
    "res={a[i]:len(a[i]) for i in range(0,len(a))}\n",
    "print(res)"
   ]
  },
  {
   "cell_type": "code",
   "execution_count": 27,
   "metadata": {},
   "outputs": [
    {
     "name": "stdout",
     "output_type": "stream",
     "text": [
      "{'P': 'p', 'R': 'r', 'O': 'o', 'G': 'g', 'A': 'a', 'M': 'm', 'I': 'i', 'N': 'n'}\n"
     ]
    }
   ],
   "source": [
    "a='programming'\n",
    "res={a[i].upper():a[i].lower() for i in range(0,len(a))}\n",
    "print(res)"
   ]
  },
  {
   "cell_type": "code",
   "execution_count": 28,
   "metadata": {},
   "outputs": [
    {
     "data": {
      "text/plain": [
       "120"
      ]
     },
     "execution_count": 28,
     "metadata": {},
     "output_type": "execute_result"
    }
   ],
   "source": [
    "def factorial(num):\n",
    "    if (num == 1 or num==0):\n",
    "        return num\n",
    "    else:\n",
    "        return num * factorial(num - 1)\n",
    "factorial(5)"
   ]
  },
  {
   "cell_type": "code",
   "execution_count": 29,
   "metadata": {},
   "outputs": [
    {
     "name": "stdout",
     "output_type": "stream",
     "text": [
      "1\n",
      "2\n",
      "3\n",
      "4\n",
      "5\n"
     ]
    }
   ],
   "source": [
    "def print_no(n):\n",
    "    if(n>0):\n",
    "        print_no(n-1)\n",
    "        print(n)\n",
    "print_no(5)"
   ]
  },
  {
   "cell_type": "code",
   "execution_count": 30,
   "metadata": {},
   "outputs": [
    {
     "name": "stdout",
     "output_type": "stream",
     "text": [
      "message is: hi\n"
     ]
    }
   ],
   "source": [
    "def logger(msg):\n",
    "    def inner_logger():\n",
    "        print(\"message is:\",msg)\n",
    "    return inner_logger\n",
    "res=logger(\"hi\")\n",
    "res()"
   ]
  },
  {
   "cell_type": "code",
   "execution_count": 31,
   "metadata": {},
   "outputs": [
    {
     "name": "stdout",
     "output_type": "stream",
     "text": [
      "1\n",
      "10\n"
     ]
    },
    {
     "data": {
      "text/plain": [
       "11"
      ]
     },
     "execution_count": 31,
     "metadata": {},
     "output_type": "execute_result"
    }
   ],
   "source": [
    "def f1(a):\n",
    "    def f2(b):\n",
    "        print(a)\n",
    "        print(b)\n",
    "        return a+b\n",
    "    \n",
    "    return f2\n",
    "val=f1(1)\n",
    "val(10)"
   ]
  },
  {
   "cell_type": "code",
   "execution_count": 32,
   "metadata": {},
   "outputs": [
    {
     "data": {
      "text/plain": [
       "3"
      ]
     },
     "execution_count": 32,
     "metadata": {},
     "output_type": "execute_result"
    }
   ],
   "source": [
    "def fun1(a):\n",
    "    def fun2(b):\n",
    "        return a+b\n",
    "    def fun3(c):\n",
    "        return a+c\n",
    "    return fun2,fun3\n",
    "res1,res2=fun1(1)\n",
    "res1(2)"
   ]
  },
  {
   "cell_type": "code",
   "execution_count": 33,
   "metadata": {},
   "outputs": [
    {
     "data": {
      "text/plain": [
       "4"
      ]
     },
     "execution_count": 33,
     "metadata": {},
     "output_type": "execute_result"
    }
   ],
   "source": [
    "res2(3)"
   ]
  },
  {
   "cell_type": "code",
   "execution_count": 34,
   "metadata": {},
   "outputs": [
    {
     "name": "stdout",
     "output_type": "stream",
     "text": [
      "['__add__', '__class__', '__contains__', '__delattr__', '__delitem__', '__dir__', '__doc__', '__eq__', '__format__', '__ge__', '__getattribute__', '__getitem__', '__gt__', '__hash__', '__iadd__', '__imul__', '__init__', '__init_subclass__', '__iter__', '__le__', '__len__', '__lt__', '__mul__', '__ne__', '__new__', '__reduce__', '__reduce_ex__', '__repr__', '__reversed__', '__rmul__', '__setattr__', '__setitem__', '__sizeof__', '__str__', '__subclasshook__', 'append', 'clear', 'copy', 'count', 'extend', 'index', 'insert', 'pop', 'remove', 'reverse', 'sort']\n"
     ]
    }
   ],
   "source": [
    "l=[1,2,3,4]\n",
    "print(dir(l))"
   ]
  },
  {
   "cell_type": "code",
   "execution_count": 35,
   "metadata": {},
   "outputs": [
    {
     "name": "stdout",
     "output_type": "stream",
     "text": [
      "['__class__', '__delattr__', '__dir__', '__doc__', '__eq__', '__format__', '__ge__', '__getattribute__', '__gt__', '__hash__', '__init__', '__init_subclass__', '__iter__', '__le__', '__length_hint__', '__lt__', '__ne__', '__new__', '__next__', '__reduce__', '__reduce_ex__', '__repr__', '__setattr__', '__setstate__', '__sizeof__', '__str__', '__subclasshook__']\n"
     ]
    }
   ],
   "source": [
    "my_iter=iter(l)\n",
    "print(dir(my_iter))"
   ]
  },
  {
   "cell_type": "code",
   "execution_count": 36,
   "metadata": {},
   "outputs": [
    {
     "data": {
      "text/plain": [
       "1"
      ]
     },
     "execution_count": 36,
     "metadata": {},
     "output_type": "execute_result"
    }
   ],
   "source": [
    "next(my_iter)"
   ]
  },
  {
   "cell_type": "code",
   "execution_count": null,
   "metadata": {},
   "outputs": [],
   "source": []
  },
  {
   "cell_type": "code",
   "execution_count": null,
   "metadata": {},
   "outputs": [],
   "source": []
  },
  {
   "cell_type": "code",
   "execution_count": 37,
   "metadata": {},
   "outputs": [
    {
     "name": "stdout",
     "output_type": "stream",
     "text": [
      "7\n"
     ]
    }
   ],
   "source": [
    "x = 7\n",
    "y = x\n",
    "x = 100\n",
    "print(y)"
   ]
  },
  {
   "cell_type": "code",
   "execution_count": 38,
   "metadata": {},
   "outputs": [
    {
     "data": {
      "text/plain": [
       "False"
      ]
     },
     "execution_count": 38,
     "metadata": {},
     "output_type": "execute_result"
    }
   ],
   "source": [
    "a = \"python is cool\"\n",
    "b = \"python is cool\"\n",
    "a is b"
   ]
  },
  {
   "cell_type": "code",
   "execution_count": 39,
   "metadata": {},
   "outputs": [
    {
     "name": "stdout",
     "output_type": "stream",
     "text": [
      "2730589631344\n",
      "2730589631632\n"
     ]
    },
    {
     "data": {
      "text/plain": [
       "False"
      ]
     },
     "execution_count": 39,
     "metadata": {},
     "output_type": "execute_result"
    }
   ],
   "source": [
    "a = 257\n",
    "b = 257\n",
    "print(id(a))\n",
    "print(id(b))\n",
    "a is b"
   ]
  },
  {
   "cell_type": "code",
   "execution_count": 40,
   "metadata": {},
   "outputs": [
    {
     "name": "stdout",
     "output_type": "stream",
     "text": [
      "2730518773824\n",
      "2730518773824\n"
     ]
    },
    {
     "data": {
      "text/plain": [
       "True"
      ]
     },
     "execution_count": 40,
     "metadata": {},
     "output_type": "execute_result"
    }
   ],
   "source": [
    "t = ()\n",
    "t1 = ()\n",
    "print(id(t))\n",
    "print(id(t1))\n",
    "t is t1"
   ]
  },
  {
   "cell_type": "code",
   "execution_count": 41,
   "metadata": {},
   "outputs": [],
   "source": [
    "t2 = (1,)\n",
    "t3 = (1,)"
   ]
  },
  {
   "cell_type": "code",
   "execution_count": 42,
   "metadata": {},
   "outputs": [
    {
     "data": {
      "text/plain": [
       "False"
      ]
     },
     "execution_count": 42,
     "metadata": {},
     "output_type": "execute_result"
    }
   ],
   "source": [
    "t2 is t3"
   ]
  },
  {
   "cell_type": "code",
   "execution_count": 43,
   "metadata": {},
   "outputs": [
    {
     "name": "stdout",
     "output_type": "stream",
     "text": [
      "2730588610768\n",
      "2730588610912\n"
     ]
    }
   ],
   "source": [
    "print(id(t3))\n",
    "print(id(t2))"
   ]
  },
  {
   "cell_type": "code",
   "execution_count": 44,
   "metadata": {},
   "outputs": [
    {
     "name": "stdout",
     "output_type": "stream",
     "text": [
      "<generator object my_range at 0x0000027BC3D42270>\n"
     ]
    }
   ],
   "source": [
    "def my_range(start,end):\n",
    "    current=start\n",
    "    while(current<end):\n",
    "        yield current\n",
    "        current=current+1\n",
    "res=my_range(1,10)\n",
    "print(res)"
   ]
  },
  {
   "cell_type": "code",
   "execution_count": 45,
   "metadata": {},
   "outputs": [
    {
     "name": "stdout",
     "output_type": "stream",
     "text": [
      "1\n",
      "2\n",
      "3\n",
      "4\n",
      "5\n",
      "6\n",
      "7\n",
      "8\n",
      "9\n"
     ]
    }
   ],
   "source": [
    "for data in res:\n",
    "    print(data)"
   ]
  },
  {
   "cell_type": "code",
   "execution_count": 46,
   "metadata": {},
   "outputs": [],
   "source": [
    "import itertools as it\n",
    "res = it.count(100)"
   ]
  },
  {
   "cell_type": "code",
   "execution_count": 47,
   "metadata": {},
   "outputs": [
    {
     "name": "stdout",
     "output_type": "stream",
     "text": [
      "100\n"
     ]
    }
   ],
   "source": [
    "print(next(res))"
   ]
  },
  {
   "cell_type": "code",
   "execution_count": 48,
   "metadata": {},
   "outputs": [
    {
     "name": "stdout",
     "output_type": "stream",
     "text": [
      "<zip object at 0x0000027BC3D4DE40>\n",
      "(1, 10)\n",
      "(2, 20)\n",
      "(3, 30)\n",
      "(4, 40)\n"
     ]
    }
   ],
   "source": [
    "l1=[1,2,3,4]\n",
    "l2=[10,20,30,40]\n",
    "res=zip(l1,l2)\n",
    "print(res)\n",
    "# print(list(res))\n",
    "for i in res:\n",
    "    print(i)"
   ]
  },
  {
   "cell_type": "code",
   "execution_count": 49,
   "metadata": {},
   "outputs": [
    {
     "name": "stdout",
     "output_type": "stream",
     "text": [
      "[(0, 10), (1, 20), (2, 30), (3, 40), (4, 50)]\n"
     ]
    }
   ],
   "source": [
    "import itertools as it\n",
    "data=[10,20,30,40,50]\n",
    "counter=it.count(0)\n",
    "res=zip(counter,data)\n",
    "print(list(res))"
   ]
  },
  {
   "cell_type": "code",
   "execution_count": 50,
   "metadata": {},
   "outputs": [
    {
     "ename": "TypeError",
     "evalue": "f1() missing 1 required positional argument: 'a'",
     "output_type": "error",
     "traceback": [
      "\u001b[1;31m---------------------------------------------------------------------------\u001b[0m",
      "\u001b[1;31mTypeError\u001b[0m                                 Traceback (most recent call last)",
      "\u001b[1;32m<ipython-input-50-43e4c740f5a9>\u001b[0m in \u001b[0;36m<module>\u001b[1;34m\u001b[0m\n\u001b[0;32m      6\u001b[0m \u001b[1;33m\u001b[0m\u001b[0m\n\u001b[0;32m      7\u001b[0m     \u001b[1;32mreturn\u001b[0m \u001b[0mf2\u001b[0m\u001b[1;33m\u001b[0m\u001b[1;33m\u001b[0m\u001b[0m\n\u001b[1;32m----> 8\u001b[1;33m \u001b[0mval\u001b[0m\u001b[1;33m=\u001b[0m\u001b[0mf1\u001b[0m\u001b[1;33m(\u001b[0m\u001b[1;33m)\u001b[0m\u001b[1;33m\u001b[0m\u001b[1;33m\u001b[0m\u001b[0m\n\u001b[0m\u001b[0;32m      9\u001b[0m \u001b[0mval\u001b[0m\u001b[1;33m(\u001b[0m\u001b[1;36m10\u001b[0m\u001b[1;33m)\u001b[0m\u001b[1;33m\u001b[0m\u001b[1;33m\u001b[0m\u001b[0m\n",
      "\u001b[1;31mTypeError\u001b[0m: f1() missing 1 required positional argument: 'a'"
     ]
    }
   ],
   "source": [
    "def f1(a):\n",
    "    def f2(b):\n",
    "        print(a)\n",
    "        print(b)\n",
    "        print(a+b)\n",
    "    \n",
    "    return f2\n",
    "val=f1()\n",
    "val(10)"
   ]
  },
  {
   "cell_type": "code",
   "execution_count": 51,
   "metadata": {},
   "outputs": [
    {
     "name": "stdout",
     "output_type": "stream",
     "text": [
      "[1, 3, 6, 10]\n"
     ]
    }
   ],
   "source": [
    "def logger(l1):\n",
    "    def inner_logger():\n",
    "        sum1=0\n",
    "        l2=[]\n",
    "        for i in range(0,len(l1)):\n",
    "            sum1=sum1+l1[i]\n",
    "            l2.append(sum1)\n",
    "        print(l2)\n",
    "    return inner_logger\n",
    "res=logger([1,2,3,4])\n",
    "res()"
   ]
  },
  {
   "cell_type": "code",
   "execution_count": 52,
   "metadata": {},
   "outputs": [
    {
     "name": "stdout",
     "output_type": "stream",
     "text": [
      "[[2, 4, 6], [1, 3, 5]]\n"
     ]
    }
   ],
   "source": [
    "def logger(l1):\n",
    "    def inner_logger():\n",
    "        l2=[]\n",
    "        l3=[]\n",
    "        l4=[]\n",
    "        for i in range(0,len(l1)):\n",
    "            if(l1[i]%2==0):\n",
    "                l2.append(l1[i])\n",
    "            else:\n",
    "                l3.append(l1[i])\n",
    "        l4.append(l2)\n",
    "        l4.append(l3)\n",
    "        print(l4)\n",
    "    return inner_logger\n",
    "res=logger([1,2,3,4,5,6])\n",
    "res()"
   ]
  },
  {
   "cell_type": "code",
   "execution_count": 53,
   "metadata": {},
   "outputs": [
    {
     "name": "stdout",
     "output_type": "stream",
     "text": [
      "[[0, 1, 1], [1, 0, 1], [1, 1, 0]]\n"
     ]
    }
   ],
   "source": [
    "def logger(l1):\n",
    "    def inner_logger():\n",
    "        for i in range(0,len(l1)):\n",
    "            for j in range(0,len(l1[i])):\n",
    "                if(l1[i][j]==1):\n",
    "                    l1[i][j]=0\n",
    "                else:\n",
    "                    l1[i][j]=1\n",
    "        print(l1)\n",
    "    return inner_logger\n",
    "res=logger([[1, 0, 0],[0, 1, 0],[0, 0, 1]])\n",
    "res()"
   ]
  },
  {
   "cell_type": "code",
   "execution_count": 54,
   "metadata": {},
   "outputs": [
    {
     "name": "stdout",
     "output_type": "stream",
     "text": [
      "neither\n"
     ]
    }
   ],
   "source": [
    "num=134\n",
    "sum1=0\n",
    "num=str(num)\n",
    "for i in num:\n",
    "    i=int(i)\n",
    "    sum1=sum1+i\n",
    "num=int(num)    \n",
    "ran=int(num/sum1)  \n",
    "if ran>0:\n",
    "    for i in range(2,ran):              \n",
    "        if(ran%i)==0:\n",
    "            break\n",
    "    else:\n",
    "        print(\"M\")\n",
    "if(num%sum1==0):\n",
    "    print(\"H\")\n",
    "else:\n",
    "    print(\"neither\")"
   ]
  },
  {
   "cell_type": "code",
   "execution_count": 1,
   "metadata": {},
   "outputs": [
    {
     "name": "stdout",
     "output_type": "stream",
     "text": [
      "Enter number of Record you want to enter : 2\n",
      "Enter student name : jayendra\n",
      "Enter marks of maths : 80\n",
      "Enter marks of physic : 75\n",
      "Enter marks of Chemistry : 66\n",
      "Enter student name : Chandan\n",
      "Enter marks of maths : 89\n",
      "Enter marks of physic : 98\n",
      "Enter marks of Chemistry : 75\n",
      "Enter name of you want average : jayendra\n",
      "{'jayendra': [80, 75, 66], 'Chandan': [89, 98, 75]}\n",
      "jayendra\n",
      "Average of student is :  73.66666666666667\n"
     ]
    }
   ],
   "source": [
    "score={}\n",
    "l1=[]\n",
    "no_std=int(input(\"Enter number of Record you want to enter : \"))\n",
    "for i in range(0,no_std):\n",
    "    name=str(input(\"Enter student name : \"))\n",
    "    maths=int(input(\"Enter marks of maths : \"))\n",
    "    physic=int(input(\"Enter marks of physic : \"))\n",
    "    chemistry=int(input(\"Enter marks of Chemistry : \"))\n",
    "    l1.append(maths)\n",
    "    l1.append(physic)\n",
    "    l1.append(chemistry)\n",
    "    score.update({name:l1})\n",
    "    l1=[]\n",
    "name1=input(\"Enter name of student you want average : \")\n",
    "print(score)\n",
    "print(name1)\n",
    "if(name1 in score.keys()):\n",
    "    val=score[name1]\n",
    "    avg=sum(val)/3\n",
    "    print(\"Average of student is : \",avg)\n",
    "else:\n",
    "    print(\"Student is not present in the record\")"
   ]
  },
  {
   "cell_type": "code",
   "execution_count": null,
   "metadata": {},
   "outputs": [],
   "source": [
    "data=open('abc.txt','r')\n",
    "print(data.read(12))\n",
    "data.close()\n",
    "print(data.name)\n",
    "print(data.mode)\n"
   ]
  },
  {
   "cell_type": "code",
   "execution_count": null,
   "metadata": {},
   "outputs": [],
   "source": [
    "with open('abc.txt','r')as data:\n",
    "    print(data.read())"
   ]
  },
  {
   "cell_type": "code",
   "execution_count": null,
   "metadata": {},
   "outputs": [],
   "source": [
    "with open('abc.txt','r')as data:\n",
    "    print(data.readline())\n",
    "    print(data.readline())"
   ]
  },
  {
   "cell_type": "code",
   "execution_count": null,
   "metadata": {},
   "outputs": [],
   "source": [
    "with open('abc.txt','r')as data:\n",
    "    a=data.readlines()\n",
    "    print(a)\n",
    "    print(type(a))"
   ]
  },
  {
   "cell_type": "code",
   "execution_count": null,
   "metadata": {},
   "outputs": [],
   "source": [
    "with open('abc.txt','r') as data:\n",
    "    for i in data:\n",
    "        print(i)"
   ]
  },
  {
   "cell_type": "code",
   "execution_count": null,
   "metadata": {},
   "outputs": [],
   "source": [
    "with open('jayendra.txt','w') as data:\n",
    "    data.write(\"this is python.\")\n",
    "    data.write(\"\\n\")\n",
    "    data.write(\"python is programming language\")"
   ]
  },
  {
   "cell_type": "code",
   "execution_count": null,
   "metadata": {},
   "outputs": [],
   "source": []
  }
 ],
 "metadata": {
  "kernelspec": {
   "display_name": "Python 3",
   "language": "python",
   "name": "python3"
  },
  "language_info": {
   "codemirror_mode": {
    "name": "ipython",
    "version": 3
   },
   "file_extension": ".py",
   "mimetype": "text/x-python",
   "name": "python",
   "nbconvert_exporter": "python",
   "pygments_lexer": "ipython3",
   "version": "3.8.5"
  }
 },
 "nbformat": 4,
 "nbformat_minor": 2
}

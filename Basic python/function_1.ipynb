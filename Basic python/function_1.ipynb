{
 "cells": [
  {
   "cell_type": "code",
   "execution_count": 7,
   "metadata": {},
   "outputs": [],
   "source": [
    "a = 2"
   ]
  },
  {
   "cell_type": "code",
   "execution_count": 8,
   "metadata": {},
   "outputs": [
    {
     "data": {
      "text/plain": [
       "140721072808368"
      ]
     },
     "execution_count": 8,
     "metadata": {},
     "output_type": "execute_result"
    }
   ],
   "source": [
    "id(a)"
   ]
  },
  {
   "cell_type": "code",
   "execution_count": 9,
   "metadata": {},
   "outputs": [
    {
     "name": "stdout",
     "output_type": "stream",
     "text": [
      "enter a no1:2\n",
      "enter a no2:4\n",
      "6\n"
     ]
    }
   ],
   "source": [
    "def add(a,b):\n",
    "    res = a+b\n",
    "    print(res)\n",
    "no1=int(input(\"enter a no1:\"))\n",
    "no2=int(input(\"enter a no2:\"))\n",
    "add(no1,no2)"
   ]
  },
  {
   "cell_type": "code",
   "execution_count": 10,
   "metadata": {},
   "outputs": [
    {
     "name": "stdout",
     "output_type": "stream",
     "text": [
      "enter your name:bhavesh\n",
      "enter your age: 19\n",
      "name is : bhavesh\n",
      "age is : 19\n"
     ]
    }
   ],
   "source": [
    "def greet(name,age):\n",
    "    print(\"name is :\",name)\n",
    "    print(\"age is :\",age)\n",
    "d1=input(\"enter your name:\")\n",
    "d2=input(\"enter your age: \")\n",
    "greet(d1,d2)"
   ]
  },
  {
   "cell_type": "code",
   "execution_count": 1,
   "metadata": {},
   "outputs": [
    {
     "name": "stdout",
     "output_type": "stream",
     "text": [
      "name is : test\n",
      "age is : 18\n"
     ]
    }
   ],
   "source": [
    "def greet(name,age=18):\n",
    "    print(\"name is :\",name)\n",
    "    print(\"age is :\",age)\n",
    "greet(\"test\")    "
   ]
  },
  {
   "cell_type": "code",
   "execution_count": 4,
   "metadata": {},
   "outputs": [
    {
     "name": "stdout",
     "output_type": "stream",
     "text": [
      "your name is :  chandan\n",
      "your age is :  20\n",
      "your loc is :  mumbai\n"
     ]
    }
   ],
   "source": [
    "def greet(n=\"jayendra\",a=20,l=\"mumbai\"):\n",
    "    print(\"your name is : \",n)\n",
    "    print(\"your age is : \",a)\n",
    "    print(\"your loc is : \",l)\n",
    "greet(\"chandan\")"
   ]
  },
  {
   "cell_type": "code",
   "execution_count": 8,
   "metadata": {},
   "outputs": [
    {
     "name": "stdout",
     "output_type": "stream",
     "text": [
      "addition is :  55\n"
     ]
    }
   ],
   "source": [
    "def add(*a):\n",
    "    c=0\n",
    "    for i in a:\n",
    "        c=c+i\n",
    "    print(\"addition is : \",c)\n",
    "add(1,2,3,4,5,6,7,8,9,10)"
   ]
  },
  {
   "cell_type": "code",
   "execution_count": 2,
   "metadata": {},
   "outputs": [
    {
     "name": "stdout",
     "output_type": "stream",
     "text": [
      "mul is :  3628800\n"
     ]
    }
   ],
   "source": [
    "def mul(*a):\n",
    "    c=1\n",
    "    for i in a:\n",
    "        c=c*i\n",
    "    print(\"mul is : \",c)\n",
    "    \n",
    "mul(1,2,3,4,5,6,7,8,9,10)"
   ]
  },
  {
   "cell_type": "code",
   "execution_count": 12,
   "metadata": {},
   "outputs": [
    {
     "name": "stdout",
     "output_type": "stream",
     "text": [
      "key is  name  and  value is  jayendra\n",
      "key is  loc  and  value is  mumbai\n"
     ]
    }
   ],
   "source": [
    "def data(**a):\n",
    "    for k,v in a.items():\n",
    "        print(\"key is \",k,\" and \",\"value is \",v)\n",
    "data(name=\"jayendra\",loc=\"mumbai\")"
   ]
  },
  {
   "cell_type": "code",
   "execution_count": 18,
   "metadata": {},
   "outputs": [
    {
     "name": "stdout",
     "output_type": "stream",
     "text": [
      "chandan\n",
      "jayendra\n"
     ]
    }
   ],
   "source": [
    "a=\"jayendra\"\n",
    "def data():\n",
    "    b=\"chandan\"\n",
    "    print(b)\n",
    "data()\n",
    "print(a)"
   ]
  },
  {
   "cell_type": "code",
   "execution_count": 2,
   "metadata": {},
   "outputs": [
    {
     "name": "stdout",
     "output_type": "stream",
     "text": [
      "chandan\n"
     ]
    }
   ],
   "source": [
    "def data():\n",
    "    b=\"chandan\"\n",
    "    print(b)\n",
    "data()"
   ]
  },
  {
   "cell_type": "code",
   "execution_count": 4,
   "metadata": {},
   "outputs": [
    {
     "data": {
      "text/plain": [
       "9"
      ]
     },
     "execution_count": 4,
     "metadata": {},
     "output_type": "execute_result"
    }
   ],
   "source": [
    "sqr=lambda x:x*x\n",
    "sqr(3)"
   ]
  },
  {
   "cell_type": "code",
   "execution_count": 5,
   "metadata": {},
   "outputs": [
    {
     "data": {
      "text/plain": [
       "6"
      ]
     },
     "execution_count": 5,
     "metadata": {},
     "output_type": "execute_result"
    }
   ],
   "source": [
    "mult=lambda x,y:x*y\n",
    "mult(2,3)"
   ]
  },
  {
   "cell_type": "code",
   "execution_count": 8,
   "metadata": {},
   "outputs": [
    {
     "name": "stdout",
     "output_type": "stream",
     "text": [
      "1\n",
      "4\n",
      "9\n",
      "16\n"
     ]
    }
   ],
   "source": [
    "a=[1,2,3,4]\n",
    "res=map(lambda x:x*x,a)\n",
    "# print(list(res))\n",
    "for i in res:\n",
    "    print(i)"
   ]
  },
  {
   "cell_type": "code",
   "execution_count": 10,
   "metadata": {},
   "outputs": [
    {
     "name": "stdout",
     "output_type": "stream",
     "text": [
      "4\n",
      "9\n",
      "25\n",
      "36\n"
     ]
    }
   ],
   "source": [
    "b=[2,3,5,6]\n",
    "art=map(lambda x:x*x,b)\n",
    "for r in art:\n",
    "    print(r)"
   ]
  },
  {
   "cell_type": "code",
   "execution_count": 11,
   "metadata": {},
   "outputs": [
    {
     "name": "stdout",
     "output_type": "stream",
     "text": [
      "[2, 4, 6]\n"
     ]
    }
   ],
   "source": [
    "b=[1,2,3,4,5,6]\n",
    "res=filter(lambda x:x%2==0,b)\n",
    "print(list(res))"
   ]
  },
  {
   "cell_type": "code",
   "execution_count": 12,
   "metadata": {},
   "outputs": [
    {
     "name": "stdout",
     "output_type": "stream",
     "text": [
      "6\n",
      "9\n",
      "12\n"
     ]
    }
   ],
   "source": [
    "c=[4,6,7,9,12]\n",
    "ser=filter(lambda a:a%3==0,c)\n",
    "for a in ser:\n",
    "    print(a)"
   ]
  },
  {
   "cell_type": "code",
   "execution_count": null,
   "metadata": {},
   "outputs": [],
   "source": []
  }
 ],
 "metadata": {
  "kernelspec": {
   "display_name": "Python 3",
   "language": "python",
   "name": "python3"
  },
  "language_info": {
   "codemirror_mode": {
    "name": "ipython",
    "version": 3
   },
   "file_extension": ".py",
   "mimetype": "text/x-python",
   "name": "python",
   "nbconvert_exporter": "python",
   "pygments_lexer": "ipython3",
   "version": "3.8.5"
  }
 },
 "nbformat": 4,
 "nbformat_minor": 2
}

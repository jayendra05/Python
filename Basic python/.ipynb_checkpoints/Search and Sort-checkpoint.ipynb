{
 "cells": [
  {
   "cell_type": "code",
   "execution_count": 8,
   "metadata": {},
   "outputs": [
    {
     "name": "stdout",
     "output_type": "stream",
     "text": [
      "0.00015039999999544307\n"
     ]
    }
   ],
   "source": [
    "#                                 Linear search\n",
    "import time\n",
    "def linear_search(l1,e):\n",
    "    l1.sort()\n",
    "    found=False\n",
    "    for i in range(0,len(l1)):\n",
    "        if(l1[i]==e):\n",
    "            found=True\n",
    "    return i,found\n",
    "t0=time.perf_counter()\n",
    "linear_search([12, 11, 13, 5, 6, 7],7)\n",
    "t1=time.perf_counter()-t0\n",
    "print(t1)"
   ]
  },
  {
   "cell_type": "code",
   "execution_count": 21,
   "metadata": {},
   "outputs": [
    {
     "name": "stdout",
     "output_type": "stream",
     "text": [
      "0.00012259999999741922\n"
     ]
    }
   ],
   "source": [
    "import time\n",
    "def binary_search(l1,e):\n",
    "    l1.sort()\n",
    "    if(len(l1)==0):\n",
    "        return False\n",
    "    elif(len(l1)==1):\n",
    "        return l1[0]==e\n",
    "    else:\n",
    "        half=len(l1)//2\n",
    "        if(l1[half]>e):\n",
    "            return (binary_search(l1[:half],e))\n",
    "        else:\n",
    "#             print(l1)\n",
    "#             print(l1[half])\n",
    "            return half,(binary_search(l1[half:],e))\n",
    "    \n",
    "t0=time.perf_counter()\n",
    "binary_search([12, 11, 13, 5, 6, 7],7)\n",
    "t2=time.perf_counter()-t0\n",
    "print(t2)\n"
   ]
  },
  {
   "cell_type": "code",
   "execution_count": 22,
   "metadata": {},
   "outputs": [
    {
     "data": {
      "text/plain": [
       "2.779999999802385e-05"
      ]
     },
     "execution_count": 22,
     "metadata": {},
     "output_type": "execute_result"
    }
   ],
   "source": [
    "t1-t2 # so binary search is fast"
   ]
  },
  {
   "cell_type": "code",
   "execution_count": 38,
   "metadata": {},
   "outputs": [
    {
     "name": "stdout",
     "output_type": "stream",
     "text": [
      "5 6 11 12 13  \n",
      "0.00014000000010128133\n"
     ]
    }
   ],
   "source": [
    "#insertion sort\n",
    "def insertion(l1):\n",
    "    for i in range(1,len(l1)):\n",
    "        key=l1[i]\n",
    "        j=i-1\n",
    "        while j>=0 and key<l1[j]:\n",
    "            l1[j+1]=l1[j]\n",
    "            j=j-1\n",
    "        l1[j + 1] = key \n",
    "l1= [12, 11, 13, 5, 6] \n",
    "insertion(l1) \n",
    "for i in range(len(l1)): \n",
    "    print (l1[i],end=' ')\n",
    "t0=time.perf_counter()\n",
    "insertion(l1)\n",
    "t3=time.perf_counter()-t0\n",
    "print(\" \")\n",
    "print(t3)"
   ]
  },
  {
   "cell_type": "code",
   "execution_count": 2,
   "metadata": {},
   "outputs": [
    {
     "name": "stdout",
     "output_type": "stream",
     "text": [
      "[5, 6, 7, 11, 12, 13]\n",
      " \n",
      "0.00039629999999135634\n"
     ]
    }
   ],
   "source": [
    "import time\n",
    "def selection(arr):\n",
    "    start=0\n",
    "    while start!=len(arr):\n",
    "        for i in range(0,len(arr)):\n",
    "            if(arr[start]<arr[i]):\n",
    "                arr[start],arr[i]=arr[i],arr[start]\n",
    "        start=start+1\n",
    "    print(arr)\n",
    "    \n",
    "t0=time.perf_counter()\n",
    "selection([12, 11, 13, 5, 6, 7])\n",
    "t4=time.perf_counter()-t0\n",
    "print(\" \")\n",
    "print(t4)\n"
   ]
  },
  {
   "cell_type": "code",
   "execution_count": 8,
   "metadata": {},
   "outputs": [
    {
     "name": "stdout",
     "output_type": "stream",
     "text": [
      "[5, 6, 7, 11, 12, 13]\n",
      " \n",
      "0.00014369999999530592\n"
     ]
    }
   ],
   "source": [
    "def mergeSort(arr): \n",
    "    if len(arr) >1: \n",
    "        mid = len(arr)//2 #Finding the mid of the array \n",
    "        L = arr[:mid] # Dividing the array elements  \n",
    "        R = arr[mid:] # into 2 halves \n",
    "  \n",
    "        mergeSort(L) # Sorting the first half \n",
    "        mergeSort(R) # Sorting the second half \n",
    "        i = j = k = 0\n",
    "          \n",
    "        # Copy data to temp arrays L[] and R[] \n",
    "        while i < len(L) and j < len(R): \n",
    "            if L[i] < R[j]: \n",
    "                arr[k] = L[i] \n",
    "                i+=1\n",
    "            else: \n",
    "                arr[k] = R[j] \n",
    "                j+=1\n",
    "            k+=1\n",
    "          \n",
    "        # Checking if any element was left \n",
    "        while i < len(L): \n",
    "            arr[k] = L[i] \n",
    "            i+=1\n",
    "            k+=1\n",
    "          \n",
    "        while j < len(R): \n",
    "            arr[k] = R[j] \n",
    "            j+=1\n",
    "            k+=1\n",
    "print(arr)\n",
    "arr = [12, 11, 13, 5, 6, 7]  \n",
    "t0=time.perf_counter()\n",
    "mergeSort(arr)\n",
    "t5=time.perf_counter()-t0\n",
    "print(\" \")\n",
    "print(t5)"
   ]
  },
  {
   "cell_type": "code",
   "execution_count": 9,
   "metadata": {},
   "outputs": [
    {
     "name": "stdout",
     "output_type": "stream",
     "text": [
      "[7, 6, 5, 13, 11, 12]\n",
      " \n",
      "0.0004641000000447093\n"
     ]
    }
   ],
   "source": [
    "def bubble(arr):\n",
    "    n=len(arr)\n",
    "    for i in range(0,n):\n",
    "        for j in range(0,n-i-1):\n",
    "            arr[j+1],arr[j]=arr[j],arr[j+1]\n",
    "    print(arr)\n",
    "t0=time.perf_counter()\n",
    "bubble([12, 11, 13, 5, 6, 7])\n",
    "t6=time.perf_counter()-t0\n",
    "print(\" \")\n",
    "print(t6)"
   ]
  },
  {
   "cell_type": "code",
   "execution_count": null,
   "metadata": {},
   "outputs": [],
   "source": []
  }
 ],
 "metadata": {
  "kernelspec": {
   "display_name": "Python 3",
   "language": "python",
   "name": "python3"
  },
  "language_info": {
   "codemirror_mode": {
    "name": "ipython",
    "version": 3
   },
   "file_extension": ".py",
   "mimetype": "text/x-python",
   "name": "python",
   "nbconvert_exporter": "python",
   "pygments_lexer": "ipython3",
   "version": "3.7.4"
  }
 },
 "nbformat": 4,
 "nbformat_minor": 2
}

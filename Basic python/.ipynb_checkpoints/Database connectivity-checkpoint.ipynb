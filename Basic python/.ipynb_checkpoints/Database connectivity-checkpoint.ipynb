{
 "cells": [
  {
   "cell_type": "code",
   "execution_count": 2,
   "metadata": {},
   "outputs": [],
   "source": [
    "import pymysql"
   ]
  },
  {
   "cell_type": "code",
   "execution_count": null,
   "metadata": {},
   "outputs": [],
   "source": [
    "my_connect=pymysql.connect(\"localhost\",\"root\",\"\",\"employee\")\n",
    "\n",
    "cursor=my_connect.cursor()\n",
    "sql=\"\"\" create table emp(\n",
    "emp_id INT(11) PRIMARY KEY AUTO_INCREMENT,\n",
    "emp_name VARCHAR(50),\n",
    "emp_age INT(10)\n",
    ")\"\"\"\n",
    "cursor.execute(sql)\n",
    "my_connect.close()"
   ]
  },
  {
   "cell_type": "code",
   "execution_count": 3,
   "metadata": {},
   "outputs": [],
   "source": [
    "my_connect=pymysql.connect(\"localhost\",\"root\",\"\",\"employee\")\n",
    "cursor=my_connect.cursor()\n",
    "sql=\"\"\"\n",
    "INSERT INTO emp(emp_name,emp_age) VALUES ('atul',29)\n",
    "\"\"\"\n",
    "cursor.execute(sql)\n",
    "my_connect.commit()\n",
    "my_connect.close()"
   ]
  },
  {
   "cell_type": "code",
   "execution_count": 5,
   "metadata": {},
   "outputs": [],
   "source": [
    "my_connect=pymysql.connect(\"localhost\",\"root\",\"\",\"employee\")\n",
    "cursor=my_connect.cursor()\n",
    "sql=\"\"\"\n",
    "INSERT INTO emp(emp_name,emp_age) VALUES ('Punit',20)\n",
    "\"\"\"\n",
    "sql1=\"\"\"\n",
    "INSERT INTO emp(emp_name,emp_age) VALUES ('chandan',21)\n",
    "\"\"\"\n",
    "sql2=\"\"\"\n",
    "INSERT INTO emp(emp_name,emp_age) VALUES ('Amit',21)\n",
    "\"\"\"\n",
    "cursor.execute(sql)\n",
    "cursor.execute(sql1)\n",
    "cursor.execute(sql2)\n",
    "my_connect.commit()\n",
    "my_connect.close()"
   ]
  },
  {
   "cell_type": "code",
   "execution_count": 4,
   "metadata": {},
   "outputs": [
    {
     "name": "stdout",
     "output_type": "stream",
     "text": [
      "(1, 'jayendra', 19)\n",
      "(5, 'jayendra', 19)\n",
      "(6, 'Punit', 20)\n",
      "(9, 'atul', 29)\n"
     ]
    }
   ],
   "source": [
    "my_connect=pymysql.connect(\"localhost\",\"root\",\"\",\"employee\")\n",
    "cursor=my_connect.cursor()\n",
    "retrive_sql=\"SELECT * FROM emp\"\n",
    "cursor.execute(retrive_sql)\n",
    "rows=cursor.fetchall()\n",
    "\n",
    "for data in rows:\n",
    "    print(data)\n",
    "\n",
    "my_connect.commit()\n"
   ]
  },
  {
   "cell_type": "code",
   "execution_count": 6,
   "metadata": {},
   "outputs": [
    {
     "name": "stdout",
     "output_type": "stream",
     "text": [
      "Employee id is  1\n",
      "Employee name is  jayendra\n",
      "Employee age is  19\n"
     ]
    }
   ],
   "source": [
    "my_connect=pymysql.connect(\"localhost\",\"root\",\"\",\"employee\")\n",
    "cursor=my_connect.cursor()\n",
    "name='jayendra'\n",
    "cursor.execute(\"SELECT * FROM emp WHERE emp_name=%s\",name)\n",
    "emp_id,emp_name,emp_age=cursor.fetchone()\n",
    "\n",
    "print(\"Employee id is \",emp_id)\n",
    "print(\"Employee name is \",emp_name)\n",
    "print(\"Employee age is \",emp_age)"
   ]
  },
  {
   "cell_type": "code",
   "execution_count": 7,
   "metadata": {},
   "outputs": [
    {
     "data": {
      "text/plain": [
       "((1, 'jayendra', 19), (5, 'jayendra', 19))"
      ]
     },
     "execution_count": 7,
     "metadata": {},
     "output_type": "execute_result"
    }
   ],
   "source": [
    "my_connect=pymysql.connect(\"localhost\",\"root\",\"\",\"employee\")\n",
    "cursor=my_connect.cursor()\n",
    "sql=\"SELECT * FROM emp where emp_name='jayendra'\"\n",
    "cursor.execute(sql)\n",
    "cursor.fetchmany(2)"
   ]
  },
  {
   "cell_type": "code",
   "execution_count": 9,
   "metadata": {},
   "outputs": [
    {
     "name": "stdout",
     "output_type": "stream",
     "text": [
      "0 record(s) affected\n"
     ]
    }
   ],
   "source": [
    "my_connect=pymysql.connect(\"localhost\",\"root\",\"\",\"employee\")\n",
    "cursor=my_connect.cursor()\n",
    "sql=\"UPDATE emp set emp_name='punu' Where emp_id=2\"\n",
    "cursor.execute(sql)\n",
    "my_connect.commit()\n",
    "print(cursor.rowcount,\"record(s) affected\")"
   ]
  },
  {
   "cell_type": "code",
   "execution_count": 12,
   "metadata": {},
   "outputs": [
    {
     "name": "stdout",
     "output_type": "stream",
     "text": [
      "1 record(s) affected\n"
     ]
    }
   ],
   "source": [
    "my_connect=pymysql.connect(\"localhost\",\"root\",\"\",\"employee\")\n",
    "cursor=my_connect.cursor()\n",
    "sql=\"Delete from emp where emp_name = 'punu'\"\n",
    "cursor.execute(sql)\n",
    "my_connect.commit()\n",
    "print(cursor.rowcount,\"record(s) affected\")"
   ]
  }
 ],
 "metadata": {
  "kernelspec": {
   "display_name": "Python 3",
   "language": "python",
   "name": "python3"
  },
  "language_info": {
   "codemirror_mode": {
    "name": "ipython",
    "version": 3
   },
   "file_extension": ".py",
   "mimetype": "text/x-python",
   "name": "python",
   "nbconvert_exporter": "python",
   "pygments_lexer": "ipython3",
   "version": "3.7.4"
  }
 },
 "nbformat": 4,
 "nbformat_minor": 2
}

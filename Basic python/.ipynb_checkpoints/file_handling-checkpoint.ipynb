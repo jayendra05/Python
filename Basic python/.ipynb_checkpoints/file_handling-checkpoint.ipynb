{
 "cells": [
  {
   "cell_type": "code",
   "execution_count": 1,
   "metadata": {},
   "outputs": [
    {
     "name": "stdout",
     "output_type": "stream",
     "text": [
      "my name is s\n",
      "abc.txt\n",
      "r\n"
     ]
    }
   ],
   "source": [
    "data=open('abc.txt','r')\n",
    "print(data.read(12))\n",
    "data.close()\n",
    "print(data.name)\n",
    "print(data.mode)\n"
   ]
  },
  {
   "cell_type": "code",
   "execution_count": 2,
   "metadata": {},
   "outputs": [
    {
     "name": "stdout",
     "output_type": "stream",
     "text": [
      "my name is sahil\n",
      "i am girl.\n",
      "i hobbies is playing with bunty.\n"
     ]
    }
   ],
   "source": [
    "with open('abc.txt','r')as data:\n",
    "    print(data.read())"
   ]
  },
  {
   "cell_type": "code",
   "execution_count": 3,
   "metadata": {},
   "outputs": [
    {
     "name": "stdout",
     "output_type": "stream",
     "text": [
      "my name is sahil\n",
      "\n",
      "i am girl.\n",
      "\n"
     ]
    }
   ],
   "source": [
    "with open('abc.txt','r')as data:\n",
    "    print(data.readline())\n",
    "    print(data.readline())"
   ]
  },
  {
   "cell_type": "code",
   "execution_count": 4,
   "metadata": {},
   "outputs": [
    {
     "name": "stdout",
     "output_type": "stream",
     "text": [
      "['my name is sahil\\n', 'i am girl.\\n', 'i hobbies is playing with bunty.']\n",
      "<class 'list'>\n"
     ]
    }
   ],
   "source": [
    "with open('abc.txt','r')as data:\n",
    "    a=data.readlines()\n",
    "    print(a)\n",
    "    print(type(a))"
   ]
  },
  {
   "cell_type": "code",
   "execution_count": 5,
   "metadata": {},
   "outputs": [
    {
     "name": "stdout",
     "output_type": "stream",
     "text": [
      "my name is sahil\n",
      "\n",
      "i am girl.\n",
      "\n",
      "i hobbies is playing with bunty.\n"
     ]
    }
   ],
   "source": [
    "with open('abc.txt','r') as data:\n",
    "    for i in data:\n",
    "        print(i)"
   ]
  },
  {
   "cell_type": "code",
   "execution_count": 10,
   "metadata": {},
   "outputs": [],
   "source": [
    "with open('jayendra.txt','a') as data:\n",
    "    data.write(\"this is python.\")\n",
    "    data.write(\"\\n\")\n",
    "    data.write(\"python is programming \")\n",
    "    data.write(\"language\")"
   ]
  },
  {
   "cell_type": "code",
   "execution_count": 11,
   "metadata": {},
   "outputs": [
    {
     "name": "stdout",
     "output_type": "stream",
     "text": [
      "84\n"
     ]
    }
   ],
   "source": [
    "with open('jayendra.txt','r') as data:\n",
    "    count=0\n",
    "    for i in data.read():\n",
    "        count=count+1\n",
    "print(count)"
   ]
  },
  {
   "cell_type": "code",
   "execution_count": 12,
   "metadata": {},
   "outputs": [],
   "source": [
    "with open('jayendra.txt','r') as data:\n",
    "    with open('copy','w') as copy:\n",
    "        for i in data:\n",
    "            copy.write(i)"
   ]
  },
  {
   "cell_type": "code",
   "execution_count": null,
   "metadata": {},
   "outputs": [],
   "source": []
  }
 ],
 "metadata": {
  "kernelspec": {
   "display_name": "Python 3",
   "language": "python",
   "name": "python3"
  },
  "language_info": {
   "codemirror_mode": {
    "name": "ipython",
    "version": 3
   },
   "file_extension": ".py",
   "mimetype": "text/x-python",
   "name": "python",
   "nbconvert_exporter": "python",
   "pygments_lexer": "ipython3",
   "version": "3.7.4"
  }
 },
 "nbformat": 4,
 "nbformat_minor": 2
}

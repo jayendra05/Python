{
 "cells": [
  {
   "cell_type": "code",
   "execution_count": 3,
   "metadata": {},
   "outputs": [
    {
     "name": "stdout",
     "output_type": "stream",
     "text": [
      "MAnprEFeRSToBelIevewhathePreFERStOBetruE\n",
      "c: ['MAnpr', 'EFeRS', 'ToBel', 'Ievew', 'hathe', 'PreFE', 'RStOB', 'etruE']\n",
      "d: MAnpr EFeRS ToBel Ievew hathe PreFE RStOB etruE\n",
      "['uulll', 'uuluu', 'ulull', 'ullll', 'lllll', 'ulluu', 'uuluu', 'llllu']\n",
      " \n",
      "The Decode word is :  help me.\n"
     ]
    }
   ],
   "source": [
    "def baconify(a):\n",
    "    c=[]\n",
    "    dic={\"a\": \"uuuuu\",\"b\": \"uuuul\",\"c\": \"uuulu\",\"d\": \"uuull\",\"e\": \"uuluu\",\"f\": \"uulul\",\"g\": \"uullu\",\"h\": \"uulll\",\n",
    "         \"i\": \"uluuu\",\"j\": \"uluul\",\"k\": \"ululu\",\"l\": \"ulull\",\"m\": \"ulluu\",\"n\": \"ullul\",\"o\": \"ulllu\",\"p\": \"ullll\",\n",
    "         \"q\": \"luuuu\",\"r\": \"luuul\",\"s\": \"luulu\",\"t\": \"luull\",\"u\": \"luluu\",\"v\": \"lulul\",\"w\": \"lullu\",\"x\": \"lulll\",\n",
    "         \"y\": \"lluuu\",\"z\": \"lluul\",\".\": \"llllu\",\" \": \"lllll\"}\n",
    "    e=[]\n",
    "    for i in range(0,len(a)):\n",
    "        a=a.replace(\" \", \"\")    #replace space to empty space \n",
    "        \n",
    "    print(a)\n",
    "    st=0\n",
    "    end=st+5\n",
    "    \n",
    "    for j in range(0,len(a)):\n",
    "        b=(a[st:end])\n",
    "        if(len(b)==5):\n",
    "            c.append(b)\n",
    "        st=end\n",
    "        end=end+5\n",
    "        \n",
    "    print(\"c:\",c)\n",
    "    d=' '.join(c)\n",
    "    print(\"d:\",d)\n",
    "    \n",
    "    for k in range(0,len(d)):\n",
    "        if(d[k].islower()==True):\n",
    "            d=d.replace(d[k],\"l\")\n",
    "            \n",
    "    for l in range(0,len(d)):\n",
    "        if(d[l].isupper()==True):\n",
    "            d=d.replace(d[l],\"u\")\n",
    "            \n",
    "    d=list(d.split(\" \"))\n",
    "    print(d)\n",
    "    \n",
    "    for n in d:\n",
    "        for key,val in dic.items():\n",
    "            if val==n:\n",
    "                e.append(key)\n",
    "    f=''.join(e)\n",
    "    print(\" \")\n",
    "    print(\"The Decode word is : \",f)\n",
    "baconify(\"MAn prEFeRS To BelIeve what he PreFERS tO Be truE\")"
   ]
  },
  {
   "cell_type": "code",
   "execution_count": 4,
   "metadata": {},
   "outputs": [
    {
     "name": "stdout",
     "output_type": "stream",
     "text": [
      "['untouch']\n",
      "untouch\n"
     ]
    }
   ],
   "source": [
    "def untouch(number):\n",
    "    sum1=0\n",
    "    l1=[]\n",
    "    if(number<2):\n",
    "        print(\"invalid number is less than 2\")\n",
    "    elif(number>=2):\n",
    "        b=number**2\n",
    "    for i in range(0,b):\n",
    "        for j in range(1,i):\n",
    "            if(i%j==0):\n",
    "                sum1=sum1+j\n",
    "                if(number==sum1):\n",
    "                    l1.append(\"touch\")\n",
    "                else:\n",
    "                    l1.append(\"untouch\")\n",
    "        \n",
    "        sum1=0\n",
    "    set1=set(l1)\n",
    "    l1=list(set1)\n",
    "    print(l1)\n",
    "    if(len(l1)==1):\n",
    "        print(l1[0])\n",
    "    else:\n",
    "        print(\"touch\")\n",
    "untouch(5)"
   ]
  },
  {
   "cell_type": "code",
   "execution_count": 5,
   "metadata": {},
   "outputs": [
    {
     "name": "stdout",
     "output_type": "stream",
     "text": [
      "[6, 5, 4, -1, 3, 2, -1, 1]\n",
      "[1, 2, 3, -1, 4, 5, -1, 6]\n"
     ]
    }
   ],
   "source": [
    "def sort(l1):\n",
    "    l2=[]\n",
    "    l3=[]\n",
    "    print(l1)\n",
    "    for i in l1:\n",
    "        if(i>0):\n",
    "            l2.append(i)\n",
    "            l2.sort()\n",
    "        if(i<0):\n",
    "            l3.append(i)\n",
    "    for k in l3:\n",
    "        for j in range(0,len(l1)):\n",
    "            if(l1[j]<0):\n",
    "                l2.insert(j,l1[j])\n",
    "        break\n",
    "    print(l2)\n",
    "sort([6, 5, 4, -1, 3, 2, -1, 1])"
   ]
  },
  {
   "cell_type": "code",
   "execution_count": 6,
   "metadata": {},
   "outputs": [
    {
     "name": "stdout",
     "output_type": "stream",
     "text": [
      "H\n"
     ]
    }
   ],
   "source": [
    "def moran(num):\n",
    "    sum1=0\n",
    "    l1=[]\n",
    "    num=str(num)\n",
    "    for i in num:\n",
    "        i=int(i)\n",
    "        sum1=sum1+i\n",
    "    num=int(num)    \n",
    "    ran=num%sum1\n",
    "    \n",
    "    if ran>0:\n",
    "        for i in range(2,ran):              \n",
    "            if(ran%i)==0:\n",
    "                print(\"hi\")\n",
    "        else:\n",
    "            return \"M\"\n",
    "    if(num%sum1==0):\n",
    "        print(\"H\")\n",
    "moran(133)"
   ]
  },
  {
   "cell_type": "code",
   "execution_count": 7,
   "metadata": {},
   "outputs": [
    {
     "name": "stdout",
     "output_type": "stream",
     "text": [
      "neither\n"
     ]
    }
   ],
   "source": [
    "num=134\n",
    "sum1=0\n",
    "num=str(num)\n",
    "for i in num:\n",
    "    i=int(i)\n",
    "    sum1=sum1+i\n",
    "num=int(num)    \n",
    "ran=int(num/sum1)  \n",
    "if ran>0:\n",
    "    for i in range(2,ran):              \n",
    "        if(ran%i)==0:\n",
    "            break\n",
    "    else:\n",
    "        print(\"M\")\n",
    "if(num%sum1==0):\n",
    "    print(\"H\")\n",
    "else:\n",
    "    print(\"neither\")"
   ]
  },
  {
   "cell_type": "code",
   "execution_count": null,
   "metadata": {},
   "outputs": [],
   "source": []
  },
  {
   "cell_type": "code",
   "execution_count": null,
   "metadata": {},
   "outputs": [],
   "source": []
  }
 ],
 "metadata": {
  "kernelspec": {
   "display_name": "Python 3",
   "language": "python",
   "name": "python3"
  },
  "language_info": {
   "codemirror_mode": {
    "name": "ipython",
    "version": 3
   },
   "file_extension": ".py",
   "mimetype": "text/x-python",
   "name": "python",
   "nbconvert_exporter": "python",
   "pygments_lexer": "ipython3",
   "version": "3.7.4"
  }
 },
 "nbformat": 4,
 "nbformat_minor": 2
}

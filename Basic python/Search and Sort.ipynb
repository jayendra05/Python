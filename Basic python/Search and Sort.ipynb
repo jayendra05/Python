{
 "cells": [
  {
   "cell_type": "code",
   "execution_count": 6,
   "metadata": {},
   "outputs": [
    {
     "name": "stdout",
     "output_type": "stream",
     "text": [
      "0.00011859999999330739\n"
     ]
    }
   ],
   "source": [
    "#                                 Linear search\n",
    "import time\n",
    "def linear_search(l1,e):\n",
    "    found=False\n",
    "    for i in range(0,len(l1)):\n",
    "        if(l1[i]==e):\n",
    "            found=True\n",
    "    return i,found\n",
    "t0=time.perf_counter()\n",
    "linear_search([12, 11, 13, 5, 6, 7],7)\n",
    "t1=time.perf_counter()-t0\n",
    "print(t1)"
   ]
  },
  {
   "cell_type": "code",
   "execution_count": 5,
   "metadata": {},
   "outputs": [
    {
     "name": "stdout",
     "output_type": "stream",
     "text": [
      "[5, 6, 7, 11, 12, 13]\n",
      "11\n",
      "[11, 12, 13]\n",
      "12\n",
      "[12, 13]\n",
      "13\n"
     ]
    },
    {
     "data": {
      "text/plain": [
       "(3, (1, (1, True)))"
      ]
     },
     "execution_count": 5,
     "metadata": {},
     "output_type": "execute_result"
    }
   ],
   "source": [
    "import time\n",
    "def binary_search(l1,e):\n",
    "    l1.sort()\n",
    "    if(len(l1)==0):\n",
    "        return False\n",
    "    elif(len(l1)==1):\n",
    "        return l1[0]==e\n",
    "    else:\n",
    "        half=len(l1)//2\n",
    "        if(l1[half]>e):\n",
    "            return (binary_search(l1[:half],e))\n",
    "            print(half)\n",
    "        else:\n",
    "            print(l1)\n",
    "            print(l1[half])\n",
    "            return half,(binary_search(l1[half:],e))\n",
    "    \n",
    "# t0=time.perf_counter()\n",
    "binary_search([12, 11, 13, 5, 6, 7],13)\n",
    "# t2=time.perf_counter()-t0\n",
    "# print(t2)\n"
   ]
  },
  {
   "cell_type": "code",
   "execution_count": 3,
   "metadata": {},
   "outputs": [
    {
     "ename": "NameError",
     "evalue": "name 't1' is not defined",
     "output_type": "error",
     "traceback": [
      "\u001b[1;31m---------------------------------------------------------------------------\u001b[0m",
      "\u001b[1;31mNameError\u001b[0m                                 Traceback (most recent call last)",
      "\u001b[1;32m<ipython-input-3-3825553c4b9b>\u001b[0m in \u001b[0;36m<module>\u001b[1;34m\u001b[0m\n\u001b[1;32m----> 1\u001b[1;33m \u001b[0mt1\u001b[0m\u001b[1;33m-\u001b[0m\u001b[0mt2\u001b[0m \u001b[1;31m# so binary search is fast\u001b[0m\u001b[1;33m\u001b[0m\u001b[1;33m\u001b[0m\u001b[0m\n\u001b[0m",
      "\u001b[1;31mNameError\u001b[0m: name 't1' is not defined"
     ]
    }
   ],
   "source": [
    "t1-t2 # so binary search is fast"
   ]
  },
  {
   "cell_type": "code",
   "execution_count": 38,
   "metadata": {},
   "outputs": [
    {
     "name": "stdout",
     "output_type": "stream",
     "text": [
      "5 6 11 12 13  \n",
      "0.00014000000010128133\n"
     ]
    }
   ],
   "source": [
    "#insertion sort\n",
    "def insertion(l1):\n",
    "    for i in range(1,len(l1)):\n",
    "        key=l1[i]\n",
    "        j=i-1\n",
    "        while j>=0 and key<l1[j]:\n",
    "            l1[j+1]=l1[j]\n",
    "            j=j-1\n",
    "        l1[j + 1] = key \n",
    "l1= [12, 11, 13, 5, 6] \n",
    "insertion(l1) \n",
    "for i in range(len(l1)): \n",
    "    print (l1[i],end=' ')\n",
    "t0=time.perf_counter()\n",
    "insertion(l1)\n",
    "t3=time.perf_counter()-t0\n",
    "print(\" \")\n",
    "print(t3)"
   ]
  },
  {
   "cell_type": "code",
   "execution_count": 2,
   "metadata": {},
   "outputs": [
    {
     "name": "stdout",
     "output_type": "stream",
     "text": [
      "[5, 6, 7, 11, 12, 13]\n",
      " \n",
      "0.00039629999999135634\n"
     ]
    }
   ],
   "source": [
    "import time\n",
    "def selection(arr):\n",
    "    start=0\n",
    "    while start!=len(arr):\n",
    "        for i in range(0,len(arr)):\n",
    "            if(arr[start]<arr[i]):\n",
    "                arr[start],arr[i]=arr[i],arr[start]\n",
    "        start=start+1\n",
    "    print(arr)\n",
    "    \n",
    "t0=time.perf_counter()\n",
    "selection([12, 11, 13, 5, 6, 7])\n",
    "t4=time.perf_counter()-t0\n",
    "print(\" \")\n",
    "print(t4)\n"
   ]
  },
  {
   "cell_type": "code",
   "execution_count": 8,
   "metadata": {},
   "outputs": [
    {
     "name": "stdout",
     "output_type": "stream",
     "text": [
      "[5, 6, 7, 11, 12, 13]\n",
      " \n",
      "0.00014369999999530592\n"
     ]
    }
   ],
   "source": [
    "def mergeSort(arr): \n",
    "    if len(arr) >1: \n",
    "        mid = len(arr)//2 #Finding the mid of the array \n",
    "        L = arr[:mid] # Dividing the array elements  \n",
    "        R = arr[mid:] # into 2 halves \n",
    "  \n",
    "        mergeSort(L) # Sorting the first half \n",
    "        mergeSort(R) # Sorting the second half \n",
    "        i = j = k = 0\n",
    "          \n",
    "        # Copy data to temp arrays L[] and R[] \n",
    "        while i < len(L) and j < len(R): \n",
    "            if L[i] < R[j]: \n",
    "                arr[k] = L[i] \n",
    "                i+=1\n",
    "            else: \n",
    "                arr[k] = R[j] \n",
    "                j+=1\n",
    "            k+=1\n",
    "          \n",
    "        # Checking if any element was left \n",
    "        while i < len(L): \n",
    "            arr[k] = L[i] \n",
    "            i+=1\n",
    "            k+=1\n",
    "          \n",
    "        while j < len(R): \n",
    "            arr[k] = R[j] \n",
    "            j+=1\n",
    "            k+=1\n",
    "print(arr)\n",
    "arr = [12, 11, 13, 5, 6, 7]  \n",
    "t0=time.perf_counter()\n",
    "mergeSort(arr)\n",
    "t5=time.perf_counter()-t0\n",
    "print(\" \")\n",
    "print(t5)"
   ]
  },
  {
   "cell_type": "code",
   "execution_count": 13,
   "metadata": {},
   "outputs": [
    {
     "name": "stdout",
     "output_type": "stream",
     "text": [
      "5\n",
      "5\n",
      "5\n",
      "5\n",
      "5\n",
      "4\n",
      "4\n",
      "4\n",
      "4\n",
      "3\n",
      "3\n",
      "3\n",
      "2\n",
      "2\n",
      "1\n",
      "[7, 6, 5, 13, 11, 12]\n",
      " \n",
      "0.0007177000002229761\n"
     ]
    }
   ],
   "source": [
    "def bubble(arr):\n",
    "    n=len(arr)\n",
    "    for i in range(0,n):\n",
    "        for j in range(0,n-i-1):\n",
    "            print(n-i-1)\n",
    "            arr[j+1],arr[j]=arr[j],arr[j+1]\n",
    "    print(arr)\n",
    "t0=time.perf_counter()\n",
    "bubble([12, 11, 13, 5, 6, 7])\n",
    "t6=time.perf_counter()-t0\n",
    "print(\" \")\n",
    "print(t6)"
   ]
  },
  {
   "cell_type": "code",
   "execution_count": 13,
   "metadata": {},
   "outputs": [
    {
     "name": "stdout",
     "output_type": "stream",
     "text": [
      "6\n",
      "4\n",
      "1\n",
      "defaultdict(<class 'list'>, {1: [4]})\n",
      "5\n",
      "2\n",
      "defaultdict(<class 'list'>, {1: [4], 2: [5]})\n",
      "2\n",
      "4\n",
      "defaultdict(<class 'list'>, {1: [4], 2: [5], 4: [2]})\n",
      "0\n",
      "2\n",
      "defaultdict(<class 'list'>, {1: [4], 2: [5, 0], 4: [2]})\n",
      "[3, 1, 4, 2, 5, 0]\n"
     ]
    }
   ],
   "source": [
    "from collections import defaultdict \n",
    "class graph:\n",
    "    \n",
    "    def __init__(self,vertix):               # creating number of vertix in must be there in graph\n",
    "        self.graph=defaultdict(list)         # defaultdict is contain element in it.In for of list\n",
    "        self.V=vertix                        # if there a common vertix then it will append in same list\n",
    "        print(self.V)\n",
    "        \n",
    "    def addedge(self,u,v):                   # add vertix which which is connected to another vertix\n",
    "        self.graph[u].append(v)\n",
    "        print(v)\n",
    "        print(u)\n",
    "        print(self.graph)\n",
    "     \n",
    "    # we have to make a recursive function that can be call to check the status of the element\n",
    "    \n",
    "    def topologic(self,v,visited,stack):     # to make a visited parameter at store the data that we have visited\n",
    "        visited[v]=True                      # to make the element as visited \n",
    "        \n",
    "        for i in self.graph[v]:              # if its will be false then it will again go to starting point of the function\n",
    "            # v is the element that is always depend on the u. \n",
    "            if(visited[i]==False):\n",
    "                self.topologic(i,visited,stack)\n",
    "        #After element visited it will insert at the 0 index that is at first position\n",
    "        stack.insert(0,v)\n",
    "    \n",
    "    def topologicSort(self):                #to make all element as False\n",
    "        visited=[False]*(self.V)\n",
    "        stack=[]\n",
    "        \n",
    "        for i in range(self.V):\n",
    "            if(visited[i]==False):\n",
    "                self.topologic(i,visited,stack)\n",
    "                \n",
    "        print(stack)\n",
    "                \n",
    "c=graph(6)                 # to pass the number element we want\n",
    "c.addedge(1,4)             # it represent that the v is depend on u\n",
    "c.addedge(2,5)  \n",
    "c.addedge(4,2)  \n",
    "c.addedge(2,0)  \n",
    "c.topologicSort()"
   ]
  },
  {
   "cell_type": "code",
   "execution_count": null,
   "metadata": {},
   "outputs": [],
   "source": []
  }
 ],
 "metadata": {
  "kernelspec": {
   "display_name": "Python 3",
   "language": "python",
   "name": "python3"
  },
  "language_info": {
   "codemirror_mode": {
    "name": "ipython",
    "version": 3
   },
   "file_extension": ".py",
   "mimetype": "text/x-python",
   "name": "python",
   "nbconvert_exporter": "python",
   "pygments_lexer": "ipython3",
   "version": "3.8.5"
  }
 },
 "nbformat": 4,
 "nbformat_minor": 2
}

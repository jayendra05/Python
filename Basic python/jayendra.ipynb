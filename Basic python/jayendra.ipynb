{
 "cells": [
  {
   "cell_type": "code",
   "execution_count": 1,
   "metadata": {},
   "outputs": [
    {
     "name": "stdout",
     "output_type": "stream",
     "text": [
      "['a', 'b']\n"
     ]
    }
   ],
   "source": [
    "def none(l1):\n",
    "    for a in l1:\n",
    "            l1.remove(None)\n",
    "    print(l1)\n",
    "none([\"a\", None, \"b\", None])"
   ]
  },
  {
   "cell_type": "code",
   "execution_count": 2,
   "metadata": {},
   "outputs": [
    {
     "name": "stdout",
     "output_type": "stream",
     "text": [
      "[53, 435, 591]\n"
     ]
    }
   ],
   "source": [
    "def unlucky(l1):\n",
    "    l1.sort()\n",
    "    for a in l1:\n",
    "        if(a%13==0):\n",
    "            l1.remove(a)\n",
    "    print(l1)\n",
    "unlucky([53, 182, 435, 591, 637])"
   ]
  },
  {
   "cell_type": "code",
   "execution_count": 3,
   "metadata": {},
   "outputs": [
    {
     "name": "stdout",
     "output_type": "stream",
     "text": [
      "1\n",
      "2\n",
      "0\n"
     ]
    }
   ],
   "source": [
    "def top(l1):\n",
    "    sum1=0\n",
    "    l1.sort()\n",
    "    for a in l1:\n",
    "#         print(\"value is \",a)\n",
    "        if(a==l1[len(l1)-1]):\n",
    "            sum1=0\n",
    "        elif(a!=l1[len(l1)-1]):\n",
    "            a=a+1\n",
    "            sum1=sum1+1\n",
    "        print(sum1)\n",
    "top([3, 4, 5])"
   ]
  },
  {
   "cell_type": "code",
   "execution_count": null,
   "metadata": {},
   "outputs": [],
   "source": [
    "s1 = {1,2,3,4,5}\n",
    "s2 = {10,20,30,1,2}"
   ]
  },
  {
   "cell_type": "code",
   "execution_count": null,
   "metadata": {},
   "outputs": [],
   "source": [
    "s1.add(6)"
   ]
  },
  {
   "cell_type": "code",
   "execution_count": null,
   "metadata": {},
   "outputs": [],
   "source": [
    "s1"
   ]
  },
  {
   "cell_type": "code",
   "execution_count": null,
   "metadata": {},
   "outputs": [],
   "source": [
    "s1.update(s2)"
   ]
  },
  {
   "cell_type": "code",
   "execution_count": null,
   "metadata": {},
   "outputs": [],
   "source": [
    "s2"
   ]
  },
  {
   "cell_type": "code",
   "execution_count": null,
   "metadata": {},
   "outputs": [],
   "source": [
    "s1"
   ]
  },
  {
   "cell_type": "code",
   "execution_count": null,
   "metadata": {},
   "outputs": [],
   "source": [
    "s1.pop()"
   ]
  },
  {
   "cell_type": "code",
   "execution_count": null,
   "metadata": {},
   "outputs": [],
   "source": [
    "l1=[]\n",
    "def countdown(a):\n",
    "    for i in range(0,a+1):\n",
    "        l1.append(i)\n",
    "    l1.sort(reverse=True)\n",
    "    print(l1)\n",
    "countdown(5)"
   ]
  },
  {
   "cell_type": "code",
   "execution_count": null,
   "metadata": {},
   "outputs": [],
   "source": [
    "def factor(l1,x):\n",
    "    l2=[]\n",
    "    l3=[]\n",
    "    for a in l1:\n",
    "        if(x%a==0):\n",
    "            l3.append(a)\n",
    "        else:\n",
    "            l2.append(a)\n",
    "            if(len(l2)==0):\n",
    "                print(\"true\")\n",
    "                break\n",
    "            else:\n",
    "                print(\"false\")\n",
    "                break\n",
    "factor([2, 3, 4], 12)"
   ]
  },
  {
   "cell_type": "code",
   "execution_count": null,
   "metadata": {},
   "outputs": [],
   "source": [
    "def omn(l1,x):\n",
    "    l2=[]\n",
    "    for i in  range(0,len(l1)-1):\n",
    "        l2.append(x in l1[i])\n",
    "    #print(l2)\n",
    "    print(all(l2))\n",
    "omn([[3,4], [8, 3, 2], [3], [9, 3], [5, 3], [4, 3]],3)"
   ]
  },
  {
   "cell_type": "code",
   "execution_count": null,
   "metadata": {},
   "outputs": [],
   "source": [
    "def find_your_val(data,word):\n",
    "    for key,value in enumerate(data):\n",
    "        if value==word:\n",
    "            return key\n",
    "    return \"Invalid\""
   ]
  },
  {
   "cell_type": "code",
   "execution_count": null,
   "metadata": {},
   "outputs": [],
   "source": [
    "def odd(l1):\n",
    "    l2=[]\n",
    "    for i in l1:\n",
    "        if (i%2==0):\n",
    "            a=i-1\n",
    "            l2.append(a)\n",
    "        else:\n",
    "            a=i+1\n",
    "            l2.append(a)\n",
    "    print(l2)\n",
    "odd([1, 2, 3, 4, 5])\n"
   ]
  },
  {
   "cell_type": "code",
   "execution_count": null,
   "metadata": {},
   "outputs": [],
   "source": [
    "def spelling(a):\n",
    "    l1=[]\n",
    "    sum1=a[0]\n",
    "    b=len(a)-1\n",
    "    for i in range(1,len(a)):\n",
    "        l1.append(sum1)\n",
    "        sum1=sum1+a[i]\n",
    "    l1.append(sum1)\n",
    "    print(sum1)\n",
    "    print(l1)\n",
    "spelling(\"bee\")\n"
   ]
  },
  {
   "cell_type": "code",
   "execution_count": null,
   "metadata": {},
   "outputs": [],
   "source": [
    "def filter_1(l1):\n",
    "    l2=[]\n",
    "    print(l1[2])\n",
    "    for i in l1:\n",
    "        a=set(i)\n",
    "        if(len(a)==1):\n",
    "            #print(l1[i])\n",
    "            l2.append(a)\n",
    "    print(l2)\n",
    "filter_1([\"aaaaaa\", \"bc\", \"d\", \"eeee\", \"xyz\"])"
   ]
  },
  {
   "cell_type": "code",
   "execution_count": null,
   "metadata": {},
   "outputs": [],
   "source": [
    "def filter_1(l1):\n",
    "    l2=[]\n",
    "    #print(l1[2])\n",
    "    for i in range(0,len(l1)):\n",
    "        a=set(l1[i])\n",
    "        #print(l1[i])\n",
    "        if(len(a)==1):\n",
    "            #print(l1[i])\n",
    "            l2.append(l1[i])\n",
    "    print(l2)\n",
    "filter_1([\"aaaaaa\", \"bc\", \"d\", \"eeee\", \"xyz\"])"
   ]
  },
  {
   "cell_type": "code",
   "execution_count": null,
   "metadata": {},
   "outputs": [],
   "source": [
    "def four(l1):\n",
    "    for i in l1:\n",
    "        if (len(i)==4):\n",
    "            print(i)\n",
    "four([\"Tomato\", \"Potato\", \"Pair\"])"
   ]
  },
  {
   "cell_type": "code",
   "execution_count": null,
   "metadata": {},
   "outputs": [],
   "source": [
    "def sam(l1):\n",
    "    for i in range(0,len(l1)-1):\n",
    "        print(l1[i] ,\"=>\", l1[i+1])\n",
    "        if(l1[i]==\"Frodo\" and l1[i+1]==\"Sam\"):\n",
    "            print(\"true\")\n",
    "        elif(l1[i]==\"Sam\" and l1[i+1]==\"Frodo\"):\n",
    "            print(\"true\")\n",
    "        else:\n",
    "            print(\"false\")\n",
    "sam([\"jayendra\",\"Frodo\", \"Sam\", \"Gandalf\"])"
   ]
  },
  {
   "cell_type": "code",
   "execution_count": null,
   "metadata": {},
   "outputs": [],
   "source": [
    "def filter_unq(l1):\n",
    "    l2=l1.copy()\n",
    "   # print(l2)\n",
    "    for i in range(0,len(l1)):\n",
    "#         print(len(l1[i]))\n",
    "        a=set(l2[i])\n",
    "#         print(len(a))\n",
    "        if(len(l1[i])==len(a)):\n",
    "            print(l1[i])\n",
    "        #print(a)\n",
    "filter_unq([\"abb\", \"abc\", \"abcdb\", \"aea\", \"bbb\"])    "
   ]
  },
  {
   "cell_type": "code",
   "execution_count": null,
   "metadata": {},
   "outputs": [],
   "source": [
    "def count(l1):\n",
    "    sum1=0\n",
    "    for i in range(0,len(l1)):\n",
    "        #print(i)\n",
    "        sum1=sum1+l1[i].count(1)\n",
    "    print(sum1)\n",
    "count([[1, 1, 1],[0, 0, 1],[1, 1, 1]])"
   ]
  },
  {
   "cell_type": "code",
   "execution_count": null,
   "metadata": {},
   "outputs": [],
   "source": [
    "def pro(l1):\n",
    "    a=sum(l1)\n",
    "    mul=1\n",
    "    for i in l1:\n",
    "        mul=mul*i\n",
    "#         print(mul)\n",
    "    if(mul%a==0):\n",
    "        print(\"true\")\n",
    "    else:\n",
    "        print(\"flase\")\n",
    "pro([2, 4, 2])"
   ]
  },
  {
   "cell_type": "code",
   "execution_count": null,
   "metadata": {},
   "outputs": [],
   "source": [
    "def mirror(l1):\n",
    "    l2=[]\n",
    "    for i in range(0,len(l1)):\n",
    "        l2.append(l1[i])\n",
    "    for i in range(2,-1,-1):\n",
    "        l2.append(l1[i])\n",
    "    print(l2)\n",
    "mirror([0, 2, 4, 6])"
   ]
  },
  {
   "cell_type": "code",
   "execution_count": null,
   "metadata": {},
   "outputs": [],
   "source": [
    "def absolute(l1):\n",
    "    a=sum(l1)\n",
    "    if(a>=0):\n",
    "        print(a)\n",
    "    else:\n",
    "        print(-a)\n",
    "absolute([-3, -4, -10, -2, -3])"
   ]
  },
  {
   "cell_type": "code",
   "execution_count": null,
   "metadata": {},
   "outputs": [],
   "source": [
    "def largest(l1):\n",
    "    l2=[]\n",
    "    for i in range(0,len(l1)):\n",
    "        l2.append(max(l1[i]))\n",
    "    print(l2)\n",
    "largest([[4, 2, 7, 1], [20, 70, 40, 90], [1, 2, 0]])"
   ]
  },
  {
   "cell_type": "code",
   "execution_count": null,
   "metadata": {},
   "outputs": [],
   "source": [
    "def avg(l1):\n",
    "    a=sum(l1)\n",
    "    if(a%len(l1)==0):\n",
    "        print(\"true\")\n",
    "    else:\n",
    "        print(\"flase\")\n",
    "avg([9,2,2,5])"
   ]
  },
  {
   "cell_type": "code",
   "execution_count": null,
   "metadata": {},
   "outputs": [],
   "source": [
    "def name(l1,a):\n",
    "    l2=[]\n",
    "    l3=[]\n",
    "    if(a==\"abb\"):\n",
    "        for i in l1:\n",
    "            if(len(i)<=2):\n",
    "                l2.append(i)\n",
    "        print(l2)\n",
    "    elif(a==\"full\"):\n",
    "        for i in l1:\n",
    "            if(len(i)>3):\n",
    "                l3.append(i)\n",
    "        print(l3)\n",
    "name([\"Arizona\", \"CA\", \"NY\", \"Nevada\"], \"full\")"
   ]
  },
  {
   "cell_type": "code",
   "execution_count": null,
   "metadata": {},
   "outputs": [],
   "source": [
    "def race(l2,l1):\n",
    "    sum1=0\n",
    "    sum2=0\n",
    "    if(l1[2]<l2[0]):\n",
    "        sum1=sum1+1\n",
    "    else:\n",
    "        sum2=sum2+1\n",
    "    if(l1[0]<l2[1]):\n",
    "        sum1=sum1+1\n",
    "    else:\n",
    "        sum2=sum2+1\n",
    "    if(l1[1]<l2[2]):\n",
    "        sum1=sum1+1\n",
    "    else:\n",
    "        sum2=sum2+1\n",
    "    print(\"Maurice wins\",sum1,\" out of 3\")\n",
    "    print(\"Steve wins\",sum2,\"out of 3\")\n",
    "    if(sum1<=2):\n",
    "        print(\"True\")\n",
    "    else:\n",
    "        print(\"False\")\n",
    "    \n",
    "        \n",
    "race([3, 5, 10], [4, 7, 11])"
   ]
  },
  {
   "cell_type": "code",
   "execution_count": null,
   "metadata": {},
   "outputs": [],
   "source": [
    "def odd(l1):\n",
    "    for i in l1:\n",
    "        if(l1.count(i)%2!=0):\n",
    "            return(i)\n",
    "odd([1, 1, 2, -2, 5, 2, 4, 4, -1, -2, 5])"
   ]
  },
  {
   "cell_type": "code",
   "execution_count": null,
   "metadata": {},
   "outputs": [],
   "source": [
    "def sublist(x,y,z):\n",
    "    l1=[]\n",
    "    for i in range(1,x+1):\n",
    "        #print(i)\n",
    "        l1.append([])\n",
    "    for j in range(0,y):\n",
    "       # print(y)\n",
    "        for k in range(0,len(l1)):\n",
    "            l1[k].append(z)\n",
    "    print(l1)\n",
    "sublist(2,4,\"punit\")"
   ]
  },
  {
   "cell_type": "code",
   "execution_count": null,
   "metadata": {},
   "outputs": [],
   "source": [
    "def count(l1):\n",
    "    sum1=0\n",
    "    sum2=0\n",
    "    for i in l1:\n",
    "        if(i>=0):\n",
    "            sum1=sum1+1\n",
    "        else:\n",
    "            sum2=sum2+i\n",
    "    print(\"pos no:\",sum1)\n",
    "    print(\"neg no:\",sum2)\n",
    "count([1, 2, 3, 4, 5, 6, 7, 8, 9, 10, -11, -12, -13, -14, -15])"
   ]
  },
  {
   "cell_type": "code",
   "execution_count": null,
   "metadata": {},
   "outputs": [],
   "source": [
    "def count(l1,a):\n",
    "    sum1=0\n",
    "    for i in range(0,len(l1)):\n",
    "        #print(a)\n",
    "        #print(i)\n",
    "        sum1=sum1+l1[i].count(a)\n",
    "    print(sum1)\n",
    "count([[\"D\", \"E\", \"Y\", \"H\", \"A\", \"D\"],[\"C\", \"B\", \"Z\", \"Y\", \"J\", \"K\"],[\"D\", \"B\", \"C\", \"A\", \"M\", \"N\"],[\"F\", \"G\", \"G\", \"R\", \"S\", \"R\"],\n",
    "      [\"V\", \"X\", \"H\", \"A\", \"S\", \"S\"]],\"D\")"
   ]
  },
  {
   "cell_type": "code",
   "execution_count": null,
   "metadata": {},
   "outputs": [],
   "source": [
    "def remove(l1):\n",
    "    l1.remove(min(l1))\n",
    "    print(l1)\n",
    "remove([1, 2, 3, 4, 5])"
   ]
  },
  {
   "cell_type": "code",
   "execution_count": 4,
   "metadata": {},
   "outputs": [
    {
     "name": "stdout",
     "output_type": "stream",
     "text": [
      "j4v45cr1pt 15 c00lj4v45cr1pt 15 c00l\n"
     ]
    }
   ],
   "source": [
    "def num(a):\n",
    "    for i in range(0,len(a)):\n",
    "        print(a[i],end=\"\")\n",
    "        a=a.replace(\"a\",\"4\")\n",
    "        a=a.replace(\"o\",\"0\")\n",
    "        a=a.replace(\"e\",\"3\")\n",
    "        a=a.replace(\"i\",\"1\")\n",
    "        a=a.replace(\"s\",\"5\")\n",
    "    print(a)\n",
    "num(\"javascript is cool\")"
   ]
  },
  {
   "cell_type": "code",
   "execution_count": null,
   "metadata": {},
   "outputs": [],
   "source": [
    "a=\"java\"\n",
    "a.replace(\"a\",\"4"
   ]
  },
  {
   "cell_type": "code",
   "execution_count": null,
   "metadata": {},
   "outputs": [],
   "source": [
    "def special(l1):\n",
    "    for i in range(0,len(l1),):\n",
    "        if(i%2==0 and l1[i]%2==0):\n",
    "            return \"true\"\n",
    "        else:\n",
    "            return \"flase\"\n",
    "        if(i%2!=0 and l1[i]%2!=0):\n",
    "            return \"true\"\n",
    "        else:\n",
    "            return \"flase\"\n",
    "special([2, 7, 4, 9, 6, 1, 6, 3])"
   ]
  },
  {
   "cell_type": "code",
   "execution_count": null,
   "metadata": {},
   "outputs": [],
   "source": [
    "def cum(l1):\n",
    "    l2=[]\n",
    "    sum1=0\n",
    "    for i in range(0,len(l1)):\n",
    "        sum1=sum1+l1[i]\n",
    "        l2.append(sum1)\n",
    "    print(l2)\n",
    "cum([1,2,3])"
   ]
  },
  {
   "cell_type": "code",
   "execution_count": null,
   "metadata": {},
   "outputs": [],
   "source": [
    "def index(l1,a):\n",
    "    l2=[]\n",
    "    for i in range(0,len(l1)):\n",
    "        if(l1[i]==a):\n",
    "            l2.append(i)\n",
    "    print(l2)\n",
    "index(\"hello\", \"l\")"
   ]
  },
  {
   "cell_type": "code",
   "execution_count": null,
   "metadata": {},
   "outputs": [],
   "source": [
    "def switch(a):\n",
    "    print(type(a))\n",
    "    if(type(a)==str):\n",
    "        b=slice(1,len(a)-1,1)\n",
    "        c=slice(0,1,1)\n",
    "        d=slice(len(a)-1,len(a),1)\n",
    "        x=a[c]\n",
    "        y=a[b]\n",
    "        z=a[d]\n",
    "        print(type(x))\n",
    "        print(z+y+x)\n",
    "    elif(type(a)==list):\n",
    "        print(\"Incompatible\")\n",
    "    elif(len(a)==1):\n",
    "              print(\"Incompatible\")\n",
    "switch(\"Cat, dog, and mouse.\")"
   ]
  },
  {
   "cell_type": "code",
   "execution_count": null,
   "metadata": {},
   "outputs": [],
   "source": [
    "a=\"jayendra\"\n",
    "b=a[0]\n",
    "c=a[-1]\n",
    "print(a[0])\n",
    "print(a[-1])\n",
    "if(b!=c):\n",
    "    temp=b\n",
    "    b=c\n",
    "    c=temp\n",
    "a=a.replace(a[0],b)\n",
    "a=a.replace(a[-1],c)\n",
    "print(a)"
   ]
  },
  {
   "cell_type": "code",
   "execution_count": null,
   "metadata": {},
   "outputs": [],
   "source": [
    "a = \"jayendra\""
   ]
  },
  {
   "cell_type": "code",
   "execution_count": null,
   "metadata": {},
   "outputs": [],
   "source": [
    "a"
   ]
  },
  {
   "cell_type": "code",
   "execution_count": null,
   "metadata": {},
   "outputs": [],
   "source": [
    "a[-2]"
   ]
  },
  {
   "cell_type": "code",
   "execution_count": null,
   "metadata": {},
   "outputs": [],
   "source": [
    "aa=[1, 2, 3, 4, 5, 6, 7, 8, 9, 0]\n",
    "a=str(aa)\n",
    "print(a)"
   ]
  },
  {
   "cell_type": "code",
   "execution_count": null,
   "metadata": {},
   "outputs": [],
   "source": [
    "b=slice(1,len(a)-1,1)\n",
    "c=slice(0,1,1)\n",
    "d=slice(len(a)-1,len(a),1)\n",
    "x=a[c]\n",
    "y=a[b]\n",
    "z=a[d]\n",
    "print(type(x))\n",
    "print(z+y+x)"
   ]
  },
  {
   "cell_type": "code",
   "execution_count": null,
   "metadata": {},
   "outputs": [],
   "source": [
    "def phone(a):\n",
    "    if(len(a)==10):\n",
    "        print(\"(\",a[0],a[1],a[2],\")\",\" \",a[3],a[4],a[5],\"-\",a[6],a[7],a[8],a[9])\n",
    "    else:\n",
    "        print(\"wrong number\")\n",
    "phone([5, 1, 9, 5, 5, 5, 4, 4, 6, 8])"
   ]
  },
  {
   "cell_type": "code",
   "execution_count": 5,
   "metadata": {},
   "outputs": [
    {
     "name": "stdout",
     "output_type": "stream",
     "text": [
      "['5', '1', '9', '5', '5', '5', '4', '4', '6', '8']\n",
      "( 519 )   555 - 4468\n"
     ]
    }
   ],
   "source": [
    "def phone(a):\n",
    "    b=[]\n",
    "    if(len(a)==10):\n",
    "        for i in range(0,len(a)):\n",
    "            b.append(str(a[i]))\n",
    "        print(b)\n",
    "        c=b[0:3]\n",
    "        d=b[3:6]\n",
    "        e=b[6:10]\n",
    "        x=''.join(c)\n",
    "        y=''.join(d)\n",
    "        z=''.join(e)\n",
    "        print(\"(\",x,\")\",\" \",y,\"-\",z)\n",
    "    else:\n",
    "        print(\"wrong number\")\n",
    "phone([5, 1, 9, 5, 5, 5, 4, 4, 6, 8])"
   ]
  },
  {
   "cell_type": "code",
   "execution_count": null,
   "metadata": {},
   "outputs": [],
   "source": [
    "def upward(a):\n",
    "    for i in range(0,len(a)-1):\n",
    "        print(a[i])\n",
    "        print(a[i+1])\n",
    "        if(a[i]<a[i+1]):\n",
    "            print(\"true\")\n",
    "        else:\n",
    "            print(\"false\")\n",
    "            \n",
    "upward([1, 8, 3, 4])"
   ]
  },
  {
   "cell_type": "code",
   "execution_count": null,
   "metadata": {},
   "outputs": [],
   "source": [
    "a= \"apple\""
   ]
  },
  {
   "cell_type": "code",
   "execution_count": null,
   "metadata": {},
   "outputs": [],
   "source": [
    "for i  in range(1,6):\n",
    "    for j in range(1,i+1):\n",
    "        print(\"*\",end=\" \")\n",
    "    print(\"\\n\")"
   ]
  },
  {
   "cell_type": "code",
   "execution_count": null,
   "metadata": {},
   "outputs": [],
   "source": [
    "for j in range(1,2):\n",
    "    print(j)"
   ]
  },
  {
   "cell_type": "code",
   "execution_count": null,
   "metadata": {},
   "outputs": [],
   "source": [
    "def shared(a,b):\n",
    "    a=a.lower()\n",
    "    b=b.lower()\n",
    "    for i in a:\n",
    "        for j in b:\n",
    "            if(i==j):\n",
    "                print(i,end=\"\")\n",
    "\n",
    "shared(\"house\", \"home\")"
   ]
  },
  {
   "cell_type": "code",
   "execution_count": null,
   "metadata": {},
   "outputs": [],
   "source": [
    "def dice(l1):\n",
    "    for i in range(0,len(l1)-1):\n",
    "        j=i+1\n",
    "        if(l1[len(l1)-2]==1):\n",
    "            l1[len(l1)-1]=l1[len(l1)-1]*0\n",
    "        if(l1[i]==1):\n",
    "            l1[j]=l1[j]*0\n",
    "        elif(l1[i]==6):\n",
    "            l1[j]=l1[j]*2\n",
    "        #elif(l1[len(l1)-2]==1):\n",
    "          #  l1[len(l1)-1]=l1[len(l1)-1]*0\n",
    "    print(\"length:\",len(l1))\n",
    "    print(\"element at:\",l1[len(l1)-1])\n",
    "    print(sum(l1))\n",
    "    \n",
    "dice([6,1,1])"
   ]
  },
  {
   "cell_type": "code",
   "execution_count": null,
   "metadata": {},
   "outputs": [],
   "source": [
    "def black(l1):\n",
    "    b=[]\n",
    "    for i in range(0,len(l1)):\n",
    "        if(l1[i]==\"J\"):\n",
    "            l1.pop(i)\n",
    "            l1.insert(i,10)\n",
    "        elif(l1[i]==\"K\"):\n",
    "            l1.pop(i)\n",
    "            l1.insert(i,10)\n",
    "        elif(l1[i]==\"Q\"):\n",
    "            l1.pop(i)\n",
    "            l1.insert(i,10)            \n",
    "        if(int==type(l1[i])):\n",
    "            b.append(l1[i])\n",
    "    sum_b=sum(b)\n",
    "    for i in range(0,len(l1)):\n",
    "        if(sum_b>13):\n",
    "            if(l1[i]==\"A\"):\n",
    "                l1.pop(i)\n",
    "                l1.insert(i,1)\n",
    "        elif(sum_b<=13):\n",
    "            if(l1[i]==\"A\"):\n",
    "                l1.pop(i)\n",
    "                l1.insert(i,11)\n",
    "    s=sum(l1)\n",
    "    if(s>21):\n",
    "        print(\"True\")\n",
    "    elif(s<=21):\n",
    "        print(\"False\")\n",
    "    print(l1)\n",
    "black([1,10,10,\"A\"])"
   ]
  },
  {
   "cell_type": "code",
   "execution_count": null,
   "metadata": {},
   "outputs": [],
   "source": [
    "def score(l1):\n",
    "    print(l1)\n",
    "    sum_1=0\n",
    "    sum_2=0\n",
    "    for i  in range(0,len(l1)):\n",
    "        #print(l1[i])\n",
    "        if(l1[i]==[\"R\", \"P\"]):\n",
    "            sum_2=sum_2+1\n",
    "        elif(l1[i]==[\"P\", \"R\"]):\n",
    "            sum_1=sum_1+1\n",
    "        elif(l1[i]==[\"R\", \"S\"]):\n",
    "            sum_1=sum_1+1\n",
    "        elif(l1[i]==[\"S\", \"R\"]):\n",
    "            sum_2=sum_2+1\n",
    "        elif(l1[i]==[\"S\", \"P\"]):\n",
    "            sum_1=sum_1+1\n",
    "        elif(l1[i]==[\"P\", \"S\"]):\n",
    "            sum_2=sum_2+1\n",
    "        elif(l1[i]==[\"S\", \"S\"]):\n",
    "            sum_1=sum_1+0\n",
    "            sum_2=sum_2+0\n",
    "        elif(l1[i]==[\"R\", \"R\"]):\n",
    "            sum_2=sum_2+0\n",
    "            sum_1=sum_1+0\n",
    "        elif(l1[i]==[\"P\", \"P\"]):\n",
    "            sum_1=sum_1+0\n",
    "            sum_2=sum_2+0\n",
    "    if(sum_1>sum_2):\n",
    "        print(\"Abigail\")\n",
    "    elif(sum_1==sum_2):\n",
    "        print(\"Tie\")\n",
    "    elif(sum_1<sum_2):\n",
    "        print(\"Benson\")\n",
    "score([[\"R\", \"R\"], [\"S\", \"S\"]])"
   ]
  },
  {
   "cell_type": "code",
   "execution_count": null,
   "metadata": {},
   "outputs": [],
   "source": [
    "d = {}\n",
    "start_value = int(input(\"Enter the start number: \"))\n",
    "end_value = int(input(\"Enter the end number\"))\n",
    "for i in range(start_value,end_value+1):\n",
    "    d[i] = i**2\n",
    "\n",
    "print(d)"
   ]
  },
  {
   "cell_type": "code",
   "execution_count": null,
   "metadata": {},
   "outputs": [],
   "source": [
    "print(d)"
   ]
  },
  {
   "cell_type": "code",
   "execution_count": 2,
   "metadata": {},
   "outputs": [
    {
     "name": "stdout",
     "output_type": "stream",
     "text": [
      "4\n",
      "10\n",
      "health of hero=: -8\n",
      "health of monster=: 22\n",
      "Hero die\n"
     ]
    }
   ],
   "source": [
    "def game(dict1):\n",
    "    hdr=dict1[\"pATT\"]*2-dict1[\"mDEF\"]\n",
    "    mdr=dict1[\"mATT\"]*2-dict1[\"pDEF\"]\n",
    "    print(hdr)\n",
    "    print(mdr)\n",
    "    for i in dict1.items():\n",
    "        if(dict1[\"pHP\"]>0 and dict1[\"mHP\"]>0):\n",
    "            dict1[\"mHP\"]=dict1[\"mHP\"]-hdr\n",
    "            dict1[\"pATT\"]=dict1[\"pATT\"] - 1         \n",
    "            if(dict1[\"mHP\"]>0):\n",
    "                dict1[\"pHP\"]=dict1[\"pHP\"]-mdr\n",
    "                dict1[\"mATT\"]=dict1[\"mATT\"] - 1\n",
    "\n",
    "    for i in range(0,dict1[\"pHP\"]):    \n",
    "        if(dict1[\"pPOT\"]>=0 and dict1[\"mHP\"]>=0 and dict1[\"pHP\"]>0):\n",
    "            dict1[\"pHP\"]=dict1[\"pHP\"]+10 -mdr//2\n",
    "            dict1[\"pPOT\"]=dict1[\"pPOT\"]-1\n",
    "                \n",
    "            \n",
    "    print(\"health of hero=:\",dict1[\"pHP\"])\n",
    "    print(\"health of monster=:\",dict1[\"mHP\"])\n",
    "    \n",
    "    if(dict1[\"mHP\"]<=0):\n",
    "        print(\"Monster die\")\n",
    "    if(dict1[\"pHP\"]<=0):\n",
    "        print(\"Hero die\")   \n",
    "game({\n",
    " \"pHP\": 12,\n",
    "  \"pATT\": 7,\n",
    "  \"pDEF\": 6,\n",
    "  \"pPOT\": 2,\n",
    "  \"mHP\": 30,\n",
    "  \"mATT\": 8,\n",
    "  \"mDEF\": 10})"
   ]
  },
  {
   "cell_type": "code",
   "execution_count": null,
   "metadata": {},
   "outputs": [],
   "source": [
    "\n",
    "def stranger(a):\n",
    "    c=[]\n",
    "    for i in range(0,len(a)):\n",
    "            b=a.split()\n",
    "    for i in range(0,len(b)):\n",
    "        if(b.count(b[i])>=2):\n",
    "            c.append(b[i])\n",
    "    print((list(set(c))))\n",
    "    for i in range(0,len(b)):\n",
    "        if(b.count(b[i])>=3 and b.count(b[i])==4):\n",
    "            print(\"the word is '\",b[i],\"' and  it is\",\"acquaintance\")\n",
    "            break\n",
    "        if(b.count(b[i])==5):\n",
    "            print(\"the word is '\",b[i],\"' and  it is\",\"friend\")\n",
    "            break\n",
    "stranger(\"See Spot run. See Spot See See jump. Spot likes jumping. See Spot fly.\")"
   ]
  },
  {
   "cell_type": "code",
   "execution_count": null,
   "metadata": {},
   "outputs": [],
   "source": [
    "def college(name,age,loc,stream,college_name=\"N.E.S college\"):\n",
    "    print(\" \")\n",
    "    print(\" \")\n",
    "    print(\" \")\n",
    "    print(\"your name is :\",name)\n",
    "    print(\"your age is:\",age)\n",
    "    print(\"your location is:\",loc)\n",
    "    print(\"your stream is:\",stream)\n",
    "    \n",
    "    print(\"your college name is:\",college_name)\n",
    "d1=input(\"enter your name:\")\n",
    "d2=int(input(\"enter your age:\"))\n",
    "d3=input(\"enter your loc:\")\n",
    "d4=input(\"enter your stream:\")\n",
    "d5=input(\"enter your college name:\")\n",
    "college(name=d1,age=d2,loc=d3,stream=d4,college_name=d5)"
   ]
  },
  {
   "cell_type": "code",
   "execution_count": null,
   "metadata": {},
   "outputs": [],
   "source": [
    "def person(name,**data):\n",
    "    print(name)\n",
    "    for k,v in data.items():\n",
    "        print(k,v)\n",
    "person(\"abc\",loc='mum',mum=1234)"
   ]
  },
  {
   "cell_type": "code",
   "execution_count": null,
   "metadata": {},
   "outputs": [],
   "source": [
    "def hidden(a):\n",
    "    print(a)\n",
    "    \n",
    "hidden(\"KNowlEDgE ITsElf Is power\")"
   ]
  },
  {
   "cell_type": "code",
   "execution_count": null,
   "metadata": {},
   "outputs": [],
   "source": [
    "def remove(a):\n",
    "    c=[]\n",
    "    sep=\" \"\n",
    "    dic={\"a\": \"uuuuu\",\"b\": \"uuuul\",\"c\": \"uuulu\",\"d\": \"uuull\",\"e\": \"uuluu\",\"f\": \"uulul\",\"g\": \"uullu\",\"h\": \"uulll\",\n",
    "         \"i\": \"uluuu\",\"j\": \"uluul\",\"k\": \"ululu\",\"l\": \"ulull\",\"m\": \"ulluu\",\"n\": \"ullul\",\"o\": \"ulllu\",\"p\": \"ullll\",\n",
    "         \"q\": \"luuuu\",\"r\": \"luuul\",\"s\": \"luulu\",\"t\": \"luull\",\"u\": \"luluu\",\"v\": \"lulul\",\"w\": \"lullu\",\"x\": \"lulll\",\n",
    "         \"y\": \"lluuu\",\"z\": \"lluul\",\".\": \"llllu\",\" \": \"lllll\"}\n",
    "    e=[]\n",
    "    for i in range(0,len(a)):\n",
    "        a=a.replace(\" \", \"\")    #replace space to empty space\n",
    "       \n",
    "    print(a)\n",
    "    st=0\n",
    "    end=st+5\n",
    "   \n",
    "    for j in range(0,len(a)):\n",
    "        b=(a[st:end])\n",
    "        if(len(b)==5):\n",
    "            c.append(b)\n",
    "        st=end\n",
    "        end=end+5\n",
    "       \n",
    "    print(c)\n",
    "    d=sep.join(c)\n",
    "    print(d)\n",
    "   \n",
    "    for k in range(0,len(d)):\n",
    "        if(d[k].islower()==True):\n",
    "            d=d.replace(d[k],\"l\")\n",
    "           \n",
    "    for l in range(0,len(d)):\n",
    "        if(d[l].isupper()==True):\n",
    "            d=d.replace(d[l],\"u\")\n",
    "           \n",
    "    d=list(d.split(\" \"))\n",
    "    print(d)\n",
    "   \n",
    "    for n in d:\n",
    "        for key,val in dic.items():\n",
    "            if val==n:\n",
    "                e.append(key)\n",
    "    f=''.join(e)\n",
    "    print(\" \")\n",
    "    print(\"The Decode word is : \",f)\n",
    "remove(\"MAn prEFeRS To BelIeve what he PreFERS tO Be truE\")\n"
   ]
  },
  {
   "cell_type": "code",
   "execution_count": null,
   "metadata": {},
   "outputs": [],
   "source": [
    "def prime_numbers(user):\n",
    "    l1=[]\n",
    "    mul=1\n",
    "    for i in range(0,1000):\n",
    "        if(i>1):\n",
    "            for j in range(2,i):\n",
    "                if(i%j == 0):\n",
    "                    break\n",
    "            else:\n",
    "                l1.append(i)  \n",
    "    for i in range(0,user):\n",
    "        mul=mul*l1[i]\n",
    "    print(mul)\n",
    "prime_numbers(8)"
   ]
  },
  {
   "cell_type": "code",
   "execution_count": null,
   "metadata": {},
   "outputs": [],
   "source": [
    "def untouch(number):\n",
    "    sum1=0\n",
    "    l1=[]\n",
    "    if(number<2):\n",
    "        print(\"invalid number is less than 2\")\n",
    "    elif(number>=2):\n",
    "        b=number**2\n",
    "    for i in range(0,b):\n",
    "        for j in range(1,i):\n",
    "            if(i%j==0):\n",
    "                sum1=sum1+j\n",
    "                if(number==sum1):\n",
    "                    l1.append(\"touch\")\n",
    "                else:\n",
    "                    l1.append(\"untouch\")\n",
    "        \n",
    "        sum1=0\n",
    "    set1=set(l1)\n",
    "    l1=list(set1)\n",
    "    if(len(l1)==1):\n",
    "        print(l1[0])\n",
    "    else:\n",
    "        print(\"touch\")\n",
    "        \n",
    "untouch(2)"
   ]
  },
  {
   "cell_type": "code",
   "execution_count": null,
   "metadata": {},
   "outputs": [],
   "source": [
    "def sort(l1):\n",
    "    l2=[]\n",
    "    l3=[]\n",
    "    print(l1)\n",
    "    for i in l1:\n",
    "        if(i>0):\n",
    "            l2.append(i)\n",
    "            l2.sort()\n",
    "        if(i<0):\n",
    "            l3.append(i)\n",
    "    for k in l3:\n",
    "        for j in range(0,len(l1)):\n",
    "            if(l1[j]<0):\n",
    "                l2.insert(j,l1[j])\n",
    "        break\n",
    "    print(l2)\n",
    "sort([6, 3, -2, 5, -8, 2, -2])"
   ]
  },
  {
   "cell_type": "code",
   "execution_count": null,
   "metadata": {},
   "outputs": [],
   "source": [
    "def brick(a,b,c,w,h):\n",
    "    l2=[]\n",
    "    \n",
    "    \n",
    "brick(1, 1, 1, 1, 1)"
   ]
  },
  {
   "cell_type": "code",
   "execution_count": null,
   "metadata": {},
   "outputs": [],
   "source": [
    "def print_num():\n",
    "    a=10\n",
    "    print(a)\n",
    "print_num()"
   ]
  },
  {
   "cell_type": "code",
   "execution_count": 1,
   "metadata": {},
   "outputs": [
    {
     "name": "stdout",
     "output_type": "stream",
     "text": [
      "[1, 2, 3, 10, 11, 15]\n"
     ]
    },
    {
     "data": {
      "text/plain": [
       "3"
      ]
     },
     "execution_count": 1,
     "metadata": {},
     "output_type": "execute_result"
    }
   ],
   "source": [
    "def longest(l1):\n",
    "    ans=0\n",
    "    l1.sort()\n",
    "    print(l1)\n",
    "    \n",
    "    for i in range(0,len(l1)):\n",
    "        if(l1[i]-1) not in l1:\n",
    "            j=l1[i]\n",
    "            while(j in l1):\n",
    "                j=j+1\n",
    "                ans=max(ans,j-l1[i])\n",
    "                \n",
    "        return(ans)\n",
    "longest([1, 2, 3, 10, 11, 15])"
   ]
  },
  {
   "cell_type": "code",
   "execution_count": 2,
   "metadata": {},
   "outputs": [
    {
     "name": "stdout",
     "output_type": "stream",
     "text": [
      "10\n",
      "x: 10\n"
     ]
    }
   ],
   "source": [
    "def test():  \n",
    "    global x\n",
    "    x=10\n",
    "    print(x)\n",
    "\n",
    "test()\n",
    "print(\"x:\",x)"
   ]
  },
  {
   "cell_type": "code",
   "execution_count": 3,
   "metadata": {},
   "outputs": [
    {
     "name": "stdout",
     "output_type": "stream",
     "text": [
      "[2, 4, 6, 8, 10, 12, 14, 16, 18, 20]\n"
     ]
    }
   ],
   "source": [
    "res=[i for i in range(1,21) if(i%2==0)]\n",
    "print(res)"
   ]
  },
  {
   "cell_type": "code",
   "execution_count": 4,
   "metadata": {},
   "outputs": [
    {
     "name": "stdout",
     "output_type": "stream",
     "text": [
      "['a', 'e', 'a']\n"
     ]
    }
   ],
   "source": [
    "a=\"jayendra\"\n",
    "res=[a[i] for i in range(0,len(a)) if(a[i]=='a' or a[i]=='e' or a[i]=='o' or a[i]=='u' or a[i]=='i')]\n",
    "print(res)"
   ]
  },
  {
   "cell_type": "code",
   "execution_count": 5,
   "metadata": {},
   "outputs": [
    {
     "name": "stdout",
     "output_type": "stream",
     "text": [
      "['a', 'e', 'a']\n"
     ]
    }
   ],
   "source": [
    "a=\"jayendra\"\n",
    "b=['a','i','e','o','u']\n",
    "res=[a[i] for i in range(0,len(a)) if(a[i] in b)]\n",
    "print(res)"
   ]
  },
  {
   "cell_type": "code",
   "execution_count": 6,
   "metadata": {},
   "outputs": [
    {
     "name": "stdout",
     "output_type": "stream",
     "text": [
      "[1.08, 8, 9, 0.01]\n"
     ]
    }
   ],
   "source": [
    "a=[-3.22,1.08,-0.01,-5.66,8,9,0.01]\n",
    "res=[a[i] for i in range(0,len(a)) if(a[i] >0)]\n",
    "print(res)"
   ]
  },
  {
   "cell_type": "code",
   "execution_count": 7,
   "metadata": {},
   "outputs": [
    {
     "name": "stdout",
     "output_type": "stream",
     "text": [
      "[('hello', 5), ('wow', 3), ('goodbye', 7), ('welcome', 7), ('see you', 7)]\n"
     ]
    }
   ],
   "source": [
    "a=[\"hello\" ,\"wow\",'goodbye',\"welcome\",\"see you\"]\n",
    "res=[(a[i],len(a[i])) for i in range(0,len(a))]\n",
    "print(res)"
   ]
  },
  {
   "cell_type": "code",
   "execution_count": 8,
   "metadata": {},
   "outputs": [
    {
     "name": "stdout",
     "output_type": "stream",
     "text": [
      "[10, 20, 30]\n"
     ]
    }
   ],
   "source": [
    "a=[5,10,15,20,30,24,34]\n",
    "res=[a[i] for i in range(0,len(a)) if(a[i]%2==0) if(a[i]%5==0)]\n",
    "print(res)"
   ]
  },
  {
   "cell_type": "code",
   "execution_count": 9,
   "metadata": {},
   "outputs": [
    {
     "name": "stdout",
     "output_type": "stream",
     "text": [
      "{1: 1, 2: 4, 3: 9, 4: 16, 5: 25, 6: 36, 7: 49, 8: 64, 9: 81, 10: 100}\n"
     ]
    }
   ],
   "source": [
    "res={i:i**2 for i in range(1,11)}\n",
    "print(res)"
   ]
  },
  {
   "cell_type": "code",
   "execution_count": 10,
   "metadata": {},
   "outputs": [
    {
     "name": "stdout",
     "output_type": "stream",
     "text": [
      "{'apple': 5, 'mango': 5, 'orange': 6, 'pineapple': 9}\n"
     ]
    }
   ],
   "source": [
    "a=['apple','mango','orange','pineapple']\n",
    "res={a[i]:len(a[i]) for i in range(0,len(a))}\n",
    "print(res)"
   ]
  },
  {
   "cell_type": "code",
   "execution_count": 11,
   "metadata": {},
   "outputs": [
    {
     "name": "stdout",
     "output_type": "stream",
     "text": [
      "{'P': 'p', 'R': 'r', 'O': 'o', 'G': 'g', 'A': 'a', 'M': 'm', 'I': 'i', 'N': 'n'}\n"
     ]
    }
   ],
   "source": [
    "a='programming'\n",
    "res={a[i].upper():a[i].lower() for i in range(0,len(a))}\n",
    "print(res)"
   ]
  },
  {
   "cell_type": "code",
   "execution_count": 12,
   "metadata": {},
   "outputs": [
    {
     "data": {
      "text/plain": [
       "120"
      ]
     },
     "execution_count": 12,
     "metadata": {},
     "output_type": "execute_result"
    }
   ],
   "source": [
    "def factorial(num):\n",
    "    if (num == 1 or num==0):\n",
    "        return num\n",
    "    else:\n",
    "        return num * factorial(num - 1)\n",
    "factorial(5)"
   ]
  },
  {
   "cell_type": "code",
   "execution_count": 13,
   "metadata": {},
   "outputs": [
    {
     "name": "stdout",
     "output_type": "stream",
     "text": [
      "1\n",
      "2\n",
      "3\n",
      "4\n",
      "5\n"
     ]
    }
   ],
   "source": [
    "def print_no(n):\n",
    "    if(n>0):\n",
    "        print_no(n-1)\n",
    "        print(n)\n",
    "print_no(5)"
   ]
  },
  {
   "cell_type": "markdown",
   "metadata": {},
   "source": [
    "# clouser\n"
   ]
  },
  {
   "cell_type": "code",
   "execution_count": null,
   "metadata": {},
   "outputs": [],
   "source": [
    "def square(x):\n",
    "    return x*x*x\n",
    "def my_data(fun,arg_list):\n",
    "    result=[]\n",
    "    for i in arg_list:\n",
    "        result.append(fun(i))\n",
    "    return result\n",
    "\n",
    "my_data(square,[10,20,30,40])"
   ]
  },
  {
   "cell_type": "code",
   "execution_count": null,
   "metadata": {},
   "outputs": [],
   "source": [
    "import itertools as it\n",
    "l1=[1,2,3,4]\n",
    "l2=[11,12,13,14,15]\n",
    "result=it.zip_longest(l1,l2)\n",
    "print(list(result))"
   ]
  },
  {
   "cell_type": "code",
   "execution_count": null,
   "metadata": {},
   "outputs": [],
   "source": [
    "import itertools as it\n",
    "l1=[1,2,3,4]\n",
    "res=itertools.cycle(l1)\n",
    "print(next(res))\n",
    "print(next(res))\n",
    "print(next(res))\n",
    "print(next(res))\n",
    "print(next(res))"
   ]
  },
  {
   "cell_type": "code",
   "execution_count": null,
   "metadata": {},
   "outputs": [],
   "source": [
    "import itertools as it\n",
    "l1=[1,2,3,4]\n",
    "res=itertools.repeat(l1,times=2)\n",
    "print(next(res))\n",
    "print(next(res))\n"
   ]
  },
  {
   "cell_type": "code",
   "execution_count": null,
   "metadata": {},
   "outputs": [],
   "source": [
    "import itertools as it\n",
    "l1=[1,2,3,4,5]\n",
    "res=it.permutations(l1,2)\n",
    "print(list(res))"
   ]
  },
  {
   "cell_type": "code",
   "execution_count": null,
   "metadata": {},
   "outputs": [],
   "source": [
    "import itertools as it\n",
    "l1=[1,2,3,4,5]\n",
    "res=it.combinations(l1,3)\n",
    "print(list(res))"
   ]
  },
  {
   "cell_type": "code",
   "execution_count": null,
   "metadata": {},
   "outputs": [],
   "source": [
    "import itertools as it\n",
    "l1=[1,2,3,4,5]\n",
    "res=itertools.product(l1,repeat=2)\n",
    "print(list(res))"
   ]
  },
  {
   "cell_type": "code",
   "execution_count": null,
   "metadata": {},
   "outputs": [],
   "source": [
    "import itertools as it\n",
    "l1=[1,2,3,4,5]\n",
    "res=it.combinations_with_replacement(l1,3)\n",
    "print(list(res))"
   ]
  },
  {
   "cell_type": "code",
   "execution_count": null,
   "metadata": {},
   "outputs": [],
   "source": [
    "import itertools as it\n",
    "l1=[1,2,3,4,5]\n",
    "l2=[6,7,8,9,10]\n",
    "l3=[11,12,13,14,15]\n",
    "res=it.chain(l1,l2,l3)\n",
    "print(list(res))"
   ]
  },
  {
   "cell_type": "code",
   "execution_count": null,
   "metadata": {},
   "outputs": [],
   "source": [
    "import itertools as it\n",
    "res=it.islice(range(100),13,78,10)\n",
    "print(list(res))"
   ]
  },
  {
   "cell_type": "code",
   "execution_count": null,
   "metadata": {},
   "outputs": [],
   "source": [
    "import itertools as it\n",
    "l1=[True,False,True,False,True]\n",
    "l2=[1,2,3,4,5]\n",
    "res=it.compress(l2,l1)\n",
    "print(list(res))"
   ]
  },
  {
   "cell_type": "code",
   "execution_count": null,
   "metadata": {},
   "outputs": [],
   "source": [
    "import itertools as it\n",
    "l1=[1,2,3,4,5]\n",
    "res=it.accumulate(l1)\n",
    "print(list(res))"
   ]
  },
  {
   "cell_type": "code",
   "execution_count": null,
   "metadata": {},
   "outputs": [],
   "source": [
    "def increase(n):\n",
    "    return n+1\n",
    "res=increase\n",
    "del(increase)\n",
    "res(12)"
   ]
  },
  {
   "cell_type": "code",
   "execution_count": null,
   "metadata": {},
   "outputs": [],
   "source": [
    "def f():\n",
    "    def g():\n",
    "        print(\"hello its g\")\n",
    "        print(\"thanks for calling me\")\n",
    "    print(\"i am function f\")\n",
    "    g()\n",
    "f()"
   ]
  },
  {
   "cell_type": "code",
   "execution_count": null,
   "metadata": {},
   "outputs": [],
   "source": [
    "def outer(func):\n",
    "    def inner():\n",
    "        print(\"i am inner class\")\n",
    "        func()\n",
    "    return inner\n",
    "@outer\n",
    "def deco():\n",
    "    print(\"i am decorator\")\n",
    "# outer(deco())\n",
    "deco()"
   ]
  },
  {
   "cell_type": "code",
   "execution_count": null,
   "metadata": {},
   "outputs": [],
   "source": [
    "def make_preety(fun):\n",
    "    def inner():\n",
    "        print(\"i am a inner\")\n",
    "        fun()\n",
    "    return inner\n",
    "@make_preety\n",
    "def my_deco():\n",
    "    print(\"i got updated\")\n",
    "my_deco()"
   ]
  },
  {
   "cell_type": "code",
   "execution_count": null,
   "metadata": {},
   "outputs": [],
   "source": [
    "def outer(fun):\n",
    "    def inner(x):\n",
    "        print(\"before calling func value of x is :\",x)\n",
    "        fun(x)\n",
    "        print(\"vaule of x after :\",x)\n",
    "    return inner\n",
    "@outer\n",
    "def deco(x):\n",
    "    print(\"value of x is :\",x)\n",
    "deco(\"jayendra\")"
   ]
  },
  {
   "cell_type": "code",
   "execution_count": null,
   "metadata": {},
   "outputs": [],
   "source": [
    "def smart_division(fun):\n",
    "    def inner(a,b):\n",
    "        if a==0 or b==0:\n",
    "            print(\"cannot divide\")\n",
    "            return False\n",
    "        return fun(a,b)\n",
    "    return inner\n",
    "\n",
    "# def divide(a,b):\n",
    "#     res=a/b\n",
    "#     return res\n",
    "@smart_division\n",
    "def mul(a,b):\n",
    "    res=a*b\n",
    "    return res\n",
    "mul(0,2)"
   ]
  },
  {
   "cell_type": "markdown",
   "metadata": {},
   "source": [
    "## Lambda Function"
   ]
  },
  {
   "cell_type": "code",
   "execution_count": 6,
   "metadata": {},
   "outputs": [
    {
     "name": "stdout",
     "output_type": "stream",
     "text": [
      "age is: ('apple',)\n",
      "kwargs is: {'name': 'punit', 'age': 27}\n",
      "('apple',) {'name': 'punit', 'age': 27}\n"
     ]
    }
   ],
   "source": [
    "def print_args(func):\n",
    "    def inner(*args,**kwargs):\n",
    "        print(\"age is:\",args)\n",
    "        print(\"kwargs is:\",kwargs)\n",
    "        func(*args,**kwargs)\n",
    "    return inner\n",
    "@print_args\n",
    "def print_deco(*args,**kwargs):\n",
    "    print(args,kwargs)\n",
    "print_deco(\"apple\",name=\"punit\",age=27)"
   ]
  },
  {
   "cell_type": "code",
   "execution_count": null,
   "metadata": {},
   "outputs": [],
   "source": [
    "square=lambda x:x*x\n",
    "square(5)"
   ]
  },
  {
   "cell_type": "code",
   "execution_count": null,
   "metadata": {},
   "outputs": [],
   "source": [
    "mul= lambda x,y:x*y\n",
    "mul(4,5)"
   ]
  },
  {
   "cell_type": "code",
   "execution_count": null,
   "metadata": {},
   "outputs": [],
   "source": [
    "a=[1,2,3,4,5]\n",
    "def num_sq(x):\n",
    "    return x*x\n",
    "res=list(map(num_sq,a))\n",
    "print(res)"
   ]
  },
  {
   "cell_type": "code",
   "execution_count": null,
   "metadata": {},
   "outputs": [],
   "source": [
    "a=[1,2,3,4,5]\n",
    "res=map(lambda x:x*x,a)\n",
    "print(list(res))"
   ]
  },
  {
   "cell_type": "code",
   "execution_count": null,
   "metadata": {},
   "outputs": [],
   "source": [
    "a=[1,2,3,4,5]\n",
    "b=[10,20,30,40,50]\n",
    "res=map(lambda a,b:a+b,a,b)\n",
    "print(list(res))"
   ]
  },
  {
   "cell_type": "code",
   "execution_count": null,
   "metadata": {},
   "outputs": [],
   "source": [
    "a=[1,2,3,4,5]\n",
    "res=filter(lambda x:x%2==0,a)\n",
    "print(list(res))"
   ]
  },
  {
   "cell_type": "code",
   "execution_count": null,
   "metadata": {},
   "outputs": [],
   "source": [
    "a=[-1,-2,-6,-9,1,2,-8,8]\n",
    "res=filter(lambda x:x<0,a)\n",
    "print(list(res))"
   ]
  },
  {
   "cell_type": "code",
   "execution_count": null,
   "metadata": {},
   "outputs": [],
   "source": [
    "l=[39.2,36.5,37.3,37.8]\n",
    "res=map(lambda temp:temp*(9/5)+32,l)\n",
    "print(list(res))"
   ]
  },
  {
   "cell_type": "code",
   "execution_count": null,
   "metadata": {},
   "outputs": [],
   "source": [
    "a=[\"a\",\"b\",\"c\",\"d\",\"i\",\"e\",\"u\",\"p\"]\n",
    "b=[\"a\",\"i\",\"e\",\"o\",\"u\"]\n",
    "res=filter(lambda x:x in b,a)\n",
    "print(list(res))"
   ]
  },
  {
   "cell_type": "code",
   "execution_count": null,
   "metadata": {},
   "outputs": [],
   "source": [
    "a=[]\n",
    "for i in range(1,41):\n",
    "    a.append(i)\n",
    "res=filter(lambda x:x%3==0,a)\n",
    "print(list(res))"
   ]
  },
  {
   "cell_type": "code",
   "execution_count": null,
   "metadata": {},
   "outputs": [],
   "source": [
    "import functools as ft\n",
    "l1=[1,2,3,4,5]\n",
    "res=ft.reduce(lambda x,y:x+y,l1)\n",
    "print(res)"
   ]
  },
  {
   "cell_type": "code",
   "execution_count": null,
   "metadata": {},
   "outputs": [],
   "source": [
    "import functools as ft\n",
    "l1=[1,2,3,4,5]\n",
    "res=ft.reduce(lambda x,y:x*y,l1)\n",
    "print(res)"
   ]
  },
  {
   "cell_type": "markdown",
   "metadata": {},
   "source": [
    "# Exception Handling\n"
   ]
  },
  {
   "cell_type": "code",
   "execution_count": null,
   "metadata": {},
   "outputs": [],
   "source": [
    "try:\n",
    "    no1=int(input(\"Enter a number 1:\"))\n",
    "    no2=int(input(\"Enter a number 2:\"))\n",
    "    res=no1/no2\n",
    "    print(res)\n",
    "except ZeroDivisionError:\n",
    "    print(\"some issue in input\")\n",
    "except ValueError:\n",
    "    print(\"invalid input\")"
   ]
  },
  {
   "cell_type": "code",
   "execution_count": null,
   "metadata": {},
   "outputs": [],
   "source": [
    "try:\n",
    "    f=open('abc.txt',\"r\")\n",
    "    print(f.read())\n",
    "except FileNotFoundError:\n",
    "    print(\"oops file not found\")\n",
    "finally:\n",
    "    print(\"code have executed\")"
   ]
  },
  {
   "cell_type": "code",
   "execution_count": null,
   "metadata": {},
   "outputs": [],
   "source": [
    "def boolean(l1):\n",
    "    l2=[]\n",
    "    l3=[]\n",
    "    for i in l1:\n",
    "        if(i==True):\n",
    "            l2.append(i)\n",
    "        else:\n",
    "            l3.append(i)\n",
    "    l2=list(set(l2))\n",
    "    l3=list(set(l3))\n",
    "    a=input(\"Enter Boolean operation you want perform:\\n 1.and\\n 2.or \\n 3.xor\\n And You have selected : \")\n",
    "    a=a.lower()\n",
    "    if(a==\"and\"):\n",
    "        print(l2 and l3)\n",
    "    elif(a==\"or\"):\n",
    "        print(l2 or l3)\n",
    "    elif(a==\"xor\"):\n",
    "        if(len(l2)==0 or len(l3)==0):\n",
    "            print(\"True\")\n",
    "        else:\n",
    "            print(\"False\")\n",
    "boolean([True, True,False, True])"
   ]
  },
  {
   "cell_type": "code",
   "execution_count": null,
   "metadata": {},
   "outputs": [],
   "source": [
    "def letter(l1,a):\n",
    "    for i in a:\n",
    "        if i in l1:\n",
    "            l1.remove(i)\n",
    "    return l1\n",
    "letter([\"s\",\"s\", \"t\", \"r\", \"i\", \"n\", \"g\", \"w\"], \"string\")"
   ]
  },
  {
   "cell_type": "code",
   "execution_count": null,
   "metadata": {},
   "outputs": [],
   "source": [
    "#Sorting of number without using functions.\n",
    "def sort(l1):\n",
    "    for i in range(0,len(l1)):\n",
    "        for j in range(i+1,len(l1)):\n",
    "            if(l1[i]>l1[j]):\n",
    "                temp = l1[i]\n",
    "                l1[i] = l1[j]\n",
    "                l1[j] = temp\n",
    "    print(l1)\n",
    "sort([-5, 1, 2, 4, 7, 8]) "
   ]
  },
  {
   "cell_type": "code",
   "execution_count": null,
   "metadata": {},
   "outputs": [],
   "source": [
    "def english(a):\n",
    "    l1=['a','e','i','o','u']\n",
    "    l2=[]\n",
    "    for i in l1:\n",
    "        if(i ==a[0]):\n",
    "            print(a+'yay')\n",
    "            break\n",
    "        for j in range(1,len(a)):\n",
    "            if(i==a[j]):\n",
    "                l2.append(j)\n",
    "                l2.sort() \n",
    "    else:\n",
    "        c=min(l2)\n",
    "        print(a[c:]+a[:c]+\"ay\")\n",
    "english(\"xapple\")"
   ]
  },
  {
   "cell_type": "code",
   "execution_count": null,
   "metadata": {},
   "outputs": [],
   "source": [
    "def longest_run(l1):\n",
    "    ans = 0\n",
    "    l1.sort()\n",
    "    print(l1)\n",
    "    \n",
    "    for i in range(0,len(l1)):\n",
    "        if(l1[i]-1) not in l1:\n",
    "            print(l1[i]-1)\n",
    "            j = l1[i]\n",
    "            print(j)\n",
    "            while(j in l1):\n",
    "                j += 1\n",
    "                ans = max(ans, j-l1[i])\n",
    "    print(\"Longest is:\",ans)\n",
    "\n",
    "longest_run([1,2,3,10,11,15])"
   ]
  },
  {
   "cell_type": "code",
   "execution_count": 4,
   "metadata": {},
   "outputs": [
    {
     "name": "stdout",
     "output_type": "stream",
     "text": [
      "[2, 2, 7]\n",
      "[3, 4, 5, 6]\n",
      "[4, 5]\n"
     ]
    }
   ],
   "source": [
    "def dolls(l1):\n",
    "    for i in range(0,len(l1)):\n",
    "        print(l1[i]) \n",
    "dolls([[2, 2, 7], [3, 4, 5, 6], [4, 5]])"
   ]
  },
  {
   "cell_type": "code",
   "execution_count": 4,
   "metadata": {},
   "outputs": [
    {
     "data": {
      "image/png": "[encoded data removed]",
      "text/plain": [
       "<Figure size 432x288 with 1 Axes>"
      ]
     },
     "metadata": {
      "needs_background": "light"
     },
     "output_type": "display_data"
    }
   ],
   "source": [
    "import matplotlib.pyplot as plt\n",
    "import numpy as np\n",
    "x=np.array(['A','B','C','D'])\n",
    "y=np.array([1,2,3,4])\n",
    "plt.bar(x,y)\n",
    "plt.show()"
   ]
  },
  {
   "cell_type": "code",
   "execution_count": null,
   "metadata": {},
   "outputs": [],
   "source": []
  }
 ],
 "metadata": {
  "kernelspec": {
   "display_name": "Python 3",
   "language": "python",
   "name": "python3"
  },
  "language_info": {
   "codemirror_mode": {
    "name": "ipython",
    "version": 3
   },
   "file_extension": ".py",
   "mimetype": "text/x-python",
   "name": "python",
   "nbconvert_exporter": "python",
   "pygments_lexer": "ipython3",
   "version": "3.8.5"
  }
 },
 "nbformat": 4,
 "nbformat_minor": 2
}

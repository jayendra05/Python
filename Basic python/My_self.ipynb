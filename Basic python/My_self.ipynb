{
 "cells": [
  {
   "cell_type": "code",
   "execution_count": 1,
   "metadata": {},
   "outputs": [
    {
     "name": "stdout",
     "output_type": "stream",
     "text": [
      "(3+11j)\n"
     ]
    }
   ],
   "source": [
    "a=1+2j\n",
    "b=2+9j\n",
    "print(a+b)"
   ]
  },
  {
   "cell_type": "code",
   "execution_count": 1,
   "metadata": {},
   "outputs": [
    {
     "name": "stdout",
     "output_type": "stream",
     "text": [
      "[]\n",
      "[5]\n",
      "[8, 9]\n",
      "[0, 9, 9]\n"
     ]
    }
   ],
   "source": [
    "import random\n",
    "\n",
    "def  random_list(length_of_list):\n",
    "    a=[]\n",
    "    for i in range(0,length_of_list):\n",
    "        a.append(random.randint(0,10)) \n",
    "    print(a)\n",
    "for i in range(0,4):\n",
    "    random_list(i)\n"
   ]
  },
  {
   "cell_type": "code",
   "execution_count": 3,
   "metadata": {},
   "outputs": [
    {
     "name": "stdout",
     "output_type": "stream",
     "text": [
      "[2, 4, 6, 8, 10]\n"
     ]
    }
   ],
   "source": [
    "a=[i for i in range(1,11) if(i%2==0)]\n",
    "print(a)"
   ]
  },
  {
   "cell_type": "code",
   "execution_count": 4,
   "metadata": {},
   "outputs": [
    {
     "name": "stdout",
     "output_type": "stream",
     "text": [
      "2\n",
      "4\n",
      "6\n",
      "8\n",
      "10\n"
     ]
    }
   ],
   "source": [
    "for i in range(1,11):\n",
    "    if(i%2==0):\n",
    "        print(i)"
   ]
  },
  {
   "cell_type": "code",
   "execution_count": 5,
   "metadata": {},
   "outputs": [
    {
     "data": {
      "text/plain": [
       "120"
      ]
     },
     "execution_count": 5,
     "metadata": {},
     "output_type": "execute_result"
    }
   ],
   "source": [
    "def fact(n):\n",
    "    if n==1:\n",
    "        return n\n",
    "    else:\n",
    "        return n*fact(n-1)\n",
    "fact(5)"
   ]
  },
  {
   "cell_type": "code",
   "execution_count": 6,
   "metadata": {},
   "outputs": [
    {
     "name": "stdout",
     "output_type": "stream",
     "text": [
      "[1, 2, 4, 5, 6, 8, 15]\n"
     ]
    }
   ],
   "source": [
    "def selection_sort(l):\n",
    "    start=0\n",
    "    while start!=len(l):\n",
    "        for i in range(0,len(l)):\n",
    "            if(l[start]<l[i]):\n",
    "                l[start],l[i]=l[i],l[start]\n",
    "        start=start+1\n",
    "    print(l)\n",
    "selection_sort([6,5,4,8,2,15,1])"
   ]
  },
  {
   "cell_type": "code",
   "execution_count": 7,
   "metadata": {},
   "outputs": [
    {
     "name": "stdout",
     "output_type": "stream",
     "text": [
      "0.0\n"
     ]
    }
   ],
   "source": [
    "import time\n",
    "def  c_to_f(c):\n",
    "    return c*9/5+526545641654892\n",
    "t0=time.process_time()\n",
    "c_to_f(1000)\n",
    "t1=time.process_time()-t0\n",
    "\n",
    "print(t1)"
   ]
  },
  {
   "cell_type": "code",
   "execution_count": 8,
   "metadata": {},
   "outputs": [
    {
     "data": {
      "text/plain": [
       "1"
      ]
     },
     "execution_count": 8,
     "metadata": {},
     "output_type": "execute_result"
    }
   ],
   "source": [
    "def fac(n):\n",
    "    ans=1\n",
    "    while n>1:\n",
    "        ans=ans*n\n",
    "        n=n-1\n",
    "    return ans\n",
    "fac(1)"
   ]
  },
  {
   "cell_type": "code",
   "execution_count": 9,
   "metadata": {},
   "outputs": [
    {
     "ename": "TypeError",
     "evalue": "binary_search() missing 1 required positional argument: 'e'",
     "output_type": "error",
     "traceback": [
      "\u001b[1;31m---------------------------------------------------------------------------\u001b[0m",
      "\u001b[1;31mTypeError\u001b[0m                                 Traceback (most recent call last)",
      "\u001b[1;32m<ipython-input-9-d25163983c28>\u001b[0m in \u001b[0;36m<module>\u001b[1;34m\u001b[0m\n\u001b[0;32m     16\u001b[0m \u001b[1;33m\u001b[0m\u001b[0m\n\u001b[0;32m     17\u001b[0m \u001b[0mt0\u001b[0m\u001b[1;33m=\u001b[0m\u001b[0mtime\u001b[0m\u001b[1;33m.\u001b[0m\u001b[0mperf_counter\u001b[0m\u001b[1;33m(\u001b[0m\u001b[1;33m)\u001b[0m\u001b[1;33m\u001b[0m\u001b[1;33m\u001b[0m\u001b[0m\n\u001b[1;32m---> 18\u001b[1;33m \u001b[0mbinary_search\u001b[0m\u001b[1;33m(\u001b[0m\u001b[1;33m[\u001b[0m\u001b[1;33m]\u001b[0m\u001b[1;33m)\u001b[0m\u001b[1;33m\u001b[0m\u001b[1;33m\u001b[0m\u001b[0m\n\u001b[0m\u001b[0;32m     19\u001b[0m \u001b[0mt1\u001b[0m\u001b[1;33m=\u001b[0m\u001b[0mtime\u001b[0m\u001b[1;33m.\u001b[0m\u001b[0mperf_counter\u001b[0m\u001b[1;33m(\u001b[0m\u001b[1;33m)\u001b[0m\u001b[1;33m-\u001b[0m\u001b[0mt0\u001b[0m\u001b[1;33m\u001b[0m\u001b[1;33m\u001b[0m\u001b[0m\n\u001b[0;32m     20\u001b[0m \u001b[0mprint\u001b[0m\u001b[1;33m(\u001b[0m\u001b[0mt1\u001b[0m\u001b[1;33m)\u001b[0m\u001b[1;33m\u001b[0m\u001b[1;33m\u001b[0m\u001b[0m\n",
      "\u001b[1;31mTypeError\u001b[0m: binary_search() missing 1 required positional argument: 'e'"
     ]
    }
   ],
   "source": [
    "import time\n",
    "def binary_search(l1,e):\n",
    "    l1.sort()\n",
    "    if(len(l1)==0):\n",
    "        return False\n",
    "    elif(len(l1)==1):\n",
    "        return l1[0]==e\n",
    "    else:\n",
    "        half=len(l1)//2\n",
    "        if(l1[half]>e):\n",
    "            return (binary_search(l1[:half],e))\n",
    "        else:\n",
    "#             print(l1)\n",
    "#             print(l1[half])\n",
    "            return half,(binary_search(l1[half:],e))\n",
    "    \n",
    "t0=time.perf_counter()\n",
    "binary_search([])\n",
    "t1=time.perf_counter()-t0\n",
    "print(t1)\n"
   ]
  },
  {
   "cell_type": "code",
   "execution_count": null,
   "metadata": {},
   "outputs": [],
   "source": [
    "import time\n",
    "def linear_search(l1,e):\n",
    "    l1.sort()\n",
    "    found=False\n",
    "    for i in range(0,len(l1)):\n",
    "        if(l1[i]==e):\n",
    "            found=True\n",
    "    return i,found\n",
    "t0=time.perf_counter()\n",
    "linear_search([)\n",
    "t2=time.perf_counter()-t0\n",
    "print(t2)"
   ]
  },
  {
   "cell_type": "code",
   "execution_count": null,
   "metadata": {},
   "outputs": [],
   "source": [
    "t2-t1   #so binary search is faster then linear search "
   ]
  },
  {
   "cell_type": "code",
   "execution_count": null,
   "metadata": {},
   "outputs": [],
   "source": [
    "#insertion sort\n",
    "def insertion(l1):\n",
    "    for i in range(1,len(l1)):\n",
    "        key=l1[i]\n",
    "        j=i-1\n",
    "        while j>=0 and key<l1[j]:\n",
    "            l1[j+1]=l1[j]\n",
    "            j=j-1\n",
    "        l1[j + 1] = key \n",
    "l1= [12, 11, 13, 5, 6] \n",
    "insertion(l1) \n",
    "for i in range(len(l1)): \n",
    "    print (l1[i]) "
   ]
  },
  {
   "cell_type": "code",
   "execution_count": 3,
   "metadata": {},
   "outputs": [],
   "source": [
    "def mergeSort(arr): \n",
    "    if len(arr) >1: \n",
    "        mid = len(arr)//2 #Finding the mid of the array \n",
    "        L = arr[:mid] # Dividing the array elements  \n",
    "        R = arr[mid:] # into 2 halves \n",
    "  \n",
    "        mergeSort(L) # Sorting the first half \n",
    "        mergeSort(R) # Sorting the second half \n",
    "        i = j = k = 0\n",
    "          \n",
    "        # Copy data to temp arrays L[] and R[] \n",
    "        while i < len(L) and j < len(R): \n",
    "            if L[i] < R[j]: \n",
    "                arr[k] = L[i] \n",
    "                i+=1\n",
    "            else: \n",
    "                arr[k] = R[j] \n",
    "                j+=1\n",
    "            k+=1\n",
    "          \n",
    "        # Checking if any element was left \n",
    "        while i < len(L): \n",
    "            arr[k] = L[i] \n",
    "            i+=1\n",
    "            k+=1\n",
    "          \n",
    "        while j < len(R): \n",
    "            arr[k] = R[j] \n",
    "            j+=1\n",
    "            k+=1\n",
    "    print(arr)\n",
    "# Code to print the list \n",
    "# def printList(arr): \n",
    "#     for i in range(len(arr)):         \n",
    "#         print(arr[i],end=\" \") \n",
    "#     print() \n",
    "    \n",
    "# arr = [12, 11, 13, 5, 6, 7]  \n",
    "# print (\"Given array is\", end=\"\\n\")  \n",
    "# printList(arr) \n",
    "# mergeSort(arr) \n",
    "# print(\"Sorted array is: \", end=\"\\n\") \n",
    "# printList(arr)\n"
   ]
  },
  {
   "cell_type": "code",
   "execution_count": 4,
   "metadata": {},
   "outputs": [
    {
     "name": "stdout",
     "output_type": "stream",
     "text": [
      "[13, 11, 12, 5, 6, 7]\n",
      "[11, 13, 12, 5, 6, 7]\n",
      "[11, 12, 13, 5, 6, 7]\n",
      "[5, 12, 13, 11, 6, 7]\n",
      "[5, 11, 13, 12, 6, 7]\n",
      "[5, 11, 12, 13, 6, 7]\n",
      "[5, 6, 12, 13, 11, 7]\n",
      "[5, 6, 11, 13, 12, 7]\n",
      "[5, 6, 11, 12, 13, 7]\n",
      "[5, 6, 7, 12, 13, 11]\n",
      "[5, 6, 7, 11, 13, 12]\n",
      "[5, 6, 7, 11, 12, 13]\n"
     ]
    }
   ],
   "source": [
    "def selection(arr):\n",
    "    start=0\n",
    "    while start!=len(arr):\n",
    "        for i in range(0,len(arr)):\n",
    "            if(arr[start]<arr[i]):\n",
    "                arr[start],arr[i]=arr[i],arr[start]\n",
    "                print(arr)\n",
    "        start=start+1\n",
    "#         print(arr)\n",
    "selection([12, 11, 13, 5, 6, 7])"
   ]
  },
  {
   "cell_type": "code",
   "execution_count": null,
   "metadata": {},
   "outputs": [],
   "source": [
    "def insert(arr):\n",
    "    for i in range(1,len(arr)):\n",
    "        key=arr[i]\n",
    "        j=i-1\n",
    "        while j>=0 and key<arr[j]:\n",
    "            arr[j+1]=arr[j]\n",
    "            j=j-1\n",
    "        arr[j+1]=key\n",
    "    print(arr)\n",
    "insert([12, 11, 13, 5, 6, 7])"
   ]
  },
  {
   "cell_type": "code",
   "execution_count": null,
   "metadata": {},
   "outputs": [],
   "source": [
    "def bubble(arr):\n",
    "    n=len(arr)\n",
    "    for i in range(0,n):\n",
    "        for j in range(0,n-i-1):\n",
    "            arr[j+1],arr[j]=arr[j],arr[j+1]\n",
    "    print(arr)\n",
    "bubble([12, 11, 13, 5, 6, 7])"
   ]
  },
  {
   "cell_type": "code",
   "execution_count": null,
   "metadata": {},
   "outputs": [],
   "source": [
    "a=[4,2,5,4]\n",
    "start=0\n",
    "for i in range(0,len(a)):\n",
    "    for j in range(i+1,len(a)):\n",
    "        if(a[i]+a[j]==8):\n",
    "            print(a[i],a[j],\"true\")\n",
    "        else:\n",
    "            print(a[i],a[j],\"false\")"
   ]
  },
  {
   "cell_type": "code",
   "execution_count": null,
   "metadata": {},
   "outputs": [],
   "source": [
    "a=\"a\""
   ]
  },
  {
   "cell_type": "code",
   "execution_count": null,
   "metadata": {},
   "outputs": [],
   "source": [
    "ord(a)"
   ]
  },
  {
   "cell_type": "code",
   "execution_count": 5,
   "metadata": {},
   "outputs": [
    {
     "name": "stdout",
     "output_type": "stream",
     "text": [
      "Following is a Topological Sort of the given graph\n",
      "self.V: 6\n",
      "visited: [False, False, False, False, False, False]\n",
      "[True, False, False, False, False, False]\n",
      "[]\n",
      "[0]\n",
      "[True, True, False, False, False, False]\n",
      "self.graph[v] [2]\n",
      "[True, True, True, False, False, False]\n",
      "[0]\n",
      "[2, 0]\n",
      "[2, 0]\n",
      "[1, 2, 0]\n",
      "[True, True, True, True, False, False]\n",
      "[1, 2, 0]\n",
      "[3, 1, 2, 0]\n",
      "[True, True, True, True, True, False]\n",
      "[3, 1, 2, 0]\n",
      "[4, 3, 1, 2, 0]\n",
      "[True, True, True, True, True, True]\n",
      "[4, 3, 1, 2, 0]\n",
      "[5, 4, 3, 1, 2, 0]\n",
      "[5, 4, 3, 1, 2, 0]\n"
     ]
    }
   ],
   "source": [
    "#Python program to print topological sorting of a DAG \n",
    "from collections import defaultdict \n",
    "  \n",
    "#Class to represent a graph \n",
    "class Graph: \n",
    "    def __init__(self,vertices): \n",
    "        self.graph = defaultdict(list) #dictionary containing adjacency List \n",
    "        self.V = vertices #No. of vertices \n",
    "  \n",
    "    # function to add an edge to graph \n",
    "    def addEdge(self,u,v): \n",
    "        self.graph[u].append(v) \n",
    "  \n",
    "    # A recursive function used by topologicalSort \n",
    "    def topologicalSortUtil(self,v,visited,stack): \n",
    "        # Mark the current node as visited. \n",
    "        visited[v] = True\n",
    "        print(visited)\n",
    "  \n",
    "        # Recur for all the vertices adjacent to this vertex \n",
    "        for i in self.graph[v]: \n",
    "            print(\"self.graph[v]\",self.graph[v])\n",
    "            if visited[i] == False: \n",
    "                self.topologicalSortUtil(i,visited,stack) \n",
    "  \n",
    "        # Push current vertex to stack which stores result \n",
    "        print(stack)\n",
    "        stack.insert(0,v) \n",
    "        print(stack)\n",
    "  \n",
    "    # The function to do Topological Sort. It uses recursive  \n",
    "    # topologicalSortUtil() \n",
    "    def topologicalSort(self): \n",
    "        # Mark all the vertices as not visited\n",
    "        visited = [False]*self.V \n",
    "        print(\"self.V:\",self.V )\n",
    "        print(\"visited:\",visited)\n",
    "        stack =[] \n",
    "  \n",
    "        # Call the recursive helper function to store Topological \n",
    "        # Sort starting from all vertices one by one \n",
    "        for i in range(self.V): \n",
    "            if visited[i] == False: \n",
    "                self.topologicalSortUtil(i,visited,stack) \n",
    "  \n",
    "        # Print contents of the stack \n",
    "        print (stack) \n",
    "g= Graph(6) \n",
    "g.addEdge(1,2); \n",
    "\n",
    "\n",
    "  \n",
    "print (\"Following is a Topological Sort of the given graph\")\n",
    "g.topologicalSort() "
   ]
  },
  {
   "cell_type": "code",
   "execution_count": null,
   "metadata": {},
   "outputs": [],
   "source": [
    "from collections import defaultdict \n",
    "  \n",
    "#Class to represent a graph \n",
    "class Graph: \n",
    "    def __init__(self,vertices): \n",
    "        self.graph = defaultdict(list) #dictionary containing adjacency List \n",
    "        self.V = vertices #No. of vertices \n",
    "  \n",
    "    # function to add an edge to graph \n",
    "    def addEdge(self,u,v): \n",
    "        self.graph[u].append(v) \n",
    "  \n",
    "    # A recursive function used by topologicalSort \n",
    "    def topologicalSortUtil(self,v,visited,stack): \n",
    "  \n",
    "        # Mark the current node as visited. \n",
    "        visited[v] = True\n",
    "  \n",
    "        # Recur for all the vertices adjacent to this vertex \n",
    "        for i in self.graph[v]: \n",
    "            if visited[i] == False: \n",
    "                self.topologicalSortUtil(i,visited,stack) \n",
    "  \n",
    "        # Push current vertex to stack which stores result \n",
    "        stack.insert(0,v) \n",
    "  \n",
    "    # The function to do Topological Sort. It uses recursive  \n",
    "    # topologicalSortUtil() \n",
    "    def topologicalSort(self): \n",
    "        # Mark all the vertices as not visited \n",
    "        visited = [False]*self.V \n",
    "        stack =[] \n",
    "  \n",
    "        # Call the recursive helper function to store Topological \n",
    "        # Sort starting from all vertices one by one \n",
    "        for i in range(self.V): \n",
    "            if visited[i] == False: \n",
    "                self.topologicalSortUtil(i,visited,stack) \n",
    "  \n",
    "        # Print contents of stack \n",
    "        print (stack) \n",
    "g = Graph(7) \n",
    "g.addEdge(2, 3); \n",
    "g.addEdge(2, 0); \n",
    "g.addEdge(3, 4); \n",
    "g.addEdge(0, 5); \n",
    "g.addEdge(5, 6); \n",
    "g.addEdge(6, 4); \n",
    "  \n",
    "print (\"Following is a Topological Sort of the given graph\")\n",
    "g.topologicalSort() \n",
    "#This code is contributed by Neelam Yadav "
   ]
  },
  {
   "cell_type": "code",
   "execution_count": null,
   "metadata": {},
   "outputs": [],
   "source": [
    "from collections import defaultdict \n",
    "  \n",
    "# Class to represent a graph \n",
    "class Graph: \n",
    "  \n",
    "    def __init__(self, vertices): \n",
    "        self.V = vertices # No. of vertices \n",
    "        self.graph = [] # default dictionary to store graph \n",
    "   \n",
    "    # function to add an edge to graph \n",
    "    def addEdge(self, u, v, w): \n",
    "        self.graph.append([u, v, w]) \n",
    "          \n",
    "    # utility function used to print the solution \n",
    "    def printArr(self, dist): \n",
    "        print(\"Vertex   Distance from Source\") \n",
    "        for i in range(self.V): \n",
    "            print(\"% d \\t\\t % d\" % (i, dist[i])) \n",
    "      \n",
    "    # The main function that finds shortest distances from src to \n",
    "    # all other vertices using Bellman-Ford algorithm.  The function \n",
    "    # also detects negative weight cycle \n",
    "    def BellmanFord(self, src): \n",
    "  \n",
    "        # Step 1: Initialize distances from src to all other vertices \n",
    "        # as INFINITE \n",
    "        dist = [float(\"Inf\")] * self.V \n",
    "        dist[src] = 0 \n",
    "  \n",
    "  \n",
    "        # Step 2: Relax all edges |V| - 1 times. A simple shortest  \n",
    "        # path from src to any other vertex can have at-most |V| - 1  \n",
    "        # edges \n",
    "        for i in range(self.V - 1): \n",
    "            # Update dist value and parent index of the adjacent vertices of \n",
    "            # the picked vertex. Consider only those vertices which are still in \n",
    "            # queue \n",
    "            for u, v, w in self.graph: \n",
    "                if dist[u] != float(\"Inf\") and dist[u] + w < dist[v]: \n",
    "                        dist[v] = dist[u] + w \n",
    "  \n",
    "        # Step 3: check for negative-weight cycles.  The above step  \n",
    "        # guarantees shortest distances if graph doesn't contain  \n",
    "        # negative weight cycle.  If we get a shorter path, then there \n",
    "        # is a cycle. \n",
    "  \n",
    "        for u, v, w in self.graph: \n",
    "                if dist[u] != float(\"Inf\") and dist[u] + w < dist[v]: \n",
    "                        print (\"Graph contains negative weight cycle\")\n",
    "                        return\n",
    "                          \n",
    "        # print all distance \n",
    "        self.printArr(dist) \n",
    "g = Graph(5) \n",
    "g.addEdge(0, 1, -1) \n",
    "g.addEdge(0, 2, 4) \n",
    "g.addEdge(1, 2, 3) \n",
    "g.addEdge(1, 3, 2) \n",
    "g.addEdge(1, 4, 2) \n",
    "g.addEdge(3, 2, 5) \n",
    "g.addEdge(3, 1, 1) \n",
    "g.addEdge(4, 3, -3) \n",
    "  \n",
    "# Print the solution \n",
    "g.BellmanFord(0) \n",
    "  \n",
    "# This code is contributed by Neelam Yadav"
   ]
  },
  {
   "cell_type": "code",
   "execution_count": null,
   "metadata": {},
   "outputs": [],
   "source": [
    "class Graph:\n",
    "    def __init__(self):\n",
    "        # dictionary containing keys that map to the corresponding vertex object\n",
    "        self.vertices = {}\n",
    " \n",
    "    def add_vertex(self, key):\n",
    "        \"\"\"Add a vertex with the given key to the graph.\"\"\"\n",
    "        vertex = Vertex(key)\n",
    "        self.vertices[key] = vertex\n",
    " \n",
    "    def get_vertex(self, key):\n",
    "        \"\"\"Return vertex object with the corresponding key.\"\"\"\n",
    "        return self.vertices[key]\n",
    " \n",
    "    def __contains__(self, key):\n",
    "        return key in self.vertices\n",
    " \n",
    "    def add_edge(self, src_key, dest_key, weight=1):\n",
    "        \"\"\"Add edge from src_key to dest_key with given weight.\"\"\"\n",
    "        self.vertices[src_key].add_neighbour(self.vertices[dest_key], weight)\n",
    " \n",
    "    def does_edge_exist(self, src_key, dest_key):\n",
    "        \"\"\"Return True if there is an edge from src_key to dest_key.\"\"\"\n",
    "        return self.vertices[src_key].does_it_point_to(self.vertices[dest_key])\n",
    " \n",
    "    def __iter__(self):\n",
    "        return iter(self.vertices.values())\n",
    " \n",
    " \n",
    "class Vertex:\n",
    "    def __init__(self, key):\n",
    "        self.key = key\n",
    "        self.points_to = {}\n",
    " \n",
    "    def get_key(self):\n",
    "        \"\"\"Return key corresponding to this vertex object.\"\"\"\n",
    "        return self.key\n",
    " \n",
    "    def add_neighbour(self, dest, weight):\n",
    "        \"\"\"Make this vertex point to dest with given edge weight.\"\"\"\n",
    "        self.points_to[dest] = weight\n",
    " \n",
    "    def get_neighbours(self):\n",
    "        \"\"\"Return all vertices pointed to by this vertex.\"\"\"\n",
    "        return self.points_to.keys()\n",
    " \n",
    "    def get_weight(self, dest):\n",
    "        \"\"\"Get weight of edge from this vertex to dest.\"\"\"\n",
    "        return self.points_to[dest]\n",
    " \n",
    "    def does_it_point_to(self, dest):\n",
    "        \"\"\"Return True if this vertex points to dest.\"\"\"\n",
    "        return dest in self.points_to\n",
    " \n",
    " \n",
    "def get_topological_sorting(graph):\n",
    "    \"\"\"Return a topological sorting of the DAG. Return None if graph is not a DAG.\"\"\"\n",
    "    tlist = []\n",
    "    visited = set()\n",
    "    on_stack = set()\n",
    "    for v in graph:\n",
    "        if v not in visited:\n",
    "            if not get_topological_sorting_helper(v, visited, on_stack, tlist):\n",
    "                return None\n",
    "    return tlist\n",
    " \n",
    "def get_topological_sorting_helper(v, visited, on_stack, tlist):\n",
    "    \"\"\"Perform DFS traversal starting at vertex v and store a topological\n",
    "    sorting of the DAG in tlist. Return False if it is found that the graph is\n",
    "    not a DAG. Uses set visited to keep track of already visited nodes.\"\"\"\n",
    "    if v in on_stack:\n",
    "        # graph has cycles and is therefore not a DAG.\n",
    "        return False\n",
    " \n",
    "    on_stack.add(v)\n",
    "    for dest in v.get_neighbours():\n",
    "        if dest not in visited:\n",
    "            if not get_topological_sorting_helper(dest, visited, on_stack, tlist):\n",
    "                return False\n",
    "    on_stack.remove(v)\n",
    "    visited.add(v)\n",
    "    tlist.insert(0, v.get_key()) # prepend node key to tlist\n",
    "    return True\n",
    " \n",
    "g = Graph()\n",
    "print('Menu')\n",
    "print('add vertex <key>')\n",
    "print('add edge <src> <dest>')\n",
    "print('topological')\n",
    "print('display')\n",
    "print('quit')\n",
    " \n",
    "while True:\n",
    "    do = input('What would you like to do? ').split()\n",
    " \n",
    "    operation = do[0]\n",
    "    if operation == 'add':\n",
    "        suboperation = do[1]\n",
    "        if suboperation == 'vertex':\n",
    "            key = int(do[2])\n",
    "            if key not in g:\n",
    "                g.add_vertex(key)\n",
    "            else:\n",
    "                print('Vertex already exists.')\n",
    "        elif suboperation == 'edge':\n",
    "            src = int(do[2])\n",
    "            dest = int(do[3])\n",
    "            if src not in g:\n",
    "                print('Vertex {} does not exist.'.format(src))\n",
    "            elif dest not in g:\n",
    "                print('Vertex {} does not exist.'.format(dest))\n",
    "            else:\n",
    "                if not g.does_edge_exist(src, dest):\n",
    "                    g.add_edge(src, dest)\n",
    "                else:\n",
    "                    print('Edge already exists.')\n",
    " \n",
    "    elif operation == 'topological':\n",
    "        tlist = get_topological_sorting(g)\n",
    "        if tlist is not None:\n",
    "            print('Topological Sorting: ', end='')\n",
    "            print(tlist)\n",
    "        else:\n",
    "            print('Graph is not a DAG.')\n",
    " \n",
    "    elif operation == 'display':\n",
    "        print('Vertices: ', end='')\n",
    "        for v in g:\n",
    "            print(v.get_key(), end=' ')\n",
    "        print()\n",
    " \n",
    "        print('Edges: ')\n",
    "        for v in g:\n",
    "            for dest in v.get_neighbours():\n",
    "                w = v.get_weight(dest)\n",
    "                print('(src={}, dest={}, weight={}) '.format(v.get_key(),\n",
    "                                                             dest.get_key(), w))\n",
    "        print()\n",
    " \n",
    "    elif operation == 'quit':\n",
    "        break"
   ]
  },
  {
   "cell_type": "code",
   "execution_count": null,
   "metadata": {},
   "outputs": [],
   "source": [
    "nodes = ('A', 'B', 'C', 'D', 'E', 'F', 'G')\n",
    "distances = {\n",
    "    'B': {'A': 5, 'D': 1, 'G': 2},\n",
    "    'A': {'B': 5, 'D': 3, 'E': 12, 'F' :5},\n",
    "    'D': {'B': 1, 'G': 1, 'E': 1, 'A': 3},\n",
    "    'G': {'B': 2, 'D': 1, 'C': 2},\n",
    "    'C': {'G': 2, 'E': 1, 'F': 16},\n",
    "    'E': {'A': 12, 'D': 1, 'C': 1, 'F': 2},\n",
    "    'F': {'A': 5, 'E': 2, 'C': 16}}\n",
    "\n",
    "unvisited = {node: None for node in nodes} #using None as +inf\n",
    "visited = {}\n",
    "current = 'B'\n",
    "currentDistance = 0\n",
    "unvisited[current] = currentDistance\n",
    "\n",
    "while True:\n",
    "    for neighbour, distance in distances[current].items():\n",
    "        if neighbour not in unvisited: continue\n",
    "        newDistance = currentDistance + distance\n",
    "        if unvisited[neighbour] is None or unvisited[neighbour] > newDistance:\n",
    "            unvisited[neighbour] = newDistance\n",
    "    visited[current] = currentDistance\n",
    "    del unvisited[current]\n",
    "    if not unvisited: break\n",
    "    candidates = [node for node in unvisited.items() if node[1]]\n",
    "    current, currentDistance = sorted(candidates, key = lambda x: x[1])[0]\n",
    "\n",
    "print(visited)"
   ]
  },
  {
   "cell_type": "code",
   "execution_count": null,
   "metadata": {},
   "outputs": [],
   "source": [
    "class Graph:\n",
    "    def __init__(self):\n",
    "        # dictionary containing keys that map to the corresponding vertex object\n",
    "        self.vertices = {}\n",
    "        print()\n",
    " \n",
    "    def add_vertex(self, key):\n",
    "        \"\"\"Add a vertex with the given key to the graph.\"\"\"\n",
    "        vertex = Vertex(key)\n",
    "        self.vertices[key] = vertex\n",
    " \n",
    "    def get_vertex(self, key):\n",
    "        \"\"\"Return vertex object with the corresponding key.\"\"\"\n",
    "        return self.vertices[key]\n",
    " \n",
    "    def __contains__(self, key):\n",
    "        return key in self.vertices\n",
    " \n",
    "    def add_edge(self, src_key, dest_key, weight=1):\n",
    "        \"\"\"Add edge from src_key to dest_key with given weight.\"\"\"\n",
    "        self.vertices[src_key].add_neighbour(self.vertices[dest_key], weight)\n",
    " \n",
    "    def does_edge_exist(self, src_key, dest_key):\n",
    "        \"\"\"Return True if there is an edge from src_key to dest_key.\"\"\"\n",
    "        return self.vertices[src_key].does_it_point_to(self.vertices[dest_key])\n",
    " \n",
    "    def __iter__(self):\n",
    "        return iter(self.vertices.values())\n",
    " \n",
    " \n",
    "class Vertex:\n",
    "    def __init__(self, key):\n",
    "        self.key = key\n",
    "        self.points_to = {}\n",
    " \n",
    "    def get_key(self):\n",
    "        \"\"\"Return key corresponding to this vertex object.\"\"\"\n",
    "        return self.key\n",
    " \n",
    "    def add_neighbour(self, dest, weight):\n",
    "        \"\"\"Make this vertex point to dest with given edge weight.\"\"\"\n",
    "        self.points_to[dest] = weight\n",
    " \n",
    "    def get_neighbours(self):\n",
    "        \"\"\"Return all vertices pointed to by this vertex.\"\"\"\n",
    "        return self.points_to.keys()\n",
    " \n",
    "    def get_weight(self, dest):\n",
    "        \"\"\"Get weight of edge from this vertex to dest.\"\"\"\n",
    "        return self.points_to[dest]\n",
    " \n",
    "    def does_it_point_to(self, dest):\n",
    "        \"\"\"Return True if this vertex points to dest.\"\"\"\n",
    "        return dest in self.points_to\n",
    " \n",
    " \n",
    "def dijkstra(g, source):\n",
    "    \"\"\"Return distance where distance[v] is min distance from source to v.\n",
    " \n",
    "    This will return a dictionary distance.\n",
    " \n",
    "    g is a Graph object.\n",
    "    source is a Vertex object in g.\n",
    "    \"\"\"\n",
    "    unvisited = set(g)\n",
    "    distance = dict.fromkeys(g, float('inf'))\n",
    "    distance[source] = 0\n",
    " \n",
    "    while unvisited != set():\n",
    "        # find vertex with minimum distance\n",
    "        closest = min(unvisited, key=lambda v: distance[v])\n",
    " \n",
    "        # mark as visited\n",
    "        unvisited.remove(closest)\n",
    " \n",
    "        # update distances\n",
    "        for neighbour in closest.get_neighbours():\n",
    "           if neighbour in unvisited:\n",
    "               new_distance = distance[closest] + closest.get_weight(neighbour)\n",
    "               if distance[neighbour] > new_distance:\n",
    "                   distance[neighbour] = new_distance\n",
    " \n",
    "    return distance\n",
    " \n",
    " \n",
    "g = Graph()\n",
    "print('Undirected Graph')\n",
    "print('Menu')\n",
    "print('add vertex <key>')\n",
    "print('add edge <src> <dest> <weight>')\n",
    "print('shortest <source vertex key>')\n",
    "print('display')\n",
    "print('quit')\n",
    " \n",
    "while True:\n",
    "    do = input('What would you like to do? ').split()\n",
    " \n",
    "    operation = do[0]\n",
    "    if operation == 'add':\n",
    "        suboperation = do[1]\n",
    "        if suboperation == 'vertex':\n",
    "            key = int(do[2])\n",
    "            if key not in g:\n",
    "                g.add_vertex(key)\n",
    "            else:\n",
    "                print('Vertex already exists.')\n",
    "        elif suboperation == 'edge':\n",
    "            src = int(do[2])\n",
    "            dest = int(do[3])\n",
    "            weight = int(do[4])\n",
    "            if src not in g:\n",
    "                print('Vertex {} does not exist.'.format(src))\n",
    "            elif dest not in g:\n",
    "                print('Vertex {} does not exist.'.format(dest))\n",
    "            else:\n",
    "                if not g.does_edge_exist(src, dest):\n",
    "                    g.add_edge(src, dest, weight)\n",
    "                    g.add_edge(dest, src, weight)\n",
    "                else:\n",
    "                    print('Edge already exists.')\n",
    " \n",
    "    elif operation == 'shortest':\n",
    "        key = int(do[1])\n",
    "        source = g.get_vertex(key)\n",
    "        distance = dijkstra(g, source)\n",
    "        print('Distances from {}: '.format(key))\n",
    "        for v in distance:\n",
    "            print('Distance to {}: {}'.format(v.get_key(), distance[v]))\n",
    "        print()\n",
    " \n",
    "    elif operation == 'display':\n",
    "        print('Vertices: ', end='')\n",
    "        for v in g:\n",
    "            print(v.get_key(), end=' ')\n",
    "        print()\n",
    " \n",
    "        print('Edges: ')\n",
    "        for v in g:\n",
    "            for dest in v.get_neighbours():\n",
    "                w = v.get_weight(dest)\n",
    "                print('(src={}, dest={}, weight={}) '.format(v.get_key(),\n",
    "                                                             dest.get_key(), w))\n",
    "        print()\n",
    " \n",
    "    elif operation == 'quit':\n",
    "        break\n",
    "        "
   ]
  },
  {
   "cell_type": "code",
   "execution_count": 16,
   "metadata": {},
   "outputs": [
    {
     "name": "stdout",
     "output_type": "stream",
     "text": [
      "unvisited[current]: 0\n",
      "unvisited[neighbour]: 5\n",
      "unvisited[neighbour]: 1\n",
      "unvisited[neighbour]: 2\n",
      "unvisited: {'A': 5, 'C': None, 'D': 1, 'E': None, 'F': None, 'G': 2}\n",
      "visited: {'B': 0}\n",
      "unvisited[neighbour]: 2\n",
      "unvisited[neighbour]: 4\n",
      "unvisited: {'A': 4, 'C': None, 'E': 2, 'F': None, 'G': 2}\n",
      "visited: {'B': 0, 'D': 1}\n",
      "unvisited[neighbour]: 3\n",
      "unvisited[neighbour]: 4\n",
      "unvisited: {'A': 4, 'C': 3, 'F': 4, 'G': 2}\n",
      "visited: {'B': 0, 'D': 1, 'E': 2}\n",
      "unvisited: {'A': 4, 'C': 3, 'F': 4}\n",
      "visited: {'B': 0, 'D': 1, 'E': 2, 'G': 2}\n",
      "unvisited: {'A': 4, 'F': 4}\n",
      "visited: {'B': 0, 'D': 1, 'E': 2, 'G': 2, 'C': 3}\n",
      "unvisited: {'F': 4}\n",
      "visited: {'B': 0, 'D': 1, 'E': 2, 'G': 2, 'C': 3, 'A': 4}\n"
     ]
    }
   ],
   "source": [
    "nodes = ('A', 'B', 'C', 'D', 'E', 'F', 'G')\n",
    "distances = {\n",
    "    'B': {'A': 5, 'D': 1, 'G': 2},\n",
    "    'A': {'B': 5, 'D': 3, 'E': 12, 'F' :5},\n",
    "    'D': {'B': 1, 'G': 1, 'E': 1, 'A': 3},\n",
    "    'G': {'B': 2, 'D': 1, 'C': 2},\n",
    "    'C': {'G': 2, 'E': 1, 'F': 16},\n",
    "    'E': {'A': 12, 'D': 1, 'C': 1, 'F': 2},\n",
    "    'F': {'A': 5, 'E': 2, 'C': 16}}\n",
    "\n",
    "unvisited = {node: None for node in nodes} #using None as +inf\n",
    "visited = {}\n",
    "current = 'B'\n",
    "currentDistance = 0\n",
    "unvisited[current] = currentDistance\n",
    "print(\"unvisited[current]:\",unvisited[current])\n",
    "while True:\n",
    "    for neighbour, distance in distances[current].items():\n",
    "        if neighbour not in unvisited: continue\n",
    "        newDistance = currentDistance + distance\n",
    "        if unvisited[neighbour] is None or unvisited[neighbour] > newDistance:\n",
    "            unvisited[neighbour] = newDistance\n",
    "            print(\"unvisited[neighbour]:\",unvisited[neighbour])\n",
    "    visited[current] = currentDistance\n",
    "    del unvisited[current]\n",
    "    if not unvisited: break\n",
    "    candidates = [node for node in unvisited.items() if node[1]]\n",
    "    current, currentDistance = sorted(candidates, key = lambda x: x[1])[0]\n",
    "    print(\"unvisited:\",unvisited)\n",
    "    print(\"visited:\",visited)\n",
    "# print(visited)"
   ]
  },
  {
   "cell_type": "code",
   "execution_count": 17,
   "metadata": {},
   "outputs": [],
   "source": [
    "a=[[1,2,3,4],[11,12,13,14,[111,112,113,114]]]"
   ]
  },
  {
   "cell_type": "code",
   "execution_count": 32,
   "metadata": {},
   "outputs": [
    {
     "data": {
      "text/plain": [
       "4"
      ]
     },
     "execution_count": 32,
     "metadata": {},
     "output_type": "execute_result"
    }
   ],
   "source": [
    "len(a[1][4])"
   ]
  },
  {
   "cell_type": "code",
   "execution_count": 34,
   "metadata": {},
   "outputs": [
    {
     "data": {
      "text/plain": [
       "112"
      ]
     },
     "execution_count": 34,
     "metadata": {},
     "output_type": "execute_result"
    }
   ],
   "source": [
    "a[1][4][1]"
   ]
  },
  {
   "cell_type": "code",
   "execution_count": 49,
   "metadata": {},
   "outputs": [
    {
     "name": "stdout",
     "output_type": "stream",
     "text": [
      "\n",
      "\n",
      "Recursion Example Results\n",
      "1\n",
      "3\n",
      "6\n",
      "10\n",
      "15\n",
      "21\n"
     ]
    },
    {
     "data": {
      "text/plain": [
       "21"
      ]
     },
     "execution_count": 49,
     "metadata": {},
     "output_type": "execute_result"
    }
   ],
   "source": [
    "def tri_recursion(k):\n",
    "    if(k>0):\n",
    "        result = k+tri_recursion(k-1)\n",
    "        print(result)\n",
    "    else:\n",
    "        result = 0\n",
    "    return result\n",
    "\n",
    "print(\"\\n\\nRecursion Example Results\")\n",
    "tri_recursion(6)"
   ]
  },
  {
   "cell_type": "code",
   "execution_count": 11,
   "metadata": {},
   "outputs": [
    {
     "name": "stdout",
     "output_type": "stream",
     "text": [
      "0\n"
     ]
    }
   ],
   "source": [
    "for i in range(0,10):\n",
    "    if(i<=8):\n",
    "        print(i)\n",
    "    break"
   ]
  },
  {
   "cell_type": "code",
   "execution_count": 11,
   "metadata": {},
   "outputs": [
    {
     "name": "stdout",
     "output_type": "stream",
     "text": [
      "[10, 90, 20, 30, 70, 50]\n"
     ]
    }
   ],
   "source": [
    "Lst = [50, 70, 30, 20, 90, 10, 50]\n",
    "print(Lst[5::-1])"
   ]
  },
  {
   "cell_type": "code",
   "execution_count": 12,
   "metadata": {},
   "outputs": [],
   "source": [
    "a=\"123\"\n",
    "b=a[::-1]"
   ]
  },
  {
   "cell_type": "code",
   "execution_count": 6,
   "metadata": {},
   "outputs": [
    {
     "name": "stdout",
     "output_type": "stream",
     "text": [
      "['edureka', 'python']\n"
     ]
    }
   ],
   "source": [
    "a=\"edureka python\"\n",
    "print(a.split())"
   ]
  },
  {
   "cell_type": "code",
   "execution_count": 10,
   "metadata": {},
   "outputs": [],
   "source": [
    "my_list = [2, 3, 5, 7, 11]\n",
    "squared_list = [x**2 for x in my_list if x%2==0]"
   ]
  },
  {
   "cell_type": "code",
   "execution_count": 11,
   "metadata": {},
   "outputs": [
    {
     "name": "stdout",
     "output_type": "stream",
     "text": [
      "[4]\n"
     ]
    }
   ],
   "source": [
    "print(squared_list)"
   ]
  },
  {
   "cell_type": "code",
   "execution_count": 17,
   "metadata": {},
   "outputs": [
    {
     "ename": "TypeError",
     "evalue": "Objects of type 'StringVar' can not be converted to Unicode.",
     "output_type": "error",
     "traceback": [
      "\u001b[1;31m---------------------------------------------------------------------------\u001b[0m",
      "\u001b[1;31mTypeError\u001b[0m                                 Traceback (most recent call last)",
      "\u001b[1;32m<ipython-input-17-21d6803b1f06>\u001b[0m in \u001b[0;36m<module>\u001b[1;34m\u001b[0m\n\u001b[0;32m     58\u001b[0m \u001b[0mlabel_file_explorer\u001b[0m\u001b[1;33m.\u001b[0m\u001b[0mgrid\u001b[0m\u001b[1;33m(\u001b[0m\u001b[0mcolumn\u001b[0m\u001b[1;33m=\u001b[0m\u001b[1;36m1\u001b[0m\u001b[1;33m,\u001b[0m \u001b[0mrow\u001b[0m\u001b[1;33m=\u001b[0m\u001b[1;36m1\u001b[0m\u001b[1;33m)\u001b[0m\u001b[1;33m\u001b[0m\u001b[1;33m\u001b[0m\u001b[0m\n\u001b[0;32m     59\u001b[0m \u001b[1;33m\u001b[0m\u001b[0m\n\u001b[1;32m---> 60\u001b[1;33m \u001b[0mc\u001b[0m \u001b[1;33m=\u001b[0m \u001b[0mButton\u001b[0m\u001b[1;33m(\u001b[0m\u001b[0mmaster\u001b[0m\u001b[1;33m,\u001b[0m \u001b[0mtext\u001b[0m\u001b[1;33m=\u001b[0m\u001b[1;34m\"Apply\"\u001b[0m\u001b[1;33m,\u001b[0m \u001b[0mcommand\u001b[0m\u001b[1;33m=\u001b[0m\u001b[0msetWallpaper\u001b[0m\u001b[1;33m(\u001b[0m\u001b[0mpath\u001b[0m\u001b[1;33m)\u001b[0m\u001b[1;33m,\u001b[0m \u001b[0mbg\u001b[0m\u001b[1;33m=\u001b[0m\u001b[1;34m\"white\"\u001b[0m\u001b[1;33m)\u001b[0m\u001b[1;33m\u001b[0m\u001b[1;33m\u001b[0m\u001b[0m\n\u001b[0m\u001b[0;32m     61\u001b[0m \u001b[0mc\u001b[0m\u001b[1;33m.\u001b[0m\u001b[0mgrid\u001b[0m\u001b[1;33m(\u001b[0m\u001b[0mrow\u001b[0m\u001b[1;33m=\u001b[0m\u001b[1;36m2\u001b[0m\u001b[1;33m,\u001b[0m \u001b[0mcolumn\u001b[0m\u001b[1;33m=\u001b[0m\u001b[1;36m2\u001b[0m\u001b[1;33m,\u001b[0m \u001b[0mcolumnspan\u001b[0m\u001b[1;33m=\u001b[0m\u001b[1;36m2\u001b[0m\u001b[1;33m,\u001b[0m \u001b[0mrowspan\u001b[0m\u001b[1;33m=\u001b[0m\u001b[1;36m2\u001b[0m\u001b[1;33m,\u001b[0m \u001b[0mpadx\u001b[0m\u001b[1;33m=\u001b[0m\u001b[1;36m5\u001b[0m\u001b[1;33m,\u001b[0m \u001b[0mpady\u001b[0m\u001b[1;33m=\u001b[0m\u001b[1;36m5\u001b[0m\u001b[1;33m,\u001b[0m\u001b[1;33m)\u001b[0m\u001b[1;33m\u001b[0m\u001b[1;33m\u001b[0m\u001b[0m\n\u001b[0;32m     62\u001b[0m \u001b[1;33m\u001b[0m\u001b[0m\n",
      "\u001b[1;32m<ipython-input-17-21d6803b1f06>\u001b[0m in \u001b[0;36msetWallpaper\u001b[1;34m(path)\u001b[0m\n\u001b[0;32m     11\u001b[0m     \u001b[0mwin32api\u001b[0m\u001b[1;33m.\u001b[0m\u001b[0mRegSetValueEx\u001b[0m\u001b[1;33m(\u001b[0m\u001b[0mkey\u001b[0m\u001b[1;33m,\u001b[0m \u001b[1;34m\"WallpaperStyle\"\u001b[0m\u001b[1;33m,\u001b[0m \u001b[1;36m0\u001b[0m\u001b[1;33m,\u001b[0m \u001b[0mwin32con\u001b[0m\u001b[1;33m.\u001b[0m\u001b[0mREG_SZ\u001b[0m\u001b[1;33m,\u001b[0m \u001b[1;34m\"0\"\u001b[0m\u001b[1;33m)\u001b[0m\u001b[1;33m\u001b[0m\u001b[1;33m\u001b[0m\u001b[0m\n\u001b[0;32m     12\u001b[0m     \u001b[0mwin32api\u001b[0m\u001b[1;33m.\u001b[0m\u001b[0mRegSetValueEx\u001b[0m\u001b[1;33m(\u001b[0m\u001b[0mkey\u001b[0m\u001b[1;33m,\u001b[0m \u001b[1;34m\"TileWallpaper\"\u001b[0m\u001b[1;33m,\u001b[0m \u001b[1;36m0\u001b[0m\u001b[1;33m,\u001b[0m \u001b[0mwin32con\u001b[0m\u001b[1;33m.\u001b[0m\u001b[0mREG_SZ\u001b[0m\u001b[1;33m,\u001b[0m \u001b[1;34m\"0\"\u001b[0m\u001b[1;33m)\u001b[0m\u001b[1;33m\u001b[0m\u001b[1;33m\u001b[0m\u001b[0m\n\u001b[1;32m---> 13\u001b[1;33m     \u001b[0mwin32gui\u001b[0m\u001b[1;33m.\u001b[0m\u001b[0mSystemParametersInfo\u001b[0m\u001b[1;33m(\u001b[0m\u001b[0mwin32con\u001b[0m\u001b[1;33m.\u001b[0m\u001b[0mSPI_SETDESKWALLPAPER\u001b[0m\u001b[1;33m,\u001b[0m \u001b[0mpath\u001b[0m\u001b[1;33m,\u001b[0m \u001b[1;36m1\u001b[0m\u001b[1;33m+\u001b[0m\u001b[1;36m2\u001b[0m\u001b[1;33m)\u001b[0m\u001b[1;33m\u001b[0m\u001b[1;33m\u001b[0m\u001b[0m\n\u001b[0m\u001b[0;32m     14\u001b[0m \u001b[1;31m#     path = set_wallpaper(str(path.get()))\u001b[0m\u001b[1;33m\u001b[0m\u001b[1;33m\u001b[0m\u001b[1;33m\u001b[0m\u001b[0m\n\u001b[0;32m     15\u001b[0m \u001b[1;33m\u001b[0m\u001b[0m\n",
      "\u001b[1;31mTypeError\u001b[0m: Objects of type 'StringVar' can not be converted to Unicode."
     ]
    }
   ],
   "source": [
    "# import modules\n",
    "from tkinter import *\n",
    "from tkinter import filedialog\n",
    "from wallpaper import set_wallpaper\n",
    "import win32api, win32con, win32gui\n",
    "\n",
    "\n",
    "# user define funtion\n",
    "def setWallpaper(path):\n",
    "    key = win32api.RegOpenKeyEx(win32con.HKEY_CURRENT_USER,\"Control Panel\\\\Desktop\",0,win32con.KEY_SET_VALUE)\n",
    "    win32api.RegSetValueEx(key, \"WallpaperStyle\", 0, win32con.REG_SZ, \"0\")\n",
    "    win32api.RegSetValueEx(key, \"TileWallpaper\", 0, win32con.REG_SZ, \"0\")\n",
    "    win32gui.SystemParametersInfo(win32con.SPI_SETDESKWALLPAPER, path, 1+2)\n",
    "    path = set_wallpaper(str(path.get()))\n",
    "    \n",
    "\n",
    "\n",
    "def browseFiles():\n",
    "\tfilename = filedialog.askopenfilename(initialdir=\"/\",\n",
    "\t\t\t\t\t\t\t\t\t\ttitle=\"Select a File\",\n",
    "\t\t\t\t\t\t\t\t\t\tfiletypes=((\"jpeg files\", \"*.jpg\"), (\"all files\", \"*.*\")))\n",
    "\tpath.set(filename)\n",
    "\t\n",
    "\t# Change label contents\n",
    "\tlabel_file_explorer.configure(text=\"File Opened: \"+filename)\n",
    "\treturn filename\n",
    "\n",
    "\n",
    "# object of tkinter\n",
    "# and background set for red\n",
    "master = Tk()\n",
    "master.configure(bg='light grey')\n",
    "\n",
    "# Variable Classes in tkinter\n",
    "result = StringVar()\n",
    "path = StringVar()\n",
    "\n",
    "\n",
    "label_file_explorer = Label(\n",
    "\tmaster, text=\"Select a image\", width=100, fg=\"blue\")\n",
    "\n",
    "\n",
    "# Creating label for each information\n",
    "# name using widget Label\n",
    "Label(master, text=\"Select image : \", bg=\"light grey\").grid(row=0, sticky=W)\n",
    "Label(master, text=\"Status :\", bg=\"light grey\").grid(row=3, sticky=W)\n",
    "\n",
    "\n",
    "# Creating lebel for class variable\n",
    "# name using widget Entry\n",
    "Label(master, text=\"\", textvariable=result,\n",
    "\tbg=\"light grey\").grid(row=3, column=1, sticky=W)\n",
    "\n",
    "# creating a button using the widget\n",
    "# Button that will call the submit function\n",
    "b = Button(master, text=\"Open\", command=browseFiles, bg=\"white\")\n",
    "b.grid(row=0, column=2, columnspan=2, rowspan=2, padx=5, pady=5,)\n",
    "\n",
    "label_file_explorer.grid(column=1, row=1)\n",
    "\n",
    "c = Button(master, text=\"Apply\", command=setWallpaper, bg=\"white\")\n",
    "c.grid(row=2, column=2, columnspan=2, rowspan=2, padx=5, pady=5,)\n",
    "\n",
    "mainloop()\n"
   ]
  },
  {
   "cell_type": "code",
   "execution_count": null,
   "metadata": {},
   "outputs": [],
   "source": []
  }
 ],
 "metadata": {
  "kernelspec": {
   "display_name": "Python 3",
   "language": "python",
   "name": "python3"
  },
  "language_info": {
   "codemirror_mode": {
    "name": "ipython",
    "version": 3
   },
   "file_extension": ".py",
   "mimetype": "text/x-python",
   "name": "python",
   "nbconvert_exporter": "python",
   "pygments_lexer": "ipython3",
   "version": "3.8.5"
  }
 },
 "nbformat": 4,
 "nbformat_minor": 4
}

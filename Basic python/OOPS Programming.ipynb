{
 "cells": [
  {
   "cell_type": "code",
   "execution_count": 2,
   "metadata": {},
   "outputs": [],
   "source": [
    "class Employee():\n",
    "    pass"
   ]
  },
  {
   "cell_type": "code",
   "execution_count": 3,
   "metadata": {},
   "outputs": [
    {
     "name": "stdout",
     "output_type": "stream",
     "text": [
      "<__main__.Employee object at 0x0000019114B53308>\n",
      "<__main__.Employee object at 0x0000019114B532C8>\n"
     ]
    }
   ],
   "source": [
    "emp1=Employee()\n",
    "emp2=Employee()\n",
    "print(emp1)\n",
    "print(emp2)"
   ]
  },
  {
   "cell_type": "code",
   "execution_count": 5,
   "metadata": {},
   "outputs": [],
   "source": [
    "emp1.name=\"jayendra\"\n",
    "emp1.age=20\n",
    "emp1.location=\"bhandup\"\n",
    "emp2.name=\"punit\"\n",
    "emp2.age=27\n",
    "emp2.location=\"mumbai\""
   ]
  },
  {
   "cell_type": "code",
   "execution_count": 6,
   "metadata": {},
   "outputs": [
    {
     "name": "stdout",
     "output_type": "stream",
     "text": [
      "jayendra\n",
      "20\n",
      "bhandup\n",
      " \n",
      "punit\n",
      "27\n",
      "mumbai\n"
     ]
    }
   ],
   "source": [
    "print(emp1.name)\n",
    "print(emp1.age)\n",
    "print(emp1.location)\n",
    "print(\" \")\n",
    "print(emp2.name)\n",
    "print(emp2.age)\n",
    "print(emp2.location)"
   ]
  },
  {
   "cell_type": "code",
   "execution_count": 23,
   "metadata": {},
   "outputs": [],
   "source": [
    "class Employee():\n",
    "    raise_amount=2\n",
    "    self.first_name=first_name\n",
    "        def __init__(self,first_name,last_name,age,location,salary):\n",
    "        self.last_name=last_name\n",
    "        self.age=age\n",
    "        self.location=location\n",
    "        self.salary=salary\n",
    "        self.email=first_name+\"@gmail.com\"\n",
    "    \n",
    "    def full_name(self):\n",
    "        return self.first_name+\" \"+self.last_name\n",
    "    \n",
    "    def raise_salary(self):\n",
    "        self.salary=self.salary*self.raise_amount\n",
    "        print(\"Raise salary is :\",self.salary)"
   ]
  },
  {
   "cell_type": "code",
   "execution_count": 24,
   "metadata": {},
   "outputs": [],
   "source": [
    "emp1=Employee(\"jayendra\",\"mishra\",20,\"bhandup\",5000)\n",
    "emp2=Employee(\"punit\",\"k\",27,\"mumbai\",10000)"
   ]
  },
  {
   "cell_type": "code",
   "execution_count": 26,
   "metadata": {},
   "outputs": [
    {
     "name": "stdout",
     "output_type": "stream",
     "text": [
      "Raise salary is : 10000\n"
     ]
    }
   ],
   "source": [
    "emp1.raise_salary()"
   ]
  },
  {
   "cell_type": "code",
   "execution_count": 27,
   "metadata": {},
   "outputs": [
    {
     "name": "stdout",
     "output_type": "stream",
     "text": [
      "jayendra\n",
      "mishra\n",
      "20\n",
      "bhandup\n",
      "10000\n",
      "jayendra@gmail.com\n",
      " \n",
      "punit\n",
      "k\n",
      "27\n",
      "mumbai\n",
      "10000\n",
      "punit@gmail.com\n"
     ]
    }
   ],
   "source": [
    "print(emp1.first_name)\n",
    "print(emp1.last_name)\n",
    "print(emp1.age)\n",
    "print(emp1.location)\n",
    "print(emp1.salary)\n",
    "print(emp1.email)\n",
    "print(\" \")\n",
    "print(emp2.first_name)\n",
    "print(emp2.last_name)\n",
    "print(emp2.age)\n",
    "print(emp2.location)\n",
    "print(emp2.salary)\n",
    "print(emp2.email)"
   ]
  },
  {
   "cell_type": "code",
   "execution_count": 28,
   "metadata": {},
   "outputs": [
    {
     "name": "stdout",
     "output_type": "stream",
     "text": [
      "10000\n"
     ]
    }
   ],
   "source": [
    "print(emp1.salary)"
   ]
  },
  {
   "cell_type": "code",
   "execution_count": 29,
   "metadata": {},
   "outputs": [
    {
     "name": "stdout",
     "output_type": "stream",
     "text": [
      "Raise salary is : 20000\n"
     ]
    }
   ],
   "source": [
    "emp1.raise_Salary=4\n",
    "emp1.raise_salary()"
   ]
  },
  {
   "cell_type": "code",
   "execution_count": 30,
   "metadata": {},
   "outputs": [
    {
     "name": "stdout",
     "output_type": "stream",
     "text": [
      "20000\n"
     ]
    }
   ],
   "source": [
    "print(emp1.salary)"
   ]
  },
  {
   "cell_type": "code",
   "execution_count": 1,
   "metadata": {},
   "outputs": [],
   "source": [
    "class student():\n",
    "    def __init__(self,fname,lname,stream,roll_no,year):\n",
    "        self.fname=fname\n",
    "        self.lname=lname\n",
    "        self.stream=stream\n",
    "        self.roll_no=roll_no\n",
    "        self.year=year\n",
    "        \n",
    "    def full_name(self):\n",
    "        fullname=self.fname+' '+self.lname\n",
    "        print(fullname)"
   ]
  },
  {
   "cell_type": "code",
   "execution_count": 2,
   "metadata": {},
   "outputs": [],
   "source": [
    "stu1=student('jayendra','mishra','bsc',53,2020)"
   ]
  },
  {
   "cell_type": "code",
   "execution_count": 3,
   "metadata": {},
   "outputs": [
    {
     "name": "stdout",
     "output_type": "stream",
     "text": [
      "jayendra mishra\n"
     ]
    }
   ],
   "source": [
    "stu1.full_name()"
   ]
  },
  {
   "cell_type": "code",
   "execution_count": 13,
   "metadata": {},
   "outputs": [],
   "source": [
    "class Employee():\n",
    "    raise_amount=3\n",
    "    def __init__(self,fname,lname,desgn,salary):\n",
    "        self.fname=fname\n",
    "        self.lname=lname \n",
    "        self.desgn=desgn \n",
    "        self.salary=salary\n",
    "    \n",
    "    def full_name(self):\n",
    "        return self.fname +' '+self.lname\n",
    "    \n",
    "    def apply_raise(self):\n",
    "        self.salary=self.salary*self.raise_amount\n",
    "        \n",
    "    @classmethod\n",
    "    \n",
    "    def set_raise_amount(cls,amount):\n",
    "        cls.raise_amount=amount\n",
    "        "
   ]
  },
  {
   "cell_type": "code",
   "execution_count": 2,
   "metadata": {},
   "outputs": [
    {
     "name": "stdout",
     "output_type": "stream",
     "text": [
      "3\n",
      "1\n",
      "6\n",
      "2.0\n"
     ]
    }
   ],
   "source": [
    "from abc import ABC,abstractmethod\n",
    "\n",
    "class cal(ABC):\n",
    "    \n",
    "    @abstractmethod\n",
    "    def add(self):\n",
    "        pass\n",
    "    \n",
    "    @abstractmethod\n",
    "    def sub(self):\n",
    "        pass\n",
    "    \n",
    "    @abstractmethod\n",
    "    def mul(self):\n",
    "        pass\n",
    "    \n",
    "    @abstractmethod\n",
    "    def div(self):\n",
    "        pass\n",
    "\n",
    "class calculation(cal):\n",
    "    def add(self):\n",
    "        print(2+1)\n",
    "    def sub(self):\n",
    "        print(2-1)\n",
    "    def mul(self):\n",
    "        print(2*3)\n",
    "    def div(self):\n",
    "        print(4/2)\n",
    "cal1=calculation()\n",
    "cal1.add()\n",
    "cal1.sub()\n",
    "cal1.mul()\n",
    "cal1.div()"
   ]
  },
  {
   "cell_type": "code",
   "execution_count": 14,
   "metadata": {},
   "outputs": [],
   "source": [
    "emp1=Employee('jayendra',\"mishra\",\"se\",10000)"
   ]
  },
  {
   "cell_type": "code",
   "execution_count": 15,
   "metadata": {},
   "outputs": [
    {
     "data": {
      "text/plain": [
       "10000"
      ]
     },
     "execution_count": 15,
     "metadata": {},
     "output_type": "execute_result"
    }
   ],
   "source": [
    "emp1.salary"
   ]
  },
  {
   "cell_type": "code",
   "execution_count": 16,
   "metadata": {},
   "outputs": [
    {
     "data": {
      "text/plain": [
       "3"
      ]
     },
     "execution_count": 16,
     "metadata": {},
     "output_type": "execute_result"
    }
   ],
   "source": [
    "emp1.raise_amount"
   ]
  },
  {
   "cell_type": "code",
   "execution_count": 17,
   "metadata": {},
   "outputs": [],
   "source": [
    "emp1.apply_raise()"
   ]
  },
  {
   "cell_type": "code",
   "execution_count": 18,
   "metadata": {},
   "outputs": [
    {
     "data": {
      "text/plain": [
       "30000"
      ]
     },
     "execution_count": 18,
     "metadata": {},
     "output_type": "execute_result"
    }
   ],
   "source": [
    "emp1.salary"
   ]
  },
  {
   "cell_type": "code",
   "execution_count": 19,
   "metadata": {},
   "outputs": [],
   "source": [
    "emp1.set_raise_amount(4)"
   ]
  },
  {
   "cell_type": "code",
   "execution_count": 20,
   "metadata": {},
   "outputs": [
    {
     "data": {
      "text/plain": [
       "30000"
      ]
     },
     "execution_count": 20,
     "metadata": {},
     "output_type": "execute_result"
    }
   ],
   "source": [
    "emp1.salary"
   ]
  },
  {
   "cell_type": "code",
   "execution_count": 26,
   "metadata": {},
   "outputs": [],
   "source": [
    "import datetime\n",
    "class Employee():\n",
    "    raise_amount=2\n",
    "    \n",
    "    def __init__(self,fname,lname,pay):\n",
    "        self.fname=fname\n",
    "        self.lname=lname\n",
    "        self.pay=pay\n",
    "    def full_name(self):\n",
    "        return fname+\" \"+lname\n",
    "    def apply_raise(self):\n",
    "        self.pay=self.pay*raise_amount\n",
    "    \n",
    "    @classmethod\n",
    "    def set_raise_amount(cls,amount):\n",
    "        cls.raise_amount=amount\n",
    "        \n",
    "    @staticmethod\n",
    "    def is_weekday(day):\n",
    "        if day.weekday()==5 or day.weekday()==6:\n",
    "            print(\"it's holiday\")\n",
    "        else:\n",
    "            print(\"it's working day\")"
   ]
  },
  {
   "cell_type": "code",
   "execution_count": 27,
   "metadata": {},
   "outputs": [],
   "source": [
    "e1=Employee(\"jayendra\",\"mishra\",5000)"
   ]
  },
  {
   "cell_type": "code",
   "execution_count": 28,
   "metadata": {},
   "outputs": [
    {
     "name": "stdout",
     "output_type": "stream",
     "text": [
      "5000\n"
     ]
    }
   ],
   "source": [
    "print(e1.pay)"
   ]
  },
  {
   "cell_type": "code",
   "execution_count": 30,
   "metadata": {},
   "outputs": [
    {
     "name": "stdout",
     "output_type": "stream",
     "text": [
      "it's working day\n"
     ]
    }
   ],
   "source": [
    "my_date=datetime.date(2020,1,20)\n",
    "e1.is_weekday(my_date)"
   ]
  },
  {
   "cell_type": "code",
   "execution_count": 1,
   "metadata": {},
   "outputs": [],
   "source": [
    "class employee():\n",
    "    def __init__(self,fname,lname,pay):\n",
    "        self.fname=fname\n",
    "        self.lname=lname\n",
    "        self.pay=pay\n",
    "\n",
    "    def full_name(self):\n",
    "        return self.fname+\" \"+self.lname\n",
    "    \n",
    "class developer(employee):\n",
    "    def __init__(self,fname,lname,pay,programer):\n",
    "        super().__init__(fname,lname,pay)\n",
    "        self.programer=programer"
   ]
  },
  {
   "cell_type": "code",
   "execution_count": 2,
   "metadata": {},
   "outputs": [],
   "source": [
    "d1=developer(\"jayendra\",\"mishra\",5000,\"python\")"
   ]
  },
  {
   "cell_type": "code",
   "execution_count": 3,
   "metadata": {},
   "outputs": [
    {
     "data": {
      "text/plain": [
       "'python'"
      ]
     },
     "execution_count": 3,
     "metadata": {},
     "output_type": "execute_result"
    }
   ],
   "source": [
    "d1.programer"
   ]
  },
  {
   "cell_type": "code",
   "execution_count": 4,
   "metadata": {},
   "outputs": [
    {
     "data": {
      "text/plain": [
       "'jayendra mishra'"
      ]
     },
     "execution_count": 4,
     "metadata": {},
     "output_type": "execute_result"
    }
   ],
   "source": [
    "d1.full_name()"
   ]
  },
  {
   "cell_type": "markdown",
   "metadata": {},
   "source": [
    "# Example:2"
   ]
  },
  {
   "cell_type": "code",
   "execution_count": 17,
   "metadata": {},
   "outputs": [],
   "source": [
    "class Person:\n",
    "    def __init__(self,fname,lname,age):\n",
    "        self.fname=fname\n",
    "        self.lname=lname\n",
    "        self.age=age\n",
    "        \n",
    "    def display(self):\n",
    "        print(\"your Full name is:\",self.fname+' '+self.lname)\n",
    "        print(\"your age is:\",self.age)\n",
    "        \n",
    "class Location(Person):\n",
    "    def __init__(self,fname,lname,age,location):\n",
    "        Person.__init__(self,fname,lname,age)\n",
    "        self.location=location"
   ]
  },
  {
   "cell_type": "code",
   "execution_count": 21,
   "metadata": {},
   "outputs": [],
   "source": [
    "data1=Location(\"jayendra\",\"mishra\",20,\"bhandup\")"
   ]
  },
  {
   "cell_type": "code",
   "execution_count": 22,
   "metadata": {},
   "outputs": [
    {
     "name": "stdout",
     "output_type": "stream",
     "text": [
      "your Full name is: jayendra mishra\n",
      "your age is: 20\n"
     ]
    }
   ],
   "source": [
    "data1.display()"
   ]
  },
  {
   "cell_type": "code",
   "execution_count": 26,
   "metadata": {},
   "outputs": [],
   "source": [
    "class Parent:\n",
    "    def __init__(self):\n",
    "        print(\"I am parent!!!\")\n",
    "        \n",
    "class child1:\n",
    "    def __init__(self):\n",
    "        print(\"I am child1!!!\")\n",
    "        \n",
    "class child2:\n",
    "    def __init__(self):\n",
    "        child1.__init__(self)\n",
    "        Parent.__init__(self)\n",
    "    \n",
    "    def parent_data(self):\n",
    "        print(\"I am child2!!!\")\n"
   ]
  },
  {
   "cell_type": "code",
   "execution_count": 27,
   "metadata": {},
   "outputs": [
    {
     "name": "stdout",
     "output_type": "stream",
     "text": [
      "I am child1!!!\n",
      "I am parent!!!\n"
     ]
    }
   ],
   "source": [
    "ch2=child2()"
   ]
  },
  {
   "cell_type": "code",
   "execution_count": 28,
   "metadata": {},
   "outputs": [
    {
     "name": "stdout",
     "output_type": "stream",
     "text": [
      "I am child2!!!\n"
     ]
    }
   ],
   "source": [
    "ch2.parent_data()"
   ]
  },
  {
   "cell_type": "code",
   "execution_count": 1,
   "metadata": {},
   "outputs": [],
   "source": [
    "class Grandfather:\n",
    "    def __init__(self):\n",
    "        print(\"i am grandfather\")\n",
    "        \n",
    "class Father(Grandfather):\n",
    "    def __init__(self,name,age):\n",
    "        Grandfather.__init__(self)\n",
    "        self.name=name\n",
    "        self.age=age\n",
    "        print(\"i am father\")\n",
    "        \n",
    "    def display(self):\n",
    "        print(self.name,self.age)\n",
    "        \n",
    "class Grandchild(Father):\n",
    "    def __init__(self,name,age,address):\n",
    "        Father.__init__(self,name,age)\n",
    "        self.address=address\n",
    "        \n",
    "        def disp_add(self):\n",
    "            return self.address"
   ]
  },
  {
   "cell_type": "code",
   "execution_count": 2,
   "metadata": {},
   "outputs": [
    {
     "name": "stdout",
     "output_type": "stream",
     "text": [
      "i am grandfather\n",
      "i am father\n"
     ]
    }
   ],
   "source": [
    "g=Grandchild(\"jayendra\",20,\"mumbai\")"
   ]
  },
  {
   "cell_type": "code",
   "execution_count": 3,
   "metadata": {},
   "outputs": [
    {
     "name": "stdout",
     "output_type": "stream",
     "text": [
      "jayendra 20\n"
     ]
    }
   ],
   "source": [
    "g.display()"
   ]
  },
  {
   "cell_type": "markdown",
   "metadata": {},
   "source": [
    "# Hierarchical Inheritance"
   ]
  },
  {
   "cell_type": "code",
   "execution_count": 12,
   "metadata": {},
   "outputs": [],
   "source": [
    "class Parent:\n",
    "    def fun1(self):\n",
    "        print(\"i am parent\")\n",
    "        \n",
    "class Child1(Parent):\n",
    "    def fun2(self):\n",
    "        print(\"i am child1\")\n",
    "        \n",
    "class Child2(Parent):\n",
    "    def fun3(self):\n",
    "        print(\"i am child2\")"
   ]
  },
  {
   "cell_type": "code",
   "execution_count": 13,
   "metadata": {},
   "outputs": [],
   "source": [
    "obj1=Child1()"
   ]
  },
  {
   "cell_type": "code",
   "execution_count": 14,
   "metadata": {},
   "outputs": [],
   "source": [
    "obj2=Child2()"
   ]
  },
  {
   "cell_type": "code",
   "execution_count": 16,
   "metadata": {},
   "outputs": [
    {
     "name": "stdout",
     "output_type": "stream",
     "text": [
      "i am parent\n"
     ]
    }
   ],
   "source": [
    "obj1.fun1()"
   ]
  },
  {
   "cell_type": "code",
   "execution_count": 18,
   "metadata": {},
   "outputs": [
    {
     "name": "stdout",
     "output_type": "stream",
     "text": [
      "i am child1\n"
     ]
    }
   ],
   "source": [
    "obj1.fun2()"
   ]
  },
  {
   "cell_type": "code",
   "execution_count": 19,
   "metadata": {},
   "outputs": [
    {
     "name": "stdout",
     "output_type": "stream",
     "text": [
      "i am parent\n"
     ]
    }
   ],
   "source": [
    "obj2.fun1()"
   ]
  },
  {
   "cell_type": "code",
   "execution_count": 20,
   "metadata": {},
   "outputs": [
    {
     "name": "stdout",
     "output_type": "stream",
     "text": [
      "i am child2\n"
     ]
    }
   ],
   "source": [
    "obj2.fun3()"
   ]
  },
  {
   "cell_type": "markdown",
   "metadata": {},
   "source": [
    "# Hybrid Inheritance"
   ]
  },
  {
   "cell_type": "code",
   "execution_count": 21,
   "metadata": {},
   "outputs": [],
   "source": [
    "class Parent:\n",
    "    def fun1(self):\n",
    "        print(\"i am parent\")\n",
    "        \n",
    "class Child1(Parent):\n",
    "    def fun2(self):\n",
    "        print(\"i am child1\")\n",
    "        \n",
    "class Child3(Child2,Parent):\n",
    "    def fun4(self):\n",
    "        print(\"i am child3\")\n",
    "        \n",
    "class Child2(Parent):\n",
    "    def fun3(self):\n",
    "        print(\"i am child2\")\n",
    "        \n",
    "class Child3(Child2,Parent):\n",
    "    def fun4(self):\n",
    "        print(\"i am child3\")"
   ]
  },
  {
   "cell_type": "code",
   "execution_count": 22,
   "metadata": {},
   "outputs": [],
   "source": [
    "obj1=Child3()"
   ]
  },
  {
   "cell_type": "code",
   "execution_count": 23,
   "metadata": {},
   "outputs": [
    {
     "name": "stdout",
     "output_type": "stream",
     "text": [
      "i am parent\n"
     ]
    }
   ],
   "source": [
    "obj1.fun1()"
   ]
  },
  {
   "cell_type": "code",
   "execution_count": 24,
   "metadata": {},
   "outputs": [
    {
     "name": "stdout",
     "output_type": "stream",
     "text": [
      "i am child2\n"
     ]
    }
   ],
   "source": [
    "obj1.fun3()"
   ]
  },
  {
   "cell_type": "code",
   "execution_count": 25,
   "metadata": {},
   "outputs": [
    {
     "name": "stdout",
     "output_type": "stream",
     "text": [
      "i am child3\n"
     ]
    }
   ],
   "source": [
    "obj1.fun4()"
   ]
  },
  {
   "cell_type": "markdown",
   "metadata": {},
   "source": [
    "# Polymorphism"
   ]
  },
  {
   "cell_type": "markdown",
   "metadata": {},
   "source": [
    "class India:\n",
    "    def capital(self):\n",
    "        print(\"Delhi is capital of india\")\n",
    "    def language(self):\n",
    "        print(\"Hindi is commom language in india\")\n",
    "    def economic(self):\n",
    "        print(\"India is fastest growing economic\")\n",
    "        \n",
    "class Germany:\n",
    "    def capital(self):\n",
    "        print(\"Berline is capital of germany\")\n",
    "    def language(self):\n",
    "        print(\"English is commom language in germany\")\n",
    "    def economic(self):\n",
    "        print(\"Germany is leading economic\")"
   ]
  },
  {
   "cell_type": "code",
   "execution_count": 3,
   "metadata": {},
   "outputs": [],
   "source": [
    "ind=India()\n",
    "ger=Germany()"
   ]
  },
  {
   "cell_type": "code",
   "execution_count": 5,
   "metadata": {},
   "outputs": [
    {
     "name": "stdout",
     "output_type": "stream",
     "text": [
      "Delhi is capital of india\n",
      "Berline is capital of germany\n",
      "Hindi is commom language in india\n",
      "English is commom language in germany\n",
      "India is fastest growing economic\n",
      "Germany is leading economic\n"
     ]
    }
   ],
   "source": [
    "ind.capital()\n",
    "ger.capital()\n",
    "ind.language()\n",
    "ger.language()\n",
    "ind.economic()\n",
    "ger.economic()"
   ]
  },
  {
   "cell_type": "markdown",
   "metadata": {},
   "source": [
    "# Polymorphism with Inheritance"
   ]
  },
  {
   "cell_type": "code",
   "execution_count": 8,
   "metadata": {},
   "outputs": [],
   "source": [
    "class Mobile:\n",
    "    def brand_value(self):\n",
    "        print(\"All company a don't have brand value of trillion dollar\")\n",
    "class Apple:\n",
    "    def name(self):\n",
    "        print(\"Name of the company is Apple\")\n",
    "    def brand_value(self):\n",
    "        print(\"Apple company have brand value of trillion dollar\")\n",
    "class Mi:\n",
    "    def name(self):\n",
    "        print(\"Name of the company is mi\")\n",
    "    def brand_value(self):\n",
    "        print(\"Mi company don't have brand value of trillion dollar\")"
   ]
  },
  {
   "cell_type": "code",
   "execution_count": 10,
   "metadata": {},
   "outputs": [],
   "source": [
    "mobile=Mobile()\n",
    "apple=Apple()\n",
    "mi=Mi()"
   ]
  },
  {
   "cell_type": "code",
   "execution_count": 13,
   "metadata": {},
   "outputs": [
    {
     "name": "stdout",
     "output_type": "stream",
     "text": [
      "All company a don't have brand value of trillion dollar\n",
      "Apple company have brand value of trillion dollar\n",
      "Mi company don't have brand value of trillion dollar\n"
     ]
    }
   ],
   "source": [
    "mobile.brand_value()\n",
    "apple.brand_value()\n",
    "mi.brand_value()"
   ]
  },
  {
   "cell_type": "markdown",
   "metadata": {},
   "source": [
    "# Method overriding"
   ]
  },
  {
   "cell_type": "code",
   "execution_count": 14,
   "metadata": {},
   "outputs": [],
   "source": [
    "class Vehicle:\n",
    "    def vehicle(self):\n",
    "        print(\"there are many type of vehicle\")\n",
    "    def speed(self):\n",
    "        print(\" they have diffrent speed\")\n",
    "        \n",
    "class car(Vehicle):\n",
    "    def speed(self):\n",
    "        print(\"speed of car is 500 kmhr\")\n",
    "\n",
    "class bike(Vehicle):\n",
    "    def speed(self):\n",
    "        print(\"speed of bike is 200 kmhr\")\n",
    "        \n",
    "class cycle(Vehicle):\n",
    "    def speed(self):\n",
    "        print(\"speed of cycle is 40 kmhr\")"
   ]
  },
  {
   "cell_type": "code",
   "execution_count": 15,
   "metadata": {},
   "outputs": [],
   "source": [
    "v1=Vehicle()\n",
    "c1=car()\n",
    "b1=bike()\n",
    "c2=cycle()"
   ]
  },
  {
   "cell_type": "code",
   "execution_count": 17,
   "metadata": {},
   "outputs": [
    {
     "name": "stdout",
     "output_type": "stream",
     "text": [
      "speed of cycle is 40 kmhr\n"
     ]
    }
   ],
   "source": [
    "c2.speed()"
   ]
  },
  {
   "cell_type": "markdown",
   "metadata": {},
   "source": [
    "# Method Overloading"
   ]
  },
  {
   "cell_type": "code",
   "execution_count": 6,
   "metadata": {},
   "outputs": [],
   "source": [
    "# Python don't support method overloading.It is interpreted language"
   ]
  },
  {
   "cell_type": "code",
   "execution_count": 2,
   "metadata": {},
   "outputs": [],
   "source": [
    "def add(a,b):\n",
    "    res =a+b\n",
    "    print(res)"
   ]
  },
  {
   "cell_type": "code",
   "execution_count": 3,
   "metadata": {},
   "outputs": [],
   "source": [
    "def add(a,b,c):\n",
    "    res =a+b+c\n",
    "    print(res)"
   ]
  },
  {
   "cell_type": "code",
   "execution_count": 5,
   "metadata": {},
   "outputs": [
    {
     "name": "stdout",
     "output_type": "stream",
     "text": [
      "6\n"
     ]
    }
   ],
   "source": [
    "add(1,2,3)"
   ]
  },
  {
   "cell_type": "markdown",
   "metadata": {},
   "source": [
    "# Encapsulation"
   ]
  },
  {
   "cell_type": "code",
   "execution_count": 3,
   "metadata": {},
   "outputs": [],
   "source": [
    "#we have to call the protected variable by using \"_\" .Without \"_\" it will show error."
   ]
  },
  {
   "cell_type": "code",
   "execution_count": 1,
   "metadata": {},
   "outputs": [],
   "source": [
    "class Base:\n",
    "    def __init__(self):\n",
    "        self._a=2  #protected variable\n",
    "class Derived(Base):\n",
    "    def __init__(self):\n",
    "        Base.__init__(self)\n",
    "        print(\"calling protected member of base class\")\n",
    "        print(self._a)"
   ]
  },
  {
   "cell_type": "code",
   "execution_count": 2,
   "metadata": {},
   "outputs": [
    {
     "name": "stdout",
     "output_type": "stream",
     "text": [
      "2\n",
      "calling protected member of base class\n",
      "2\n"
     ]
    }
   ],
   "source": [
    "b=Base()\n",
    "print(b._a)\n",
    "d=Derived()"
   ]
  },
  {
   "cell_type": "code",
   "execution_count": 1,
   "metadata": {},
   "outputs": [],
   "source": [
    "class Car:\n",
    "    def __init__(self):\n",
    "        self.__updatedcar()\n",
    "    def drive(self):\n",
    "        print(\"the car is driving\")\n",
    "    def __updatedcar(self):\n",
    "        print(\"updating software\")"
   ]
  },
  {
   "cell_type": "code",
   "execution_count": 5,
   "metadata": {},
   "outputs": [
    {
     "name": "stdout",
     "output_type": "stream",
     "text": [
      "updating software\n"
     ]
    }
   ],
   "source": [
    "obj=Car()"
   ]
  },
  {
   "cell_type": "code",
   "execution_count": 2,
   "metadata": {},
   "outputs": [],
   "source": [
    "class Vehicle:\n",
    "    \n",
    "    __maxspeed=0\n",
    "    __name=\"\"\n",
    "    \n",
    "    def __init__(self):\n",
    "        self.__maxspeed=350\n",
    "        self.__name=\"BMW\"\n",
    "        \n",
    "    def drive_detail(self):\n",
    "        print(\"Car name is \",self.__name,\"Speed is \",self.__maxspeed)"
   ]
  },
  {
   "cell_type": "code",
   "execution_count": 3,
   "metadata": {},
   "outputs": [],
   "source": [
    "obj=Vehicle()"
   ]
  },
  {
   "cell_type": "code",
   "execution_count": 4,
   "metadata": {},
   "outputs": [
    {
     "name": "stdout",
     "output_type": "stream",
     "text": [
      "Car name is  BMW Speed is  350\n"
     ]
    }
   ],
   "source": [
    "obj.drive_detail()"
   ]
  },
  {
   "cell_type": "markdown",
   "metadata": {},
   "source": [
    "## Decorators"
   ]
  },
  {
   "cell_type": "code",
   "execution_count": 31,
   "metadata": {},
   "outputs": [
    {
     "name": "stdout",
     "output_type": "stream",
     "text": [
      "Hello\n",
      "Hello\n"
     ]
    }
   ],
   "source": [
    "def first(msg):\n",
    "    print(msg)\n",
    "\n",
    "\n",
    "first(\"Hello\")\n",
    "\n",
    "second = first\n",
    "second(\"Hello\")"
   ]
  },
  {
   "cell_type": "code",
   "execution_count": 1,
   "metadata": {},
   "outputs": [
    {
     "name": "stdout",
     "output_type": "stream",
     "text": [
      "HI, I AM CREATED BY A FUNCTION PASSED AS AN ARGUMENT.\n",
      "hi, i am created by a function passed as an argument.\n"
     ]
    }
   ],
   "source": [
    "def shout(text):\n",
    "\treturn text.upper()\n",
    "\n",
    "def whisper(text):\n",
    "\treturn text.lower()\n",
    "\n",
    "def greet(func):\n",
    "\tgreeting = func(\"\"\"Hi, I am created by a function passed as an argument.\"\"\")\n",
    "\tprint (greeting)\n",
    "\n",
    "greet(shout)\n",
    "greet(whisper)\n"
   ]
  },
  {
   "cell_type": "code",
   "execution_count": 1,
   "metadata": {},
   "outputs": [
    {
     "name": "stdout",
     "output_type": "stream",
     "text": [
      "5\n",
      "1\n"
     ]
    }
   ],
   "source": [
    "def add(a,b):\n",
    "    return (a+b)\n",
    "\n",
    "def sub(a,b):\n",
    "    return (a-b)\n",
    "    \n",
    "def cal(value):\n",
    "    a=3;b=2\n",
    "    calc=value(a,b)\n",
    "    print(calc)\n",
    "    \n",
    "cal(add)\n",
    "cal(sub)"
   ]
  },
  {
   "cell_type": "markdown",
   "metadata": {},
   "source": [
    "## Generator"
   ]
  },
  {
   "cell_type": "code",
   "execution_count": 3,
   "metadata": {},
   "outputs": [
    {
     "name": "stdout",
     "output_type": "stream",
     "text": [
      "<generator object top at 0x000002516B1B6A50>\n",
      "value is :  5\n"
     ]
    }
   ],
   "source": [
    "def top():\n",
    "    yield 5\n",
    "\n",
    "value=top()\n",
    "print(value)\n",
    "print(\"value is : \",value.__next__())"
   ]
  },
  {
   "cell_type": "code",
   "execution_count": 2,
   "metadata": {},
   "outputs": [
    {
     "name": "stdout",
     "output_type": "stream",
     "text": [
      "a\n",
      "e\n",
      "i\n",
      "o\n",
      "u\n"
     ]
    }
   ],
   "source": [
    "def vowels():\n",
    "    yield \"a\"\n",
    "    yield \"e\"\n",
    "    yield \"i\"\n",
    "    yield \"o\"\n",
    "    yield \"u\"\n",
    "\n",
    "for i in vowels():\n",
    "    print(i)"
   ]
  },
  {
   "cell_type": "code",
   "execution_count": 4,
   "metadata": {},
   "outputs": [
    {
     "name": "stdout",
     "output_type": "stream",
     "text": [
      "0\n",
      "1\n",
      "4\n",
      "9\n",
      "16\n",
      "25\n",
      "36\n",
      "49\n",
      "64\n",
      "81\n",
      "100\n"
     ]
    }
   ],
   "source": [
    "def square():\n",
    "    for a in range(0,11):\n",
    "        sq=a**2\n",
    "        yield sq\n",
    "        \n",
    "value=square()\n",
    "\n",
    "for i in value:\n",
    "    print(i)"
   ]
  },
  {
   "cell_type": "markdown",
   "metadata": {},
   "source": [
    "## Getter and Setter"
   ]
  },
  {
   "cell_type": "code",
   "execution_count": 3,
   "metadata": {},
   "outputs": [
    {
     "name": "stdout",
     "output_type": "stream",
     "text": [
      "setter method called\n",
      "getter method called\n",
      "19\n"
     ]
    }
   ],
   "source": [
    "class Geeks:\n",
    "\tdef __init__(self):\n",
    "\t\tself._age = 0\n",
    "        \n",
    "\t@property\n",
    "\tdef age(self):\n",
    "\t\tprint(\"getter method called\")\n",
    "\t\treturn self._age\n",
    "\n",
    "\t@age.setter\n",
    "\tdef age(self, a):\n",
    "\t\tif(a < 18):\n",
    "\t\t\traise ValueError(\"Sorry you age is below eligibility criteria\")\n",
    "\t\tprint(\"setter method called\")\n",
    "\t\tself._age = a\n",
    "\n",
    "mark = Geeks()\n",
    "\n",
    "mark.age = 19\n",
    "\n",
    "print(mark.age)\n"
   ]
  }
 ],
 "metadata": {
  "kernelspec": {
   "display_name": "Python 3",
   "language": "python",
   "name": "python3"
  },
  "language_info": {
   "codemirror_mode": {
    "name": "ipython",
    "version": 3
   },
   "file_extension": ".py",
   "mimetype": "text/x-python",
   "name": "python",
   "nbconvert_exporter": "python",
   "pygments_lexer": "ipython3",
   "version": "3.8.5"
  }
 },
 "nbformat": 4,
 "nbformat_minor": 2
}

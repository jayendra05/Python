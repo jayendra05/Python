{
 "cells": [
  {
   "cell_type": "code",
   "execution_count": 20,
   "metadata": {},
   "outputs": [],
   "source": [
    "# Thread=smallest process for processor..."
   ]
  },
  {
   "cell_type": "code",
   "execution_count": 23,
   "metadata": {},
   "outputs": [
    {
     "name": "stdout",
     "output_type": "stream",
     "text": [
      "hello\n",
      "hello\n",
      "hello\n",
      "hello\n",
      "hello\n",
      "hi\n",
      "hi\n",
      "hi\n",
      "hi\n",
      "hi\n"
     ]
    }
   ],
   "source": [
    "class Test():\n",
    "    def run(self):\n",
    "        for i in range(1,6):\n",
    "            print(\"hello\")\n",
    "class demo():\n",
    "    def run(self):\n",
    "        for i in range(1,6):\n",
    "            print(\"hi\")\n",
    "t1=Test()\n",
    "d1=demo()\n",
    "\n",
    "t1.run()\n",
    "d1.run()"
   ]
  },
  {
   "cell_type": "code",
   "execution_count": 22,
   "metadata": {},
   "outputs": [
    {
     "name": "stdout",
     "output_type": "stream",
     "text": [
      "------------Thread start here-----------\n",
      "hello\n",
      "hihello\n",
      "hello\n",
      "\n",
      "hi\n",
      "hi\n",
      "hihello\n",
      "hello\n",
      "\n",
      "hi\n"
     ]
    }
   ],
   "source": [
    "from threading import *\n",
    "class Test(Thread):\n",
    "    def run(self):\n",
    "        for i in range(1,6):\n",
    "            print(\"hello\")\n",
    "class demo(Thread):\n",
    "    def run(self):\n",
    "        for i in range(1,6):\n",
    "            print(\"hi\")\n",
    "t1=Test()\n",
    "d1=demo()\n",
    "\n",
    "# t1.run()\n",
    "# d1.run()\n",
    "print(\"------------Thread start here-----------\")\n",
    "t1.start()\n",
    "d1.start()"
   ]
  },
  {
   "cell_type": "code",
   "execution_count": null,
   "metadata": {},
   "outputs": [],
   "source": []
  }
 ],
 "metadata": {
  "kernelspec": {
   "display_name": "Python 3",
   "language": "python",
   "name": "python3"
  },
  "language_info": {
   "codemirror_mode": {
    "name": "ipython",
    "version": 3
   },
   "file_extension": ".py",
   "mimetype": "text/x-python",
   "name": "python",
   "nbconvert_exporter": "python",
   "pygments_lexer": "ipython3",
   "version": "3.8.5"
  }
 },
 "nbformat": 4,
 "nbformat_minor": 2
}
